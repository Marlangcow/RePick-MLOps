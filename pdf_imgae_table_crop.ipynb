{
 "cells": [
  {
   "cell_type": "code",
   "execution_count": 9,
   "metadata": {},
   "outputs": [
    {
     "name": "stderr",
     "output_type": "stream",
     "text": [
      "Python-dotenv could not parse statement starting at line 7\n",
      "Python-dotenv could not parse statement starting at line 9\n",
      "Python-dotenv could not parse statement starting at line 11\n",
      "Python-dotenv could not parse statement starting at line 13\n",
      "Python-dotenv could not parse statement starting at line 14\n",
      "Python-dotenv could not parse statement starting at line 15\n"
     ]
    },
    {
     "data": {
      "text/plain": [
       "True"
      ]
     },
     "execution_count": 9,
     "metadata": {},
     "output_type": "execute_result"
    }
   ],
   "source": [
    "# API KEY를 환경변수로 관리하기 위한 설정 파일\n",
    "from dotenv import load_dotenv\n",
    "\n",
    "# API KEY 정보로드\n",
    "load_dotenv()"
   ]
  },
  {
   "cell_type": "code",
   "execution_count": 10,
   "metadata": {},
   "outputs": [
    {
     "name": "stdout",
     "output_type": "stream",
     "text": [
      "LangSmith 추적을 시작합니다.\n",
      "[프로젝트명]\n",
      "pdf_image_loader\n"
     ]
    }
   ],
   "source": [
    "# LangSmith 추적을 설정합니다. https://smith.langchain.com\n",
    "from langchain_teddynote import logging\n",
    "\n",
    "# 프로젝트 이름을 입력합니다.\n",
    "logging.langsmith(\"pdf_image_loader\")"
   ]
  },
  {
   "cell_type": "code",
   "execution_count": 11,
   "metadata": {},
   "outputs": [
    {
     "name": "stderr",
     "output_type": "stream",
     "text": [
      "WARNING: Ignoring invalid distribution ~ransformers (C:\\Users\\user\\AppData\\Roaming\\Python\\Python311\\site-packages)\n",
      "WARNING: Ignoring invalid distribution ~ransformers (C:\\Users\\user\\AppData\\Roaming\\Python\\Python311\\site-packages)\n",
      "WARNING: Ignoring invalid distribution ~ransformers (C:\\Users\\user\\AppData\\Roaming\\Python\\Python311\\site-packages)\n",
      "WARNING: Ignoring invalid distribution ~ransformers (C:\\Users\\user\\AppData\\Roaming\\Python\\Python311\\site-packages)\n",
      "WARNING: Ignoring invalid distribution ~ransformers (C:\\Users\\user\\AppData\\Roaming\\Python\\Python311\\site-packages)\n"
     ]
    }
   ],
   "source": [
    "!pip install -qU langchain-teddynote"
   ]
  },
  {
   "cell_type": "markdown",
   "metadata": {},
   "source": [
    "## 저장할 State 정의"
   ]
  },
  {
   "cell_type": "code",
   "execution_count": 12,
   "metadata": {},
   "outputs": [],
   "source": [
    "from typing import TypedDict\n",
    "\n",
    "\n",
    "# GraphState 상태를 저장하는 용도로 사용합니다.\n",
    "class GraphState(TypedDict):\n",
    "    filepath: str  # path\n",
    "    filetype: str  # pdf\n",
    "    page_numbers: list[int]  # page numbers\n",
    "    batch_size: int  # batch size\n",
    "    split_filepaths: list[str]  # split files\n",
    "    analyzed_files: list[str]  # analyzed files\n",
    "    page_elements: dict[int, dict[str, list[dict]]]  # page elements\n",
    "    page_metadata: dict[int, dict]  # page metadata\n",
    "    page_summary: dict[int, str]  # page summary\n",
    "    images: list[str]  # image paths\n",
    "    images_summary: list[str]  # image summary\n",
    "    tables: list[str]  # table\n",
    "    tables_summary: dict[int, str]  # table summary\n",
    "    texts: list[str]  # text\n",
    "    texts_summary: list[str]  # text summary"
   ]
  },
  {
   "cell_type": "markdown",
   "metadata": {},
   "source": [
    "## 문서를 배치 단위로 분할(10 page)"
   ]
  },
  {
   "cell_type": "code",
   "execution_count": 13,
   "metadata": {},
   "outputs": [],
   "source": [
    "import os\n",
    "import pymupdf\n",
    "import json\n",
    "import requests\n",
    "from PIL import Image"
   ]
  },
  {
   "cell_type": "code",
   "execution_count": 14,
   "metadata": {},
   "outputs": [],
   "source": [
    "def split_pdf(state: GraphState):\n",
    "    \"\"\"\n",
    "    입력 PDF를 여러 개의 작은 PDF 파일로 분할합니다.\n",
    "\n",
    "    :param state: GraphState 객체, PDF 파일 경로와 배치 크기 정보를 포함\n",
    "    :return: 분할된 PDF 파일 경로 목록을 포함한 GraphState 객체\n",
    "    \"\"\"\n",
    "    # PDF 파일 경로와 배치 크기 추출\n",
    "    filepath = state[\"filepath\"]\n",
    "    batch_size = state[\"batch_size\"]\n",
    "\n",
    "    # PDF 파일 열기\n",
    "    input_pdf = pymupdf.open(filepath)\n",
    "    num_pages = len(input_pdf)\n",
    "    print(f\"총 페이지 수: {num_pages}\")\n",
    "\n",
    "    ret = []\n",
    "    # PDF 분할 작업 시작\n",
    "    for start_page in range(0, num_pages, batch_size):\n",
    "        # 배치의 마지막 페이지 계산 (전체 페이지 수를 초과하지 않도록)\n",
    "        end_page = min(start_page + batch_size, num_pages) - 1\n",
    "\n",
    "        # 분할된 PDF 파일명 생성\n",
    "        input_file_basename = os.path.splitext(filepath)[0]\n",
    "        output_file = f\"{input_file_basename}_{start_page:04d}_{end_page:04d}.pdf\"\n",
    "        print(f\"분할 PDF 생성: {output_file}\")\n",
    "\n",
    "        # 새로운 PDF 파일 생성 및 페이지 삽입\n",
    "        with pymupdf.open() as output_pdf:\n",
    "            output_pdf.insert_pdf(input_pdf, from_page=start_page, to_page=end_page)\n",
    "            output_pdf.save(output_file)\n",
    "            ret.append(output_file)\n",
    "\n",
    "    # 원본 PDF 파일 닫기\n",
    "    input_pdf.close()\n",
    "\n",
    "    # 분할된 PDF 파일 경로 목록을 포함한 GraphState 객체 반환\n",
    "    return GraphState(split_filepaths=ret)"
   ]
  },
  {
   "cell_type": "markdown",
   "metadata": {},
   "source": [
    "## state 등록"
   ]
  },
  {
   "cell_type": "code",
   "execution_count": 15,
   "metadata": {},
   "outputs": [
    {
     "name": "stdout",
     "output_type": "stream",
     "text": [
      "총 페이지 수: 5\n",
      "분할 PDF 생성: data/20241121_company_54055000_0000_0000.pdf\n",
      "분할 PDF 생성: data/20241121_company_54055000_0001_0001.pdf\n",
      "분할 PDF 생성: data/20241121_company_54055000_0002_0002.pdf\n",
      "분할 PDF 생성: data/20241121_company_54055000_0003_0003.pdf\n",
      "분할 PDF 생성: data/20241121_company_54055000_0004_0004.pdf\n"
     ]
    },
    {
     "data": {
      "text/plain": [
       "{'filepath': 'data/20241121_company_54055000.pdf',\n",
       " 'batch_size': 1,\n",
       " 'split_filepaths': ['data/20241121_company_54055000_0000_0000.pdf',\n",
       "  'data/20241121_company_54055000_0001_0001.pdf',\n",
       "  'data/20241121_company_54055000_0002_0002.pdf',\n",
       "  'data/20241121_company_54055000_0003_0003.pdf',\n",
       "  'data/20241121_company_54055000_0004_0004.pdf']}"
      ]
     },
     "execution_count": 15,
     "metadata": {},
     "output_type": "execute_result"
    }
   ],
   "source": [
    "state = GraphState(filepath=\"data/20241121_company_54055000.pdf\", batch_size=1)\n",
    "state_out = split_pdf(state)\n",
    "state.update(state_out)\n",
    "state"
   ]
  },
  {
   "cell_type": "markdown",
   "metadata": {},
   "source": [
    "## Layout Analyzer를 사용하여 문서를 element 단위로 분할"
   ]
  },
  {
   "cell_type": "code",
   "execution_count": 16,
   "metadata": {},
   "outputs": [],
   "source": [
    "class LayoutAnalyzer:\n",
    "    def __init__(self, api_key):\n",
    "        \"\"\"\n",
    "        LayoutAnalyzer 클래스의 생성자\n",
    "\n",
    "        :param api_key: Upstage API 인증을 위한 API 키\n",
    "        \"\"\"\n",
    "        self.api_key = api_key\n",
    "\n",
    "    def _upstage_layout_analysis(self, input_file):\n",
    "        \"\"\"\n",
    "        Upstage의 레이아웃 분석 API를 호출하여 문서 분석을 수행합니다.\n",
    "\n",
    "        :param input_file: 분석할 PDF 파일의 경로\n",
    "        :return: 분석 결과가 저장된 JSON 파일의 경로\n",
    "        \"\"\"\n",
    "        # API 요청 헤더 설정\n",
    "        headers = {\"Authorization\": f\"Bearer {self.api_key}\"}\n",
    "\n",
    "        # API 요청 데이터 설정 (OCR 비활성화)\n",
    "        data = {\"ocr\": True}\n",
    "\n",
    "        # 분석할 PDF 파일 열기\n",
    "        files = {\"document\": open(input_file, \"rb\")}\n",
    "\n",
    "        # API 요청 보내기\n",
    "        response = requests.post(\n",
    "            \"https://api.upstage.ai/v1/document-ai/layout-analysis\",\n",
    "            headers=headers,\n",
    "            data=data,\n",
    "            files=files,\n",
    "        )\n",
    "\n",
    "        # API 응답 처리 및 결과 저장\n",
    "        if response.status_code == 200:\n",
    "            # 분석 결과를 저장할 JSON 파일 경로 생성\n",
    "            output_file = os.path.splitext(input_file)[0] + \".json\"\n",
    "\n",
    "            # 분석 결과를 JSON 파일로 저장\n",
    "            with open(output_file, \"w\") as f:\n",
    "                json.dump(response.json(), f, ensure_ascii=False)\n",
    "\n",
    "            return output_file\n",
    "        else:\n",
    "            # API 요청이 실패한 경우 예외 발생\n",
    "            raise ValueError(f\"API 요청 실패. 상태 코드: {response.status_code}\")\n",
    "\n",
    "    def execute(self, input_file):\n",
    "        \"\"\"\n",
    "        주어진 입력 파일에 대해 레이아웃 분석을 실행합니다.\n",
    "\n",
    "        :param input_file: 분석할 PDF 파일의 경로\n",
    "        :return: 분석 결과가 저장된 JSON 파일의 경로\n",
    "        \"\"\"\n",
    "        return self._upstage_layout_analysis(input_file)"
   ]
  },
  {
   "cell_type": "code",
   "execution_count": 17,
   "metadata": {},
   "outputs": [],
   "source": [
    "def analyze_layout(state: GraphState):\n",
    "    # 분할된 PDF 파일 목록을 가져옵니다.\n",
    "    split_files = state[\"split_filepaths\"]\n",
    "\n",
    "    # LayoutAnalyzer 객체를 생성합니다. API 키는 환경 변수에서 가져옵니다.\n",
    "    analyzer = LayoutAnalyzer(os.environ.get(\"UPSTAGE_API_KEY\"))\n",
    "\n",
    "    # 분석된 파일들의 경로를 저장할 리스트를 초기화합니다.\n",
    "    analyzed_files = []\n",
    "\n",
    "    # 각 분할된 PDF 파일에 대해 레이아웃 분석을 수행합니다.\n",
    "    for file in split_files:\n",
    "        # 레이아웃 분석을 실행하고 결과 파일 경로를 리스트에 추가합니다.\n",
    "        analyzed_files.append(analyzer.execute(file))\n",
    "\n",
    "    # 분석된 파일 경로들을 정렬하여 새로운 GraphState 객체를 생성하고 반환합니다.\n",
    "    # 정렬은 파일들의 순서를 유지하기 위해 수행됩니다.\n",
    "    return GraphState(analyzed_files=sorted(analyzed_files))"
   ]
  },
  {
   "cell_type": "code",
   "execution_count": 18,
   "metadata": {},
   "outputs": [
    {
     "data": {
      "text/plain": [
       "{'filepath': 'data/20241121_company_54055000.pdf',\n",
       " 'batch_size': 1,\n",
       " 'split_filepaths': ['data/20241121_company_54055000_0000_0000.pdf',\n",
       "  'data/20241121_company_54055000_0001_0001.pdf',\n",
       "  'data/20241121_company_54055000_0002_0002.pdf',\n",
       "  'data/20241121_company_54055000_0003_0003.pdf',\n",
       "  'data/20241121_company_54055000_0004_0004.pdf'],\n",
       " 'analyzed_files': ['data/20241121_company_54055000_0000_0000.json',\n",
       "  'data/20241121_company_54055000_0001_0001.json',\n",
       "  'data/20241121_company_54055000_0002_0002.json',\n",
       "  'data/20241121_company_54055000_0003_0003.json',\n",
       "  'data/20241121_company_54055000_0004_0004.json']}"
      ]
     },
     "execution_count": 18,
     "metadata": {},
     "output_type": "execute_result"
    }
   ],
   "source": [
    "state_out = analyze_layout(state)\n",
    "state.update(state_out)\n",
    "state"
   ]
  },
  {
   "cell_type": "markdown",
   "metadata": {},
   "source": [
    "## 페이지 메타데이터 추출"
   ]
  },
  {
   "cell_type": "code",
   "execution_count": 19,
   "metadata": {},
   "outputs": [],
   "source": [
    "import re\n",
    "\n",
    "\n",
    "def extract_start_end_page(filename):\n",
    "    \"\"\"\n",
    "    파일 이름에서 시작 페이지와 끝 페이지 번호를 추출하는 함수입니다.\n",
    "\n",
    "    :param filename: 분석할 파일의 이름\n",
    "    :return: 시작 페이지 번호와 끝 페이지 번호를 튜플로 반환\n",
    "    \"\"\"\n",
    "    # 파일 경로에서 파일 이름만 추출\n",
    "    file_name = os.path.basename(filename)\n",
    "    # 파일 이름을 '_' 기준으로 분리\n",
    "    file_name_parts = file_name.split(\"_\")\n",
    "\n",
    "    if len(file_name_parts) >= 3:\n",
    "        # 파일 이름의 뒤에서 두 번째 부분에서 숫자를 추출하여 시작 페이지로 설정\n",
    "        start_page = int(re.findall(r\"(\\d+)\", file_name_parts[-2])[0])\n",
    "        # 파일 이름의 마지막 부분에서 숫자를 추출하여 끝 페이지로 설정\n",
    "        end_page = int(re.findall(r\"(\\d+)\", file_name_parts[-1])[0])\n",
    "    else:\n",
    "        # 파일 이름 형식이 예상과 다를 경우 기본값 설정\n",
    "        start_page, end_page = 0, 0\n",
    "\n",
    "    return start_page, end_page\n",
    "\n",
    "\n",
    "def extract_page_metadata(state: GraphState):\n",
    "    \"\"\"\n",
    "    분석된 JSON 파일들에서 페이지 메타데이터를 추출하는 함수입니다.\n",
    "\n",
    "    :param state: 현재의 GraphState 객체\n",
    "    :return: 페이지 메타데이터가 추가된 새로운 GraphState 객체\n",
    "    \"\"\"\n",
    "    # 분석된 JSON 파일 목록 가져오기\n",
    "    json_files = state[\"analyzed_files\"]\n",
    "\n",
    "    # 페이지 메타데이터를 저장할 딕셔너리 초기화\n",
    "    page_metadata = dict()\n",
    "\n",
    "    for json_file in json_files:\n",
    "        # JSON 파일 열기 및 데이터 로드\n",
    "        with open(json_file, \"r\") as f:\n",
    "            data = json.load(f)\n",
    "\n",
    "        # 파일명에서 시작 페이지 번호 추출\n",
    "        start_page, _ = extract_start_end_page(json_file)\n",
    "\n",
    "        # JSON 데이터에서 각 페이지의 메타데이터 추출\n",
    "        for element in data[\"metadata\"][\"pages\"]:\n",
    "            # 원본 페이지 번호\n",
    "            original_page = int(element[\"page\"])\n",
    "            # 상대적 페이지 번호 계산 (전체 문서 기준)\n",
    "            relative_page = start_page + original_page - 1\n",
    "\n",
    "            # 페이지 크기 정보 추출\n",
    "            metadata = {\n",
    "                \"size\": [\n",
    "                    int(element[\"width\"]),\n",
    "                    int(element[\"height\"]),\n",
    "                ],\n",
    "            }\n",
    "            # 상대적 페이지 번호를 키로 하여 메타데이터 저장\n",
    "            page_metadata[relative_page] = metadata\n",
    "\n",
    "    # 추출된 페이지 메타데이터로 새로운 GraphState 객체 생성 및 반환\n",
    "    return GraphState(page_metadata=page_metadata)"
   ]
  },
  {
   "cell_type": "markdown",
   "metadata": {},
   "source": [
    "페이지별 사이즈를 추출합니다."
   ]
  },
  {
   "cell_type": "code",
   "execution_count": 20,
   "metadata": {},
   "outputs": [
    {
     "data": {
      "text/plain": [
       "{0: {'size': [1241, 1754]},\n",
       " 1: {'size': [1241, 1754]},\n",
       " 2: {'size': [1241, 1754]},\n",
       " 3: {'size': [1241, 1754]},\n",
       " 4: {'size': [1241, 1754]}}"
      ]
     },
     "execution_count": 20,
     "metadata": {},
     "output_type": "execute_result"
    }
   ],
   "source": [
    "state_out = extract_page_metadata(state)\n",
    "state.update(state_out)\n",
    "state[\"page_metadata\"]"
   ]
  },
  {
   "cell_type": "markdown",
   "metadata": {},
   "source": [
    "## 페이지별 HTML Element 추출"
   ]
  },
  {
   "cell_type": "code",
   "execution_count": 21,
   "metadata": {},
   "outputs": [],
   "source": [
    "def extract_page_elements(state: GraphState):\n",
    "    # 분석된 JSON 파일 목록을 가져옵니다.\n",
    "    json_files = state[\"analyzed_files\"]\n",
    "\n",
    "    # 페이지별 요소를 저장할 딕셔너리를 초기화합니다.\n",
    "    page_elements = dict()\n",
    "\n",
    "    # 전체 문서에서 고유한 요소 ID를 부여하기 위한 카운터입니다.\n",
    "    element_id = 0\n",
    "\n",
    "    # 각 JSON 파일을 순회하며 처리합니다.\n",
    "    for json_file in json_files:\n",
    "        # 파일명에서 시작 페이지 번호를 추출합니다.\n",
    "        start_page, _ = extract_start_end_page(json_file)\n",
    "\n",
    "        # JSON 파일을 열어 데이터를 로드합니다.\n",
    "        with open(json_file, \"r\") as f:\n",
    "            data = json.load(f)\n",
    "\n",
    "        # JSON 데이터의 각 요소를 처리합니다.\n",
    "        for element in data[\"elements\"]:\n",
    "            # 원본 페이지 번호를 정수로 변환합니다.\n",
    "            original_page = int(element[\"page\"])\n",
    "            # 전체 문서 기준의 상대적 페이지 번호를 계산합니다.\n",
    "            relative_page = start_page + original_page - 1\n",
    "\n",
    "            # 해당 페이지의 요소 리스트가 없으면 새로 생성합니다.\n",
    "            if relative_page not in page_elements:\n",
    "                page_elements[relative_page] = []\n",
    "\n",
    "            # 요소에 고유 ID를 부여합니다.\n",
    "            element[\"id\"] = element_id\n",
    "            element_id += 1\n",
    "\n",
    "            # 요소의 페이지 번호를 상대적 페이지 번호로 업데이트합니다.\n",
    "            element[\"page\"] = relative_page\n",
    "            # 요소를 해당 페이지의 리스트에 추가합니다.\n",
    "            page_elements[relative_page].append(element)\n",
    "\n",
    "    # 추출된 페이지별 요소 정보로 새로운 GraphState 객체를 생성하여 반환합니다.\n",
    "    return GraphState(page_elements=page_elements)"
   ]
  },
  {
   "cell_type": "code",
   "execution_count": 22,
   "metadata": {},
   "outputs": [
    {
     "data": {
      "text/plain": [
       "[{'bounding_box': [{'x': 1001, 'y': 52},\n",
       "   {'x': 1151, 'y': 52},\n",
       "   {'x': 1151, 'y': 77},\n",
       "   {'x': 1001, 'y': 77}],\n",
       "  'category': 'paragraph',\n",
       "  'html': \"<p id='0' data-category='paragraph' style='font-size:22px'>한국단자 (025540)</p>\",\n",
       "  'id': 10,\n",
       "  'page': 1,\n",
       "  'text': '한국단자 (025540)'},\n",
       " {'bounding_box': [{'x': 85, 'y': 140},\n",
       "   {'x': 316, 'y': 140},\n",
       "   {'x': 316, 'y': 163},\n",
       "   {'x': 85, 'y': 163}],\n",
       "  'category': 'caption',\n",
       "  'html': \"<caption id='1' style='font-size:18px'>도표 1. 한국단자의 실적 추이</caption>\",\n",
       "  'id': 11,\n",
       "  'page': 1,\n",
       "  'text': '도표 1. 한국단자의 실적 추이'},\n",
       " {'bounding_box': [{'x': 1055, 'y': 142},\n",
       "   {'x': 1154, 'y': 142},\n",
       "   {'x': 1154, 'y': 164},\n",
       "   {'x': 1055, 'y': 164}],\n",
       "  'category': 'paragraph',\n",
       "  'html': \"<br><p id='2' data-category='paragraph' style='font-size:16px'>(단위: 십억원, %)</p>\",\n",
       "  'id': 12,\n",
       "  'page': 1,\n",
       "  'text': '(단위: 십억원, %)'},\n",
       " {'bounding_box': [{'x': 84, 'y': 160},\n",
       "   {'x': 1161, 'y': 160},\n",
       "   {'x': 1161, 'y': 1066},\n",
       "   {'x': 84, 'y': 1066}],\n",
       "  'category': 'table',\n",
       "  'html': \"<br><table id='3' style='font-size:16px'><tr><td>구분</td><td>1Q22 9.7</td><td>2Q22</td><td>3Q22</td><td>4Q22</td><td>1Q23</td><td>2Q23</td><td>3Q23</td><td>4Q23</td><td>1Q24</td><td>2Q24</td><td>3Q24</td><td>2020</td><td>2021 7.9 9.0</td><td>2022</td><td>2023</td></tr><tr><td>매출액</td><td>272.3 7.0</td><td>286.8</td><td>290.8 7.0</td><td>318.2</td><td>315.9</td><td>333.0 4.2</td><td>318.5</td><td>329.5</td><td>352.1</td><td>391.4</td><td>378.0</td><td>802.5</td><td>962.2</td><td>1,168.1 8.4</td><td>1,296.9</td></tr><tr><td>(제품별)</td><td></td><td></td><td></td><td></td><td></td><td></td><td>8.9</td><td></td><td></td><td></td><td></td><td>7.2</td><td></td><td></td><td></td></tr><tr><td>차량용</td><td>234.8 2.6</td><td>247.4</td><td>274.1</td><td>311.2</td><td>295.8 8.7</td><td>323.8</td><td>328.3</td><td>327.1</td><td>358.7</td><td>497.0</td><td>358.1</td><td>770.3</td><td>890.8</td><td>1,067.4</td><td>1,275.0</td></tr><tr><td>전자용</td><td>29.5</td><td>26.4</td><td>18.0</td><td>17.3</td><td>21.6</td><td>24.7</td><td>23.0</td><td>23.9</td><td>28.6</td><td>31.5 14.5 6.0</td><td>28.9</td><td>103.8</td><td>103.8</td><td>91.2</td><td>93.1 10.6</td></tr><tr><td>기타</td><td>73.9</td><td>83.5</td><td>75.8</td><td>92.7</td><td>90.3</td><td>94.7</td><td>71.6</td><td>76.7</td><td>74.5</td><td>26.6</td><td>135.7</td><td>98.7</td><td>216.9</td><td>325.8</td><td>333.2</td></tr><tr><td>연결조정</td><td>-65.8</td><td>-70.4</td><td>-77.1</td><td>-102.9</td><td>-91.8 9.1</td><td>-110.2</td><td>-104.3</td><td>-98.2 5.3</td><td>-109.7</td><td>-163.6</td><td>-144.6</td><td>-170.3</td><td>-249.3</td><td>-316.3 5.5</td><td>-404.4</td></tr><tr><td>(법인별)</td><td></td><td></td><td></td><td></td><td></td><td></td><td></td><td></td><td></td><td></td><td></td><td></td><td></td><td>4.2</td><td></td></tr><tr><td>한국단자 본사</td><td>255.5 13.2</td><td>266.2</td><td>274.8 12.2</td><td>308.7</td><td>293.6</td><td>312.6</td><td>282.5</td><td>279.8</td><td>279.0</td><td>321.7</td><td>302.0</td><td>762.7</td><td>907.7</td><td>1,105.2</td><td>1,168.5</td></tr><tr><td>케이이티솔루션</td><td>20.6</td><td>23.3</td><td>22.3</td><td>25.5</td><td>28.0</td><td>26.8</td><td>26.2</td><td>27.7</td><td>27.4</td><td>30.8</td><td>31.3</td><td>56.8</td><td>76.8</td><td>91.7</td><td>108.7</td></tr><tr><td>케이티네트워크</td><td>25.0</td><td>23.6</td><td>25.9</td><td>31.8</td><td>32.7</td><td>37.6</td><td>33.3</td><td>33.1</td><td>31.3</td><td>30.7</td><td>29.9</td><td>51.7</td><td>81.8</td><td>106.3</td><td>136.6</td></tr><tr><td>미국법인</td><td>0.0</td><td>0.0</td><td>1.9</td><td>4.9</td><td>5.9</td><td>14.0</td><td>20.4</td><td>28.6</td><td>53.8</td><td>89.3</td><td>85.3</td><td>0.0</td><td>0.0</td><td>6.8</td><td>68.9</td></tr><tr><td>멕시코법인</td><td>0.0</td><td>0.0</td><td>1.0</td><td>0.8</td><td>1.5</td><td>3.2</td><td>6.5</td><td>8.3 4.6</td><td>15.8</td><td>26.4</td><td>23.7</td><td>0.0</td><td>0.0</td><td>1.8</td><td>19.5</td></tr><tr><td>베트남법인</td><td>8.3</td><td>9.9</td><td>9.2</td><td>14.8</td><td>16.8</td><td>19.9</td><td>18.9</td><td>18.0</td><td>17.5</td><td>21.1</td><td>20.7</td><td>19.1</td><td>26.4 12.8</td><td>42.2</td><td>73.7</td></tr><tr><td>폴란드법인</td><td>4.5</td><td>5.8</td><td>6.6</td><td>4.2</td><td>6.4</td><td>8.6</td><td>12.0</td><td>10.5</td><td>12.6</td><td>10.6</td><td>10.0</td><td>5.7</td><td>17.7</td><td>21.0</td><td>37.5</td></tr><tr><td>기타</td><td>24.3</td><td>28.5</td><td>26.1</td><td>30.5</td><td>22.8</td><td>20.4</td><td>23.0</td><td>21.7</td><td>24.4</td><td>24.3</td><td>19.6</td><td>76.7</td><td>101.2</td><td>109.4</td><td>87.9</td></tr><tr><td>연결조정</td><td>-65.8</td><td>-70.4 5.9</td><td>-77.1</td><td>-102.9</td><td>-91.8</td><td>-110.2</td><td>-104.3</td><td>-98.2</td><td>-109.7</td><td>-163.6</td><td>-144.6</td><td>-170.3</td><td>-249.3</td><td>-316.3 12.5</td><td>-404.4 15.8</td></tr><tr><td>(Key Data)</td><td></td><td></td><td></td><td></td><td></td><td></td><td></td><td></td><td></td><td></td><td></td><td></td><td></td><td></td><td></td></tr><tr><td>차량용 판가(YoY, %)</td><td>4.0</td><td>4.0</td><td>5.0</td><td>7.0</td><td>1.0</td><td>4.0</td><td>5.0 10.3</td><td>4.0</td><td>4.0 9.9</td><td>4.0</td><td>5.0</td><td>1.7</td><td>3.7</td><td>7.0</td><td>4.0</td></tr><tr><td>비철 원가(YoY, %)</td><td>22.1</td><td>18.9 4.8</td><td>12.2 5.5</td><td>9.4</td><td>-0.4</td><td>-3.5</td><td>-1.4</td><td>-2.3 7.5</td><td>-4.8</td><td>-0.6 0.4</td><td>2.3</td><td>0.9</td><td>36.8</td><td>9.4</td><td>-2.3 8.6</td></tr><tr><td>매출총이익</td><td>27.0</td><td>33.1</td><td>36.5</td><td>49.7</td><td>41.4</td><td>57.5</td><td>57.8</td><td>48.1</td><td>61.0</td><td>86.2</td><td>78.6 10.4</td><td>137.7</td><td>150.2</td><td>146.3</td><td>204.8 7.7</td></tr><tr><td>영업이익</td><td>7.0 4.6</td><td>13.7</td><td>15.9</td><td>27.6</td><td>19.6</td><td>34.4</td><td>32.9</td><td>24.9</td><td>34.7</td><td>56.8</td><td>48.5</td><td>79.0</td><td>76.2</td><td>64.3</td><td>111.7</td></tr><tr><td>세전이익</td><td>12.5</td><td>20.0 6.2</td><td>35.6</td><td>1.4</td><td>28.8</td><td>19.7</td><td>33.9</td><td>17.6</td><td>46.5</td><td>61.8</td><td>39.3</td><td>77.7</td><td>86.4</td><td>69.6</td><td>100.0</td></tr><tr><td>지배주주순이익</td><td>9.2</td><td>13.1</td><td>25.1</td><td>1.3</td><td>22.0</td><td>13.9</td><td>26.9</td><td>10.1</td><td>34.1 지배주주순이익률 3.1 9.7</td><td>46.9</td><td>33.8</td><td>57.8</td><td>62.9</td><td>48.7</td><td>72.9 5.6</td></tr><tr><td>증가율 (YoY)</td><td></td><td></td><td></td><td></td><td></td><td></td><td></td><td></td><td></td><td>12.0</td><td></td><td></td><td></td><td></td><td></td></tr><tr><td>매출액</td><td>15.4 3.4</td><td>20.4</td><td>23.3 8.6</td><td>26.2</td><td>16.0</td><td>16.1</td><td>9.5</td><td>3.5</td><td>11.5</td><td>17.5</td><td>18.7</td><td>3.9</td><td>19.9</td><td>21.4</td><td>11.0</td></tr><tr><td>매출총이익</td><td>-46.0 0.4</td><td>-9.3</td><td>3.1</td><td>75.6</td><td>53.3</td><td>73.7</td><td>58.4</td><td>-3.2</td><td>47.3</td><td>49.9</td><td>35.9</td><td>47.9</td><td>9.1</td><td>-2.6</td><td>40.0</td></tr><tr><td>영업이익</td><td>-77.3</td><td>-22.6</td><td>-11.2</td><td>181.6</td><td>179.9</td><td>151.1</td><td>106.6</td><td>-10.0</td><td>77.1</td><td>65.1 15.8</td><td>47.7</td><td>135.8</td><td>-3.5 6.5</td><td>-15.6</td><td>73.7</td></tr><tr><td>세전이익</td><td>-66.4</td><td>13.0</td><td>55.5</td><td>-83.5</td><td>130.4</td><td>-1.5</td><td>-4.8</td><td>1,157.1 9.8</td><td>61.5</td><td>213.5</td><td>15.8</td><td>99.2</td><td>11.2</td><td>-19.4 -22.6</td><td>43.7 49.7</td></tr><td>지배주주순이익 Margin 매출총이익률 영업이익률 세전이익률</td><td>-67.3 9.9</td><td>-10.3 11.5</td><td>45.1 12.6</td><td>-55.2 15.6</td><td>139.1 13.1</td><td>6.1 17.3</td><td>7.2 18.1 10.3</td><td>676.9 14.6</td><td>55.0 17.3</td><td>237.4 22.0</td><td>25.5 20.8</td><td>81.2 17.2</td><td>8.8 15.6</td></table>\",\n",
       "  'id': 13,\n",
       "  'page': 1,\n",
       "  'text': '구분 1Q22 9.7 2Q22 3Q22 4Q22 1Q23 2Q23 3Q23 4Q23 1Q24 2Q24 3Q24 2020 2021 7.9 9.0 2022 2023\\n 매출액 272.3 7.0 286.8 290.8 7.0 318.2 315.9 333.0 4.2 318.5 329.5 352.1 391.4 378.0 802.5 962.2 1,168.1 8.4 1,296.9\\n (제품별)       8.9     7.2   \\n 차량용 234.8 2.6 247.4 274.1 311.2 295.8 8.7 323.8 328.3 327.1 358.7 497.0 358.1 770.3 890.8 1,067.4 1,275.0\\n 전자용 29.5 26.4 18.0 17.3 21.6 24.7 23.0 23.9 28.6 31.5 14.5 6.0 28.9 103.8 103.8 91.2 93.1 10.6\\n 기타 73.9 83.5 75.8 92.7 90.3 94.7 71.6 76.7 74.5 26.6 135.7 98.7 216.9 325.8 333.2\\n 연결조정 -65.8 -70.4 -77.1 -102.9 -91.8 9.1 -110.2 -104.3 -98.2 5.3 -109.7 -163.6 -144.6 -170.3 -249.3 -316.3 5.5 -404.4\\n (법인별)              4.2 \\n 한국단자 본사 255.5 13.2 266.2 274.8 12.2 308.7 293.6 312.6 282.5 279.8 279.0 321.7 302.0 762.7 907.7 1,105.2 1,168.5\\n 케이이티솔루션 20.6 23.3 22.3 25.5 28.0 26.8 26.2 27.7 27.4 30.8 31.3 56.8 76.8 91.7 108.7\\n 케이티네트워크 25.0 23.6 25.9 31.8 32.7 37.6 33.3 33.1 31.3 30.7 29.9 51.7 81.8 106.3 136.6\\n 미국법인 0.0 0.0 1.9 4.9 5.9 14.0 20.4 28.6 53.8 89.3 85.3 0.0 0.0 6.8 68.9\\n 멕시코법인 0.0 0.0 1.0 0.8 1.5 3.2 6.5 8.3 4.6 15.8 26.4 23.7 0.0 0.0 1.8 19.5\\n 베트남법인 8.3 9.9 9.2 14.8 16.8 19.9 18.9 18.0 17.5 21.1 20.7 19.1 26.4 12.8 42.2 73.7\\n 폴란드법인 4.5 5.8 6.6 4.2 6.4 8.6 12.0 10.5 12.6 10.6 10.0 5.7 17.7 21.0 37.5\\n 기타 24.3 28.5 26.1 30.5 22.8 20.4 23.0 21.7 24.4 24.3 19.6 76.7 101.2 109.4 87.9\\n 연결조정 -65.8 -70.4 5.9 -77.1 -102.9 -91.8 -110.2 -104.3 -98.2 -109.7 -163.6 -144.6 -170.3 -249.3 -316.3 12.5 -404.4 15.8\\n (Key Data)               \\n 차량용 판가(YoY, %) 4.0 4.0 5.0 7.0 1.0 4.0 5.0 10.3 4.0 4.0 9.9 4.0 5.0 1.7 3.7 7.0 4.0\\n 비철 원가(YoY, %) 22.1 18.9 4.8 12.2 5.5 9.4 -0.4 -3.5 -1.4 -2.3 7.5 -4.8 -0.6 0.4 2.3 0.9 36.8 9.4 -2.3 8.6\\n 매출총이익 27.0 33.1 36.5 49.7 41.4 57.5 57.8 48.1 61.0 86.2 78.6 10.4 137.7 150.2 146.3 204.8 7.7\\n 영업이익 7.0 4.6 13.7 15.9 27.6 19.6 34.4 32.9 24.9 34.7 56.8 48.5 79.0 76.2 64.3 111.7\\n 세전이익 12.5 20.0 6.2 35.6 1.4 28.8 19.7 33.9 17.6 46.5 61.8 39.3 77.7 86.4 69.6 100.0\\n 지배주주순이익 9.2 13.1 25.1 1.3 22.0 13.9 26.9 10.1 34.1 지배주주순이익률 3.1 9.7 46.9 33.8 57.8 62.9 48.7 72.9 5.6\\n 증가율 (YoY)          12.0     \\n 매출액 15.4 3.4 20.4 23.3 8.6 26.2 16.0 16.1 9.5 3.5 11.5 17.5 18.7 3.9 19.9 21.4 11.0\\n 매출총이익 -46.0 0.4 -9.3 3.1 75.6 53.3 73.7 58.4 -3.2 47.3 49.9 35.9 47.9 9.1 -2.6 40.0\\n 영업이익 -77.3 -22.6 -11.2 181.6 179.9 151.1 106.6 -10.0 77.1 65.1 15.8 47.7 135.8 -3.5 6.5 -15.6 73.7\\n 세전이익 -66.4 13.0 55.5 -83.5 130.4 -1.5 -4.8 1,157.1 9.8 61.5 213.5 15.8 99.2 11.2 -19.4 -22.6 43.7 49.7\\n 지배주주순이익 Margin 매출총이익률 영업이익률 세전이익률 -67.3 9.9 -10.3 11.5 45.1 12.6 -55.2 15.6 139.1 13.1 6.1 17.3 7.2 18.1 10.3 676.9 14.6 55.0 17.3 237.4 22.0 25.5 20.8 81.2 17.2 8.8 15.6'},\n",
       " {'bounding_box': [{'x': 86, 'y': 1063},\n",
       "   {'x': 226, 'y': 1063},\n",
       "   {'x': 226, 'y': 1082},\n",
       "   {'x': 86, 'y': 1082}],\n",
       "  'category': 'paragraph',\n",
       "  'html': \"<br><p id='4' data-category='paragraph' style='font-size:16px'>자료: 한국단자, 하나증권</p>\",\n",
       "  'id': 14,\n",
       "  'page': 1,\n",
       "  'text': '자료: 한국단자, 하나증권'},\n",
       " {'bounding_box': [{'x': 92, 'y': 1163},\n",
       "   {'x': 453, 'y': 1163},\n",
       "   {'x': 453, 'y': 1186},\n",
       "   {'x': 92, 'y': 1186}],\n",
       "  'category': 'caption',\n",
       "  'html': \"<caption id='5' style='font-size:20px'>도표 2. 한국단자의 미국 법인 매출액/순이익 추이</caption>\",\n",
       "  'id': 15,\n",
       "  'page': 1,\n",
       "  'text': '도표 2. 한국단자의 미국 법인 매출액/순이익 추이'},\n",
       " {'bounding_box': [{'x': 97, 'y': 1205},\n",
       "   {'x': 599, 'y': 1205},\n",
       "   {'x': 599, 'y': 1541},\n",
       "   {'x': 97, 'y': 1541}],\n",
       "  'category': 'chart',\n",
       "  'html': '<figure data-category=\\'chart\\'><img id=\\'6\\' style=\\'font-size:14px\\' alt=\"(십억원)\\n■ 매출액 순이익\\n100\\n89.3\\n85.3\\n90\\n80\\n70\\n60 53.8\\n50\\n40\\n28.6\\n30 20.4\\n14.0\\n20\\n4.9 5.9 7.1 7.2\\n10 0.5 1.4 1.0 1.7 2.5\\n0\\n(10) 0.0\\n2022 2023 2024\" data-coord=\"top-left:(97,1205); bottom-right:(599,1541)\" /></figure>',\n",
       "  'id': 16,\n",
       "  'page': 1,\n",
       "  'text': '(십억원)\\n■ 매출액 순이익\\n100\\n89.3\\n85.3\\n90\\n80\\n70\\n60 53.8\\n50\\n40\\n28.6\\n30 20.4\\n14.0\\n20\\n4.9 5.9 7.1 7.2\\n10 0.5 1.4 1.0 1.7 2.5\\n0\\n(10) 0.0\\n2022 2023 2024'},\n",
       " {'bounding_box': [{'x': 92, 'y': 1552},\n",
       "   {'x': 237, 'y': 1552},\n",
       "   {'x': 237, 'y': 1573},\n",
       "   {'x': 92, 'y': 1573}],\n",
       "  'category': 'paragraph',\n",
       "  'html': \"<br><p id='7' data-category='paragraph' style='font-size:16px'>자료: 한국단자, 하나증권</p>\",\n",
       "  'id': 17,\n",
       "  'page': 1,\n",
       "  'text': '자료: 한국단자, 하나증권'},\n",
       " {'bounding_box': [{'x': 638, 'y': 1163},\n",
       "   {'x': 1011, 'y': 1163},\n",
       "   {'x': 1011, 'y': 1186},\n",
       "   {'x': 638, 'y': 1186}],\n",
       "  'category': 'caption',\n",
       "  'html': \"<br><caption id='8' style='font-size:20px'>도표 3. 한국단자의 멕시코 법인 매출액/순이익 추이</caption>\",\n",
       "  'id': 18,\n",
       "  'page': 1,\n",
       "  'text': '도표 3. 한국단자의 멕시코 법인 매출액/순이익 추이'},\n",
       " {'bounding_box': [{'x': 648, 'y': 1206},\n",
       "   {'x': 1142, 'y': 1206},\n",
       "   {'x': 1142, 'y': 1536},\n",
       "   {'x': 648, 'y': 1536}],\n",
       "  'category': 'chart',\n",
       "  'html': '<figure data-category=\\'chart\\'><img id=\\'9\\' style=\\'font-size:14px\\' alt=\"(십억원)\\n매출액 순이익\\n30\\n26.4\\n23.7\\n25\\n20\\n15.8\\n15\\n8.3\\n10\\n6.5\\n3.2 2.9\\n5\\n1.5 0.9 0.8\\n1.6\\n1.0 0.8 0.6\\n0\\n-0.8 -0.7 -0.4 -0.7 -0.1\\n(5)\\n2022 2023 2024\" data-coord=\"top-left:(648,1206); bottom-right:(1142,1536)\" /></figure>',\n",
       "  'id': 19,\n",
       "  'page': 1,\n",
       "  'text': '(십억원)\\n매출액 순이익\\n30\\n26.4\\n23.7\\n25\\n20\\n15.8\\n15\\n8.3\\n10\\n6.5\\n3.2 2.9\\n5\\n1.5 0.9 0.8\\n1.6\\n1.0 0.8 0.6\\n0\\n-0.8 -0.7 -0.4 -0.7 -0.1\\n(5)\\n2022 2023 2024'},\n",
       " {'bounding_box': [{'x': 635, 'y': 1552},\n",
       "   {'x': 780, 'y': 1552},\n",
       "   {'x': 780, 'y': 1572},\n",
       "   {'x': 635, 'y': 1572}],\n",
       "  'category': 'paragraph',\n",
       "  'html': \"<p id='10' data-category='paragraph' style='font-size:16px'>자료: 한국단자, 하나증권</p>\",\n",
       "  'id': 20,\n",
       "  'page': 1,\n",
       "  'text': '자료: 한국단자, 하나증권'},\n",
       " {'bounding_box': [{'x': 1068, 'y': 1687},\n",
       "   {'x': 1155, 'y': 1687},\n",
       "   {'x': 1155, 'y': 1712},\n",
       "   {'x': 1068, 'y': 1712}],\n",
       "  'category': 'footer',\n",
       "  'html': \"<footer id='11' style='font-size:22px'>하나증권·3</footer>\",\n",
       "  'id': 21,\n",
       "  'page': 1,\n",
       "  'text': '하나증권·3'}]"
      ]
     },
     "execution_count": 22,
     "metadata": {},
     "output_type": "execute_result"
    }
   ],
   "source": [
    "state_out = extract_page_elements(state)\n",
    "state.update(state_out)\n",
    "state[\"page_elements\"][1]"
   ]
  },
  {
   "cell_type": "markdown",
   "metadata": {},
   "source": [
    "추출된 페이지를 확인"
   ]
  },
  {
   "cell_type": "code",
   "execution_count": 23,
   "metadata": {},
   "outputs": [
    {
     "data": {
      "text/plain": [
       "dict_keys([0, 1, 2, 3, 4])"
      ]
     },
     "execution_count": 23,
     "metadata": {},
     "output_type": "execute_result"
    }
   ],
   "source": [
    "state[\"page_elements\"].keys()"
   ]
  },
  {
   "cell_type": "markdown",
   "metadata": {},
   "source": [
    "## 각 페이지의 태그를 분해합니다.\n",
    "- images, tables, text를 분해합니다."
   ]
  },
  {
   "cell_type": "code",
   "execution_count": 24,
   "metadata": {},
   "outputs": [],
   "source": [
    "def extract_tag_elements_per_page(state: GraphState):\n",
    "    # GraphState 객체에서 페이지 요소들을 가져옵니다.\n",
    "    page_elements = state[\"page_elements\"]\n",
    "\n",
    "    # 파싱된 페이지 요소들을 저장할 새로운 딕셔너리를 생성합니다.\n",
    "    parsed_page_elements = dict()\n",
    "\n",
    "    # 각 페이지와 해당 페이지의 요소들을 순회합니다.\n",
    "    for key, page_element in page_elements.items():\n",
    "        # 이미지, 테이블, 텍스트 요소들을 저장할 리스트를 초기화합니다.\n",
    "        image_elements = []\n",
    "        table_elements = []\n",
    "        text_elements = []\n",
    "\n",
    "        # 페이지의 각 요소를 순회하며 카테고리별로 분류합니다.\n",
    "        for element in page_element:\n",
    "            if element[\"category\"] == \"chart\":\n",
    "                # 이미지 요소인 경우 image_elements 리스트에 추가합니다.\n",
    "                image_elements.append(element)\n",
    "            elif element[\"category\"] == \"table\":\n",
    "                # 테이블 요소인 경우 table_elements 리스트에 추가합니다.\n",
    "                table_elements.append(element)\n",
    "            else:\n",
    "                # 그 외의 요소는 모두 텍스트 요소로 간주하여 text_elements 리스트에 추가합니다.\n",
    "                text_elements.append(element)\n",
    "\n",
    "        # 분류된 요소들을 페이지 키와 함께 새로운 딕셔너리에 저장합니다.\n",
    "        parsed_page_elements[key] = {\n",
    "            \"image_elements\": image_elements,\n",
    "            \"table_elements\": table_elements,\n",
    "            \"text_elements\": text_elements,\n",
    "            \"elements\": page_element,  # 원본 페이지 요소도 함께 저장합니다.\n",
    "        }\n",
    "\n",
    "    # 파싱된 페이지 요소들을 포함한 새로운 GraphState 객체를 반환합니다.\n",
    "    return GraphState(page_elements=parsed_page_elements)"
   ]
  },
  {
   "cell_type": "code",
   "execution_count": 25,
   "metadata": {},
   "outputs": [],
   "source": [
    "state_out = extract_tag_elements_per_page(state)\n",
    "state.update(state_out)"
   ]
  },
  {
   "cell_type": "code",
   "execution_count": 26,
   "metadata": {},
   "outputs": [
    {
     "data": {
      "text/plain": [
       "dict_keys([0, 1, 2, 3, 4])"
      ]
     },
     "execution_count": 26,
     "metadata": {},
     "output_type": "execute_result"
    }
   ],
   "source": [
    "state[\"page_elements\"].keys()"
   ]
  },
  {
   "cell_type": "code",
   "execution_count": 27,
   "metadata": {},
   "outputs": [
    {
     "data": {
      "text/plain": [
       "dict_keys(['image_elements', 'table_elements', 'text_elements', 'elements'])"
      ]
     },
     "execution_count": 27,
     "metadata": {},
     "output_type": "execute_result"
    }
   ],
   "source": [
    "state[\"page_elements\"][1].keys()"
   ]
  },
  {
   "cell_type": "code",
   "execution_count": 28,
   "metadata": {},
   "outputs": [
    {
     "data": {
      "text/plain": [
       "[{'bounding_box': [{'x': 97, 'y': 1205},\n",
       "   {'x': 599, 'y': 1205},\n",
       "   {'x': 599, 'y': 1541},\n",
       "   {'x': 97, 'y': 1541}],\n",
       "  'category': 'chart',\n",
       "  'html': '<figure data-category=\\'chart\\'><img id=\\'6\\' style=\\'font-size:14px\\' alt=\"(십억원)\\n■ 매출액 순이익\\n100\\n89.3\\n85.3\\n90\\n80\\n70\\n60 53.8\\n50\\n40\\n28.6\\n30 20.4\\n14.0\\n20\\n4.9 5.9 7.1 7.2\\n10 0.5 1.4 1.0 1.7 2.5\\n0\\n(10) 0.0\\n2022 2023 2024\" data-coord=\"top-left:(97,1205); bottom-right:(599,1541)\" /></figure>',\n",
       "  'id': 16,\n",
       "  'page': 1,\n",
       "  'text': '(십억원)\\n■ 매출액 순이익\\n100\\n89.3\\n85.3\\n90\\n80\\n70\\n60 53.8\\n50\\n40\\n28.6\\n30 20.4\\n14.0\\n20\\n4.9 5.9 7.1 7.2\\n10 0.5 1.4 1.0 1.7 2.5\\n0\\n(10) 0.0\\n2022 2023 2024'},\n",
       " {'bounding_box': [{'x': 648, 'y': 1206},\n",
       "   {'x': 1142, 'y': 1206},\n",
       "   {'x': 1142, 'y': 1536},\n",
       "   {'x': 648, 'y': 1536}],\n",
       "  'category': 'chart',\n",
       "  'html': '<figure data-category=\\'chart\\'><img id=\\'9\\' style=\\'font-size:14px\\' alt=\"(십억원)\\n매출액 순이익\\n30\\n26.4\\n23.7\\n25\\n20\\n15.8\\n15\\n8.3\\n10\\n6.5\\n3.2 2.9\\n5\\n1.5 0.9 0.8\\n1.6\\n1.0 0.8 0.6\\n0\\n-0.8 -0.7 -0.4 -0.7 -0.1\\n(5)\\n2022 2023 2024\" data-coord=\"top-left:(648,1206); bottom-right:(1142,1536)\" /></figure>',\n",
       "  'id': 19,\n",
       "  'page': 1,\n",
       "  'text': '(십억원)\\n매출액 순이익\\n30\\n26.4\\n23.7\\n25\\n20\\n15.8\\n15\\n8.3\\n10\\n6.5\\n3.2 2.9\\n5\\n1.5 0.9 0.8\\n1.6\\n1.0 0.8 0.6\\n0\\n-0.8 -0.7 -0.4 -0.7 -0.1\\n(5)\\n2022 2023 2024'}]"
      ]
     },
     "execution_count": 28,
     "metadata": {},
     "output_type": "execute_result"
    }
   ],
   "source": [
    "state[\"page_elements\"][1][\"image_elements\"]"
   ]
  },
  {
   "cell_type": "code",
   "execution_count": 29,
   "metadata": {},
   "outputs": [
    {
     "data": {
      "text/plain": [
       "[{'bounding_box': [{'x': 665, 'y': 1567},\n",
       "   {'x': 1120, 'y': 1567},\n",
       "   {'x': 1120, 'y': 1608},\n",
       "   {'x': 665, 'y': 1608}],\n",
       "  'category': 'table',\n",
       "  'html': \"<br><table id='16' style='font-size:16px'><tr><td>투자등급</td><td>BUY(매수)</td><td>Neutral(중립)</td><td>Reduce(매도)</td><td>합계</td></tr><tr><td>금융투자상품의 비율</td><td>93.75%</td><td>5.80%</td><td>0.45%</td><td>100%</td></tr></table>\",\n",
       "  'id': 70,\n",
       "  'page': 4,\n",
       "  'text': '투자등급 BUY(매수) Neutral(중립) Reduce(매도) 합계\\n 금융투자상품의 비율 93.75% 5.80% 0.45% 100%'}]"
      ]
     },
     "execution_count": 29,
     "metadata": {},
     "output_type": "execute_result"
    }
   ],
   "source": [
    "state[\"page_elements\"][4][\"table_elements\"]"
   ]
  },
  {
   "cell_type": "code",
   "execution_count": 30,
   "metadata": {},
   "outputs": [
    {
     "data": {
      "text/plain": [
       "[{'bounding_box': [{'x': 93, 'y': 140},\n",
       "   {'x': 430, 'y': 140},\n",
       "   {'x': 430, 'y': 163},\n",
       "   {'x': 93, 'y': 163}],\n",
       "  'category': 'caption',\n",
       "  'html': \"<caption id='0' style='font-size:18px'>도표 4. 한국단자의 자동차용 ASP 상승률 추이</caption>\",\n",
       "  'id': 22,\n",
       "  'page': 2,\n",
       "  'text': '도표 4. 한국단자의 자동차용 ASP 상승률 추이'},\n",
       " {'bounding_box': [{'x': 92, 'y': 528},\n",
       "   {'x': 237, 'y': 528},\n",
       "   {'x': 237, 'y': 550},\n",
       "   {'x': 92, 'y': 550}],\n",
       "  'category': 'paragraph',\n",
       "  'html': \"<br><p id='2' data-category='paragraph' style='font-size:18px'>자료: 한국단자, 하나증권</p>\",\n",
       "  'id': 24,\n",
       "  'page': 2,\n",
       "  'text': '자료: 한국단자, 하나증권'},\n",
       " {'bounding_box': [{'x': 84, 'y': 609},\n",
       "   {'x': 405, 'y': 609},\n",
       "   {'x': 405, 'y': 633},\n",
       "   {'x': 84, 'y': 633}],\n",
       "  'category': 'caption',\n",
       "  'html': \"<caption id='3' style='font-size:18px'>도표 6. 국제 구리 가격 추이 (LME Copper)</caption>\",\n",
       "  'id': 25,\n",
       "  'page': 2,\n",
       "  'text': '도표 6. 국제 구리 가격 추이 (LME Copper)'},\n",
       " {'bounding_box': [{'x': 1000, 'y': 51},\n",
       "   {'x': 1152, 'y': 51},\n",
       "   {'x': 1152, 'y': 78},\n",
       "   {'x': 1000, 'y': 78}],\n",
       "  'category': 'paragraph',\n",
       "  'html': \"<br><p id='4' data-category='paragraph' style='font-size:22px'>한국단자 (025540)</p>\",\n",
       "  'id': 26,\n",
       "  'page': 2,\n",
       "  'text': '한국단자 (025540)'},\n",
       " {'bounding_box': [{'x': 636, 'y': 138},\n",
       "   {'x': 920, 'y': 138},\n",
       "   {'x': 920, 'y': 164},\n",
       "   {'x': 636, 'y': 164}],\n",
       "  'category': 'caption',\n",
       "  'html': \"<caption id='5' style='font-size:20px'>도표 5. 한국단자의 매출액 증가율 추이</caption>\",\n",
       "  'id': 27,\n",
       "  'page': 2,\n",
       "  'text': '도표 5. 한국단자의 매출액 증가율 추이'},\n",
       " {'bounding_box': [{'x': 635, 'y': 528},\n",
       "   {'x': 782, 'y': 528},\n",
       "   {'x': 782, 'y': 550},\n",
       "   {'x': 635, 'y': 550}],\n",
       "  'category': 'paragraph',\n",
       "  'html': \"<br><p id='7' data-category='paragraph' style='font-size:18px'>자료: 한국단자, 하나증권</p>\",\n",
       "  'id': 29,\n",
       "  'page': 2,\n",
       "  'text': '자료: 한국단자, 하나증권'},\n",
       " {'bounding_box': [{'x': 82, 'y': 1073},\n",
       "   {'x': 147, 'y': 1073},\n",
       "   {'x': 147, 'y': 1091},\n",
       "   {'x': 82, 'y': 1091}],\n",
       "  'category': 'paragraph',\n",
       "  'html': \"<br><p id='9' data-category='paragraph' style='font-size:16px'>자료: LME</p>\",\n",
       "  'id': 31,\n",
       "  'page': 2,\n",
       "  'text': '자료: LME'},\n",
       " {'bounding_box': [{'x': 92, 'y': 1151},\n",
       "   {'x': 559, 'y': 1151},\n",
       "   {'x': 559, 'y': 1176},\n",
       "   {'x': 92, 'y': 1176}],\n",
       "  'category': 'caption',\n",
       "  'html': \"<caption id='10' style='font-size:18px'>도표 7. LME 구리 가격과 한국단자의 원재료비 /매출액 비율 추이</caption>\",\n",
       "  'id': 32,\n",
       "  'page': 2,\n",
       "  'text': '도표 7. LME 구리 가격과 한국단자의 원재료비 /매출액 비율 추이'},\n",
       " {'bounding_box': [{'x': 91, 'y': 1541},\n",
       "   {'x': 270, 'y': 1541},\n",
       "   {'x': 270, 'y': 1562},\n",
       "   {'x': 91, 'y': 1562}],\n",
       "  'category': 'paragraph',\n",
       "  'html': \"<br><p id='12' data-category='paragraph' style='font-size:18px'>자료: 한국단자, LME, 하나증권</p>\",\n",
       "  'id': 34,\n",
       "  'page': 2,\n",
       "  'text': '자료: 한국단자, LME, 하나증권'},\n",
       " {'bounding_box': [{'x': 639, 'y': 1151},\n",
       "   {'x': 913, 'y': 1151},\n",
       "   {'x': 913, 'y': 1176},\n",
       "   {'x': 639, 'y': 1176}],\n",
       "  'category': 'caption',\n",
       "  'html': \"<br><caption id='13' style='font-size:20px'>도표 8. 한국단자의 매출총이익률 추이</caption>\",\n",
       "  'id': 35,\n",
       "  'page': 2,\n",
       "  'text': '도표 8. 한국단자의 매출총이익률 추이'},\n",
       " {'bounding_box': [{'x': 635, 'y': 1542},\n",
       "   {'x': 783, 'y': 1542},\n",
       "   {'x': 783, 'y': 1562},\n",
       "   {'x': 635, 'y': 1562}],\n",
       "  'category': 'paragraph',\n",
       "  'html': \"<br><p id='15' data-category='paragraph' style='font-size:18px'>자료: 한국단자, 하나증권</p>\",\n",
       "  'id': 37,\n",
       "  'page': 2,\n",
       "  'text': '자료: 한국단자, 하나증권'},\n",
       " {'bounding_box': [{'x': 1068, 'y': 1686},\n",
       "   {'x': 1156, 'y': 1686},\n",
       "   {'x': 1156, 'y': 1712},\n",
       "   {'x': 1068, 'y': 1712}],\n",
       "  'category': 'footer',\n",
       "  'html': \"<footer id='16' style='font-size:22px'>하나증권·4</footer>\",\n",
       "  'id': 38,\n",
       "  'page': 2,\n",
       "  'text': '하나증권·4'}]"
      ]
     },
     "execution_count": 30,
     "metadata": {},
     "output_type": "execute_result"
    }
   ],
   "source": [
    "state[\"page_elements\"][2][\"text_elements\"]"
   ]
  },
  {
   "cell_type": "markdown",
   "metadata": {},
   "source": [
    "## 페이지 번호를 추출합니다."
   ]
  },
  {
   "cell_type": "code",
   "execution_count": 31,
   "metadata": {},
   "outputs": [
    {
     "data": {
      "text/plain": [
       "[0, 1, 2, 3, 4]"
      ]
     },
     "execution_count": 31,
     "metadata": {},
     "output_type": "execute_result"
    }
   ],
   "source": [
    "def page_numbers(state: GraphState):\n",
    "    return GraphState(page_numbers=list(state[\"page_elements\"].keys()))\n",
    "\n",
    "\n",
    "state_out = page_numbers(state)\n",
    "state.update(state_out)\n",
    "state[\"page_numbers\"]"
   ]
  },
  {
   "cell_type": "markdown",
   "metadata": {},
   "source": [
    "## 이미지 추출합니다."
   ]
  },
  {
   "cell_type": "code",
   "execution_count": 32,
   "metadata": {},
   "outputs": [],
   "source": [
    "class ImageCropper:\n",
    "    @staticmethod\n",
    "    def pdf_to_image(pdf_file, page_num, dpi=300):\n",
    "        \"\"\"\n",
    "        PDF 파일의 특정 페이지를 이미지로 변환하는 메서드\n",
    "\n",
    "        :param page_num: 변환할 페이지 번호 (1부터 시작)\n",
    "        :param dpi: 이미지 해상도 (기본값: 300)\n",
    "        :return: 변환된 이미지 객체\n",
    "        \"\"\"\n",
    "        with pymupdf.open(pdf_file) as doc:\n",
    "            page = doc[page_num].get_pixmap(dpi=dpi)\n",
    "            target_page_size = [page.width, page.height]\n",
    "            page_img = Image.frombytes(\"RGB\", target_page_size, page.samples)\n",
    "        return page_img\n",
    "\n",
    "    @staticmethod\n",
    "    def normalize_coordinates(coordinates, output_page_size):\n",
    "        \"\"\"\n",
    "        좌표를 정규화하는 정적 메서드\n",
    "\n",
    "        :param coordinates: 원본 좌표 리스트\n",
    "        :param output_page_size: 출력 페이지 크기 [너비, 높이]\n",
    "        :return: 정규화된 좌표 (x1, y1, x2, y2)\n",
    "        \"\"\"\n",
    "        x_values = [coord[\"x\"] for coord in coordinates]\n",
    "        y_values = [coord[\"y\"] for coord in coordinates]\n",
    "        x1, y1, x2, y2 = min(x_values), min(y_values), max(x_values), max(y_values)\n",
    "\n",
    "        return (\n",
    "            x1 / output_page_size[0],\n",
    "            y1 / output_page_size[1],\n",
    "            x2 / output_page_size[0],\n",
    "            y2 / output_page_size[1],\n",
    "        )\n",
    "\n",
    "    @staticmethod\n",
    "    def crop_image(img, coordinates, output_file):\n",
    "        \"\"\"\n",
    "        이미지를 주어진 좌표에 따라 자르고 저장하는 정적 메서드\n",
    "\n",
    "        :param img: 원본 이미지 객체\n",
    "        :param coordinates: 정규화된 좌표 (x1, y1, x2, y2)\n",
    "        :param output_file: 저장할 파일 경로\n",
    "        \"\"\"\n",
    "        img_width, img_height = img.size\n",
    "        x1, y1, x2, y2 = [\n",
    "            int(coord * dim)\n",
    "            for coord, dim in zip(coordinates, [img_width, img_height] * 2)\n",
    "        ]\n",
    "        cropped_img = img.crop((x1, y1, x2, y2))\n",
    "        cropped_img.save(output_file)"
   ]
  },
  {
   "cell_type": "code",
   "execution_count": 33,
   "metadata": {},
   "outputs": [
    {
     "data": {
      "text/plain": [
       "{'bounding_box': [{'x': 67, 'y': 74},\n",
       "  {'x': 358, 'y': 74},\n",
       "  {'x': 358, 'y': 1682},\n",
       "  {'x': 67, 'y': 1682}],\n",
       " 'category': 'table',\n",
       " 'html': '<br><table id=\\'1\\' style=\\'font-size:14px\\'><tr><td colspan=\"5\">Not Rated</td></tr><tr><td colspan=\"3\">목표주가(12M)</td><td colspan=\"2\">Not Rated</td></tr><tr><td colspan=\"3\">현재주가(11.20)</td><td colspan=\"2\">70,500원</td></tr><tr><td colspan=\"5\">Key Data</td></tr><tr><td colspan=\"3\">KOSPI 지수 (pt)</td><td colspan=\"2\">2,482,29</td></tr><tr><td colspan=\"3\">52주 최고/최저(원)</td><td colspan=\"2\">78,200/55,200</td></tr><tr><td colspan=\"3\">시가총액(십억원)</td><td colspan=\"2\">734.3</td></tr><tr><td colspan=\"3\">시가총액비중(%)</td><td colspan=\"2\">0.04</td></tr><tr><td colspan=\"3\">발행주식수(천주)</td><td colspan=\"2\">10,415.0</td></tr><tr><td colspan=\"3\">60일 평균 거래량(천주)</td><td colspan=\"2\">37.5</td></tr><tr><td colspan=\"3\">60일 평균 거래대금(십억원)</td><td colspan=\"2\">2.8</td></tr><tr><td colspan=\"3\">외국인지분율(%) 주요주주 지분율(%)</td><td colspan=\"2\">28,18</td></tr><tr><td colspan=\"3\">이창원 외 10 인</td><td colspan=\"2\">33.19</td></tr><tr><td colspan=\"3\">국민연금공단</td><td colspan=\"2\">10.02</td></tr><tr><td colspan=\"5\">Data</td></tr><tr><td colspan=\"3\">Consensus</td><td colspan=\"2\">2024 2025</td></tr><tr><td>매출액(십억원)</td><td></td><td>1,490</td><td>1,615</td><td></td></tr><tr><td colspan=\"3\">영업이익(십억원)</td><td colspan=\"2\">168 178</td></tr><tr><td colspan=\"3\">순이익(십억원)</td><td colspan=\"2\">132 138</td></tr><tr><td colspan=\"3\">EPS(원)</td><td colspan=\"2\">12,626 13,260</td></tr><tr><td colspan=\"3\">BPS(원)</td><td colspan=\"2\">102,395 115,085</td></tr><tr><td colspan=\"5\">Price</td></tr><tr><td colspan=\"5\">Stock (천원) 한국단자(좌) 90 상대지수(우) 120 80 100 70 60 80 50 60 40 380 20 40 0</td></tr><tr><td colspan=\"5\">23,11 24.2 24,5 24.8</td></tr><tr><td>24,11 Financial Data</td><td>2020</td><td>2021</td><td>(십억원, %, 배, 원) 2022</td><td>2023</td></tr><tr><td>투자지표 매출액</td><td>802</td><td>962</td><td>1,168</td><td>1,297</td></tr><tr><td>영업이익</td><td>79</td><td>76</td><td>64</td><td>112</td></tr><tr><td>세전이익</td><td>78</td><td>86</td><td>70</td><td>100</td></tr><tr><td>순이익</td><td>58</td><td>63</td><td>49</td><td>73</td></tr><tr><td>EPS</td><td>5,550</td><td>6,041</td><td>4,677</td><td>7,000</td></tr><tr><td>증감을</td><td>81.3</td><td>8.8</td><td>(22.6)</td><td>49.7</td></tr><tr><td>PER</td><td>11.2</td><td>12.6</td><td>11.1</td><td>10.7</td></tr><tr><td>PBR</td><td>0.8</td><td>0.9</td><td>0.6</td><td>0.8</td></tr><tr><td>EV/EBITDA</td><td>3.7</td><td>5.2</td><td>3.9</td><td>4.5</td></tr><tr><td>ROE</td><td>7.6</td><td>7.5</td><td>5.6</td><td>7.8</td></tr><tr><td>BPS</td><td>73,675</td><td>81,164</td><td>83,872</td><td>89,779</td></tr><tr><td>DPS Analyst 송선재 sunjae.song@hanafn.com RA 강민아 minahkang@hanafn.com 하나증권 리서치센터</td><td>700</td><td>700</td><td>700</td><td>700</td></tr></table>',\n",
       " 'id': 1,\n",
       " 'page': 0,\n",
       " 'text': 'Not Rated\\n 목표주가(12M) Not Rated\\n 현재주가(11.20) 70,500원\\n Key Data\\n KOSPI 지수 (pt) 2,482,29\\n 52주 최고/최저(원) 78,200/55,200\\n 시가총액(십억원) 734.3\\n 시가총액비중(%) 0.04\\n 발행주식수(천주) 10,415.0\\n 60일 평균 거래량(천주) 37.5\\n 60일 평균 거래대금(십억원) 2.8\\n 외국인지분율(%) 주요주주 지분율(%) 28,18\\n 이창원 외 10 인 33.19\\n 국민연금공단 10.02\\n Data\\n Consensus 2024 2025\\n 매출액(십억원)  1,490 1,615 \\n 영업이익(십억원) 168 178\\n 순이익(십억원) 132 138\\n EPS(원) 12,626 13,260\\n BPS(원) 102,395 115,085\\n Price\\n Stock (천원) 한국단자(좌) 90 상대지수(우) 120 80 100 70 60 80 50 60 40 380 20 40 0\\n 23,11 24.2 24,5 24.8\\n 24,11 Financial Data 2020 2021 (십억원, %, 배, 원) 2022 2023\\n 투자지표 매출액 802 962 1,168 1,297\\n 영업이익 79 76 64 112\\n 세전이익 78 86 70 100\\n 순이익 58 63 49 73\\n EPS 5,550 6,041 4,677 7,000\\n 증감을 81.3 8.8 (22.6) 49.7\\n PER 11.2 12.6 11.1 10.7\\n PBR 0.8 0.9 0.6 0.8\\n EV/EBITDA 3.7 5.2 3.9 4.5\\n ROE 7.6 7.5 5.6 7.8\\n BPS 73,675 81,164 83,872 89,779\\n DPS Analyst 송선재 sunjae.song@hanafn.com RA 강민아 minahkang@hanafn.com 하나증권 리서치센터 700 700 700 700'}"
      ]
     },
     "execution_count": 33,
     "metadata": {},
     "output_type": "execute_result"
    }
   ],
   "source": [
    "sample_table = state[\"page_elements\"][0][\"table_elements\"][0]\n",
    "sample_table"
   ]
  },
  {
   "cell_type": "code",
   "execution_count": 34,
   "metadata": {},
   "outputs": [
    {
     "data": {
      "text/plain": [
       "{'bounding_box': [{'x': 84, 'y': 160},\n",
       "  {'x': 1161, 'y': 160},\n",
       "  {'x': 1161, 'y': 1066},\n",
       "  {'x': 84, 'y': 1066}],\n",
       " 'category': 'table',\n",
       " 'html': \"<br><table id='3' style='font-size:16px'><tr><td>구분</td><td>1Q22 9.7</td><td>2Q22</td><td>3Q22</td><td>4Q22</td><td>1Q23</td><td>2Q23</td><td>3Q23</td><td>4Q23</td><td>1Q24</td><td>2Q24</td><td>3Q24</td><td>2020</td><td>2021 7.9 9.0</td><td>2022</td><td>2023</td></tr><tr><td>매출액</td><td>272.3 7.0</td><td>286.8</td><td>290.8 7.0</td><td>318.2</td><td>315.9</td><td>333.0 4.2</td><td>318.5</td><td>329.5</td><td>352.1</td><td>391.4</td><td>378.0</td><td>802.5</td><td>962.2</td><td>1,168.1 8.4</td><td>1,296.9</td></tr><tr><td>(제품별)</td><td></td><td></td><td></td><td></td><td></td><td></td><td>8.9</td><td></td><td></td><td></td><td></td><td>7.2</td><td></td><td></td><td></td></tr><tr><td>차량용</td><td>234.8 2.6</td><td>247.4</td><td>274.1</td><td>311.2</td><td>295.8 8.7</td><td>323.8</td><td>328.3</td><td>327.1</td><td>358.7</td><td>497.0</td><td>358.1</td><td>770.3</td><td>890.8</td><td>1,067.4</td><td>1,275.0</td></tr><tr><td>전자용</td><td>29.5</td><td>26.4</td><td>18.0</td><td>17.3</td><td>21.6</td><td>24.7</td><td>23.0</td><td>23.9</td><td>28.6</td><td>31.5 14.5 6.0</td><td>28.9</td><td>103.8</td><td>103.8</td><td>91.2</td><td>93.1 10.6</td></tr><tr><td>기타</td><td>73.9</td><td>83.5</td><td>75.8</td><td>92.7</td><td>90.3</td><td>94.7</td><td>71.6</td><td>76.7</td><td>74.5</td><td>26.6</td><td>135.7</td><td>98.7</td><td>216.9</td><td>325.8</td><td>333.2</td></tr><tr><td>연결조정</td><td>-65.8</td><td>-70.4</td><td>-77.1</td><td>-102.9</td><td>-91.8 9.1</td><td>-110.2</td><td>-104.3</td><td>-98.2 5.3</td><td>-109.7</td><td>-163.6</td><td>-144.6</td><td>-170.3</td><td>-249.3</td><td>-316.3 5.5</td><td>-404.4</td></tr><tr><td>(법인별)</td><td></td><td></td><td></td><td></td><td></td><td></td><td></td><td></td><td></td><td></td><td></td><td></td><td></td><td>4.2</td><td></td></tr><tr><td>한국단자 본사</td><td>255.5 13.2</td><td>266.2</td><td>274.8 12.2</td><td>308.7</td><td>293.6</td><td>312.6</td><td>282.5</td><td>279.8</td><td>279.0</td><td>321.7</td><td>302.0</td><td>762.7</td><td>907.7</td><td>1,105.2</td><td>1,168.5</td></tr><tr><td>케이이티솔루션</td><td>20.6</td><td>23.3</td><td>22.3</td><td>25.5</td><td>28.0</td><td>26.8</td><td>26.2</td><td>27.7</td><td>27.4</td><td>30.8</td><td>31.3</td><td>56.8</td><td>76.8</td><td>91.7</td><td>108.7</td></tr><tr><td>케이티네트워크</td><td>25.0</td><td>23.6</td><td>25.9</td><td>31.8</td><td>32.7</td><td>37.6</td><td>33.3</td><td>33.1</td><td>31.3</td><td>30.7</td><td>29.9</td><td>51.7</td><td>81.8</td><td>106.3</td><td>136.6</td></tr><tr><td>미국법인</td><td>0.0</td><td>0.0</td><td>1.9</td><td>4.9</td><td>5.9</td><td>14.0</td><td>20.4</td><td>28.6</td><td>53.8</td><td>89.3</td><td>85.3</td><td>0.0</td><td>0.0</td><td>6.8</td><td>68.9</td></tr><tr><td>멕시코법인</td><td>0.0</td><td>0.0</td><td>1.0</td><td>0.8</td><td>1.5</td><td>3.2</td><td>6.5</td><td>8.3 4.6</td><td>15.8</td><td>26.4</td><td>23.7</td><td>0.0</td><td>0.0</td><td>1.8</td><td>19.5</td></tr><tr><td>베트남법인</td><td>8.3</td><td>9.9</td><td>9.2</td><td>14.8</td><td>16.8</td><td>19.9</td><td>18.9</td><td>18.0</td><td>17.5</td><td>21.1</td><td>20.7</td><td>19.1</td><td>26.4 12.8</td><td>42.2</td><td>73.7</td></tr><tr><td>폴란드법인</td><td>4.5</td><td>5.8</td><td>6.6</td><td>4.2</td><td>6.4</td><td>8.6</td><td>12.0</td><td>10.5</td><td>12.6</td><td>10.6</td><td>10.0</td><td>5.7</td><td>17.7</td><td>21.0</td><td>37.5</td></tr><tr><td>기타</td><td>24.3</td><td>28.5</td><td>26.1</td><td>30.5</td><td>22.8</td><td>20.4</td><td>23.0</td><td>21.7</td><td>24.4</td><td>24.3</td><td>19.6</td><td>76.7</td><td>101.2</td><td>109.4</td><td>87.9</td></tr><tr><td>연결조정</td><td>-65.8</td><td>-70.4 5.9</td><td>-77.1</td><td>-102.9</td><td>-91.8</td><td>-110.2</td><td>-104.3</td><td>-98.2</td><td>-109.7</td><td>-163.6</td><td>-144.6</td><td>-170.3</td><td>-249.3</td><td>-316.3 12.5</td><td>-404.4 15.8</td></tr><tr><td>(Key Data)</td><td></td><td></td><td></td><td></td><td></td><td></td><td></td><td></td><td></td><td></td><td></td><td></td><td></td><td></td><td></td></tr><tr><td>차량용 판가(YoY, %)</td><td>4.0</td><td>4.0</td><td>5.0</td><td>7.0</td><td>1.0</td><td>4.0</td><td>5.0 10.3</td><td>4.0</td><td>4.0 9.9</td><td>4.0</td><td>5.0</td><td>1.7</td><td>3.7</td><td>7.0</td><td>4.0</td></tr><tr><td>비철 원가(YoY, %)</td><td>22.1</td><td>18.9 4.8</td><td>12.2 5.5</td><td>9.4</td><td>-0.4</td><td>-3.5</td><td>-1.4</td><td>-2.3 7.5</td><td>-4.8</td><td>-0.6 0.4</td><td>2.3</td><td>0.9</td><td>36.8</td><td>9.4</td><td>-2.3 8.6</td></tr><tr><td>매출총이익</td><td>27.0</td><td>33.1</td><td>36.5</td><td>49.7</td><td>41.4</td><td>57.5</td><td>57.8</td><td>48.1</td><td>61.0</td><td>86.2</td><td>78.6 10.4</td><td>137.7</td><td>150.2</td><td>146.3</td><td>204.8 7.7</td></tr><tr><td>영업이익</td><td>7.0 4.6</td><td>13.7</td><td>15.9</td><td>27.6</td><td>19.6</td><td>34.4</td><td>32.9</td><td>24.9</td><td>34.7</td><td>56.8</td><td>48.5</td><td>79.0</td><td>76.2</td><td>64.3</td><td>111.7</td></tr><tr><td>세전이익</td><td>12.5</td><td>20.0 6.2</td><td>35.6</td><td>1.4</td><td>28.8</td><td>19.7</td><td>33.9</td><td>17.6</td><td>46.5</td><td>61.8</td><td>39.3</td><td>77.7</td><td>86.4</td><td>69.6</td><td>100.0</td></tr><tr><td>지배주주순이익</td><td>9.2</td><td>13.1</td><td>25.1</td><td>1.3</td><td>22.0</td><td>13.9</td><td>26.9</td><td>10.1</td><td>34.1 지배주주순이익률 3.1 9.7</td><td>46.9</td><td>33.8</td><td>57.8</td><td>62.9</td><td>48.7</td><td>72.9 5.6</td></tr><tr><td>증가율 (YoY)</td><td></td><td></td><td></td><td></td><td></td><td></td><td></td><td></td><td></td><td>12.0</td><td></td><td></td><td></td><td></td><td></td></tr><tr><td>매출액</td><td>15.4 3.4</td><td>20.4</td><td>23.3 8.6</td><td>26.2</td><td>16.0</td><td>16.1</td><td>9.5</td><td>3.5</td><td>11.5</td><td>17.5</td><td>18.7</td><td>3.9</td><td>19.9</td><td>21.4</td><td>11.0</td></tr><tr><td>매출총이익</td><td>-46.0 0.4</td><td>-9.3</td><td>3.1</td><td>75.6</td><td>53.3</td><td>73.7</td><td>58.4</td><td>-3.2</td><td>47.3</td><td>49.9</td><td>35.9</td><td>47.9</td><td>9.1</td><td>-2.6</td><td>40.0</td></tr><tr><td>영업이익</td><td>-77.3</td><td>-22.6</td><td>-11.2</td><td>181.6</td><td>179.9</td><td>151.1</td><td>106.6</td><td>-10.0</td><td>77.1</td><td>65.1 15.8</td><td>47.7</td><td>135.8</td><td>-3.5 6.5</td><td>-15.6</td><td>73.7</td></tr><tr><td>세전이익</td><td>-66.4</td><td>13.0</td><td>55.5</td><td>-83.5</td><td>130.4</td><td>-1.5</td><td>-4.8</td><td>1,157.1 9.8</td><td>61.5</td><td>213.5</td><td>15.8</td><td>99.2</td><td>11.2</td><td>-19.4 -22.6</td><td>43.7 49.7</td></tr><td>지배주주순이익 Margin 매출총이익률 영업이익률 세전이익률</td><td>-67.3 9.9</td><td>-10.3 11.5</td><td>45.1 12.6</td><td>-55.2 15.6</td><td>139.1 13.1</td><td>6.1 17.3</td><td>7.2 18.1 10.3</td><td>676.9 14.6</td><td>55.0 17.3</td><td>237.4 22.0</td><td>25.5 20.8</td><td>81.2 17.2</td><td>8.8 15.6</td></table>\",\n",
       " 'id': 13,\n",
       " 'page': 1,\n",
       " 'text': '구분 1Q22 9.7 2Q22 3Q22 4Q22 1Q23 2Q23 3Q23 4Q23 1Q24 2Q24 3Q24 2020 2021 7.9 9.0 2022 2023\\n 매출액 272.3 7.0 286.8 290.8 7.0 318.2 315.9 333.0 4.2 318.5 329.5 352.1 391.4 378.0 802.5 962.2 1,168.1 8.4 1,296.9\\n (제품별)       8.9     7.2   \\n 차량용 234.8 2.6 247.4 274.1 311.2 295.8 8.7 323.8 328.3 327.1 358.7 497.0 358.1 770.3 890.8 1,067.4 1,275.0\\n 전자용 29.5 26.4 18.0 17.3 21.6 24.7 23.0 23.9 28.6 31.5 14.5 6.0 28.9 103.8 103.8 91.2 93.1 10.6\\n 기타 73.9 83.5 75.8 92.7 90.3 94.7 71.6 76.7 74.5 26.6 135.7 98.7 216.9 325.8 333.2\\n 연결조정 -65.8 -70.4 -77.1 -102.9 -91.8 9.1 -110.2 -104.3 -98.2 5.3 -109.7 -163.6 -144.6 -170.3 -249.3 -316.3 5.5 -404.4\\n (법인별)              4.2 \\n 한국단자 본사 255.5 13.2 266.2 274.8 12.2 308.7 293.6 312.6 282.5 279.8 279.0 321.7 302.0 762.7 907.7 1,105.2 1,168.5\\n 케이이티솔루션 20.6 23.3 22.3 25.5 28.0 26.8 26.2 27.7 27.4 30.8 31.3 56.8 76.8 91.7 108.7\\n 케이티네트워크 25.0 23.6 25.9 31.8 32.7 37.6 33.3 33.1 31.3 30.7 29.9 51.7 81.8 106.3 136.6\\n 미국법인 0.0 0.0 1.9 4.9 5.9 14.0 20.4 28.6 53.8 89.3 85.3 0.0 0.0 6.8 68.9\\n 멕시코법인 0.0 0.0 1.0 0.8 1.5 3.2 6.5 8.3 4.6 15.8 26.4 23.7 0.0 0.0 1.8 19.5\\n 베트남법인 8.3 9.9 9.2 14.8 16.8 19.9 18.9 18.0 17.5 21.1 20.7 19.1 26.4 12.8 42.2 73.7\\n 폴란드법인 4.5 5.8 6.6 4.2 6.4 8.6 12.0 10.5 12.6 10.6 10.0 5.7 17.7 21.0 37.5\\n 기타 24.3 28.5 26.1 30.5 22.8 20.4 23.0 21.7 24.4 24.3 19.6 76.7 101.2 109.4 87.9\\n 연결조정 -65.8 -70.4 5.9 -77.1 -102.9 -91.8 -110.2 -104.3 -98.2 -109.7 -163.6 -144.6 -170.3 -249.3 -316.3 12.5 -404.4 15.8\\n (Key Data)               \\n 차량용 판가(YoY, %) 4.0 4.0 5.0 7.0 1.0 4.0 5.0 10.3 4.0 4.0 9.9 4.0 5.0 1.7 3.7 7.0 4.0\\n 비철 원가(YoY, %) 22.1 18.9 4.8 12.2 5.5 9.4 -0.4 -3.5 -1.4 -2.3 7.5 -4.8 -0.6 0.4 2.3 0.9 36.8 9.4 -2.3 8.6\\n 매출총이익 27.0 33.1 36.5 49.7 41.4 57.5 57.8 48.1 61.0 86.2 78.6 10.4 137.7 150.2 146.3 204.8 7.7\\n 영업이익 7.0 4.6 13.7 15.9 27.6 19.6 34.4 32.9 24.9 34.7 56.8 48.5 79.0 76.2 64.3 111.7\\n 세전이익 12.5 20.0 6.2 35.6 1.4 28.8 19.7 33.9 17.6 46.5 61.8 39.3 77.7 86.4 69.6 100.0\\n 지배주주순이익 9.2 13.1 25.1 1.3 22.0 13.9 26.9 10.1 34.1 지배주주순이익률 3.1 9.7 46.9 33.8 57.8 62.9 48.7 72.9 5.6\\n 증가율 (YoY)          12.0     \\n 매출액 15.4 3.4 20.4 23.3 8.6 26.2 16.0 16.1 9.5 3.5 11.5 17.5 18.7 3.9 19.9 21.4 11.0\\n 매출총이익 -46.0 0.4 -9.3 3.1 75.6 53.3 73.7 58.4 -3.2 47.3 49.9 35.9 47.9 9.1 -2.6 40.0\\n 영업이익 -77.3 -22.6 -11.2 181.6 179.9 151.1 106.6 -10.0 77.1 65.1 15.8 47.7 135.8 -3.5 6.5 -15.6 73.7\\n 세전이익 -66.4 13.0 55.5 -83.5 130.4 -1.5 -4.8 1,157.1 9.8 61.5 213.5 15.8 99.2 11.2 -19.4 -22.6 43.7 49.7\\n 지배주주순이익 Margin 매출총이익률 영업이익률 세전이익률 -67.3 9.9 -10.3 11.5 45.1 12.6 -55.2 15.6 139.1 13.1 6.1 17.3 7.2 18.1 10.3 676.9 14.6 55.0 17.3 237.4 22.0 25.5 20.8 81.2 17.2 8.8 15.6'}"
      ]
     },
     "execution_count": 34,
     "metadata": {},
     "output_type": "execute_result"
    }
   ],
   "source": [
    "sample_table = state[\"page_elements\"][1][\"table_elements\"][0]\n",
    "sample_table"
   ]
  },
  {
   "cell_type": "markdown",
   "metadata": {},
   "source": [
    "## 이미지 추출"
   ]
  },
  {
   "cell_type": "code",
   "execution_count": 35,
   "metadata": {},
   "outputs": [],
   "source": [
    "def crop_image(state: GraphState):\n",
    "    \"\"\"\n",
    "    PDF 파일에서 이미지를 추출하고 크롭하는 함수\n",
    "\n",
    "    :param state: GraphState 객체\n",
    "    :return: 크롭된 이미지 정보가 포함된 GraphState 객체\n",
    "    \"\"\"\n",
    "    pdf_file = state[\"filepath\"]  # PDF 파일 경로\n",
    "    page_numbers = state[\"page_numbers\"]  # 처리할 페이지 번호 목록\n",
    "    output_folder = os.path.splitext(pdf_file)[0]  # 출력 폴더 경로 설정\n",
    "    os.makedirs(output_folder, exist_ok=True)  # 출력 폴더 생성\n",
    "\n",
    "    cropped_images = dict()  # 크롭된 이미지 정보를 저장할 딕셔너리\n",
    "    for page_num in page_numbers:\n",
    "        pdf_image = ImageCropper.pdf_to_image(\n",
    "            pdf_file, page_num\n",
    "        )  # PDF 페이지를 이미지로 변환\n",
    "        for element in state[\"page_elements\"][page_num][\"image_elements\"]:\n",
    "            if element[\"category\"] == \"chart\":\n",
    "                # 이미지 요소의 좌표를 정규화\n",
    "                normalized_coordinates = ImageCropper.normalize_coordinates(\n",
    "                    element[\"bounding_box\"], state[\"page_metadata\"][page_num][\"size\"]\n",
    "                )\n",
    "\n",
    "                # 크롭된 이미지 저장 경로 설정\n",
    "                output_file = os.path.join(output_folder, f\"{element['id']}.png\")\n",
    "                # 이미지 크롭 및 저장\n",
    "                ImageCropper.crop_image(pdf_image, normalized_coordinates, output_file)\n",
    "                cropped_images[element[\"id\"]] = output_file\n",
    "                print(f\"page:{page_num}, id:{element['id']}, path: {output_file}\")\n",
    "    return GraphState(\n",
    "        images=cropped_images\n",
    "    )  # 크롭된 이미지 정보를 포함한 GraphState 반환\n",
    "\n",
    "\n",
    "def crop_table(state: GraphState):\n",
    "    \"\"\"\n",
    "    PDF 파일에서 표를 추출하고 크롭하는 함수\n",
    "\n",
    "    :param state: GraphState 객체\n",
    "    :return: 크롭된 표 이미지 정보가 포함된 GraphState 객체\n",
    "    \"\"\"\n",
    "    pdf_file = state[\"filepath\"]  # PDF 파일 경로\n",
    "    page_numbers = state[\"page_numbers\"]  # 처리할 페이지 번호 목록\n",
    "    output_folder = os.path.splitext(pdf_file)[0]  # 출력 폴더 경로 설정\n",
    "    os.makedirs(output_folder, exist_ok=True)  # 출력 폴더 생성\n",
    "\n",
    "    cropped_images = dict()  # 크롭된 표 이미지 정보를 저장할 딕셔너리\n",
    "    for page_num in page_numbers:\n",
    "        pdf_image = ImageCropper.pdf_to_image(\n",
    "            pdf_file, page_num\n",
    "        )  # PDF 페이지를 이미지로 변환\n",
    "        for element in state[\"page_elements\"][page_num][\"table_elements\"]:\n",
    "            if element[\"category\"] == \"table\":\n",
    "                # 표 요소의 좌표를 정규화\n",
    "                normalized_coordinates = ImageCropper.normalize_coordinates(\n",
    "                    element[\"bounding_box\"], state[\"page_metadata\"][page_num][\"size\"]\n",
    "                )\n",
    "\n",
    "                # 크롭된 표 이미지 저장 경로 설정\n",
    "                output_file = os.path.join(output_folder, f\"{element['id']}.png\")\n",
    "                # 표 이미지 크롭 및 저장\n",
    "                ImageCropper.crop_image(pdf_image, normalized_coordinates, output_file)\n",
    "                cropped_images[element[\"id\"]] = output_file\n",
    "                print(f\"page:{page_num}, id:{element['id']}, path: {output_file}\")\n",
    "    return GraphState(\n",
    "        tables=cropped_images\n",
    "    )  # 크롭된 표 이미지 정보를 포함한 GraphState 반환"
   ]
  },
  {
   "cell_type": "code",
   "execution_count": 36,
   "metadata": {},
   "outputs": [
    {
     "data": {
      "text/plain": [
       "dict_keys([0, 1, 2, 3, 4])"
      ]
     },
     "execution_count": 36,
     "metadata": {},
     "output_type": "execute_result"
    }
   ],
   "source": [
    "state[\"page_elements\"].keys()"
   ]
  },
  {
   "cell_type": "code",
   "execution_count": 37,
   "metadata": {},
   "outputs": [
    {
     "name": "stdout",
     "output_type": "stream",
     "text": [
      "page:1, id:16, path: data/20241121_company_54055000\\16.png\n",
      "page:1, id:19, path: data/20241121_company_54055000\\19.png\n",
      "page:2, id:23, path: data/20241121_company_54055000\\23.png\n",
      "page:2, id:28, path: data/20241121_company_54055000\\28.png\n",
      "page:2, id:30, path: data/20241121_company_54055000\\30.png\n",
      "page:2, id:33, path: data/20241121_company_54055000\\33.png\n",
      "page:2, id:36, path: data/20241121_company_54055000\\36.png\n",
      "page:4, id:57, path: data/20241121_company_54055000\\57.png\n"
     ]
    },
    {
     "data": {
      "text/plain": [
       "{16: 'data/20241121_company_54055000\\\\16.png',\n",
       " 19: 'data/20241121_company_54055000\\\\19.png',\n",
       " 23: 'data/20241121_company_54055000\\\\23.png',\n",
       " 28: 'data/20241121_company_54055000\\\\28.png',\n",
       " 30: 'data/20241121_company_54055000\\\\30.png',\n",
       " 33: 'data/20241121_company_54055000\\\\33.png',\n",
       " 36: 'data/20241121_company_54055000\\\\36.png',\n",
       " 57: 'data/20241121_company_54055000\\\\57.png'}"
      ]
     },
     "execution_count": 37,
     "metadata": {},
     "output_type": "execute_result"
    }
   ],
   "source": [
    "state_out = crop_image(state)\n",
    "state.update(state_out)\n",
    "state[\"images\"]\n",
    "# state.update(state6)"
   ]
  },
  {
   "cell_type": "code",
   "execution_count": 38,
   "metadata": {},
   "outputs": [
    {
     "name": "stdout",
     "output_type": "stream",
     "text": [
      "page:0, id:1, path: data/20241121_company_54055000\\1.png\n",
      "page:1, id:13, path: data/20241121_company_54055000\\13.png\n",
      "page:3, id:43, path: data/20241121_company_54055000\\43.png\n",
      "page:3, id:46, path: data/20241121_company_54055000\\46.png\n",
      "page:3, id:50, path: data/20241121_company_54055000\\50.png\n",
      "page:3, id:52, path: data/20241121_company_54055000\\52.png\n",
      "page:4, id:70, path: data/20241121_company_54055000\\70.png\n"
     ]
    },
    {
     "data": {
      "text/plain": [
       "{1: 'data/20241121_company_54055000\\\\1.png',\n",
       " 13: 'data/20241121_company_54055000\\\\13.png',\n",
       " 43: 'data/20241121_company_54055000\\\\43.png',\n",
       " 46: 'data/20241121_company_54055000\\\\46.png',\n",
       " 50: 'data/20241121_company_54055000\\\\50.png',\n",
       " 52: 'data/20241121_company_54055000\\\\52.png',\n",
       " 70: 'data/20241121_company_54055000\\\\70.png'}"
      ]
     },
     "execution_count": 38,
     "metadata": {},
     "output_type": "execute_result"
    }
   ],
   "source": [
    "state_out = crop_table(state)\n",
    "state.update(state_out)\n",
    "state[\"tables\"]"
   ]
  },
  {
   "cell_type": "markdown",
   "metadata": {},
   "source": [
    "## 페이지 텍스트 추출"
   ]
  },
  {
   "cell_type": "code",
   "execution_count": 39,
   "metadata": {},
   "outputs": [],
   "source": [
    "def extract_page_text(state: GraphState):\n",
    "    # 상태 객체에서 페이지 번호 목록을 가져옵니다.\n",
    "    page_numbers = state[\"page_numbers\"]\n",
    "\n",
    "    # 추출된 텍스트를 저장할 딕셔너리를 초기화합니다.\n",
    "    extracted_texts = dict()\n",
    "\n",
    "    # 각 페이지 번호에 대해 반복합니다.\n",
    "    for page_num in page_numbers:\n",
    "        # 현재 페이지의 텍스트를 저장할 빈 문자열을 초기화합니다.\n",
    "        extracted_texts[page_num] = \"\"\n",
    "\n",
    "        # 현재 페이지의 모든 텍스트 요소에 대해 반복합니다.\n",
    "        for element in state[\"page_elements\"][page_num][\"text_elements\"]:\n",
    "            # 각 텍스트 요소의 내용을 현재 페이지의 텍스트에 추가합니다.\n",
    "            extracted_texts[page_num] += element[\"text\"]\n",
    "\n",
    "    # 추출된 텍스트를 포함한 새로운 GraphState 객체를 반환합니다.\n",
    "    return GraphState(texts=extracted_texts)"
   ]
  },
  {
   "cell_type": "code",
   "execution_count": 40,
   "metadata": {},
   "outputs": [
    {
     "data": {
      "text/plain": [
       "{0: '2024년 11월 21일 I 기업분석한국단자 (025540)또 다시 예상보다 좋았어요3Q24 Review: 영업이익률 12.8% 기록한국단자의 3분기 매출액/영업이익은 19%/48% (YoY) 증가한 3,780억원/485억원(영업이\\n익률 12.8%, +2.5%p (YoY))으로 2분기에 이어 또 한번 서프라이즈를 기록했다(영업이익\\n기준 컨센서스 대비 +30%). 한국(본사/케이이티솔루션/케이티네트워크) 매출액이 6%\\n(YoY) 증가했고, 폴란드 매출액은 17% (YoY) 감소했지만 미국 매출액이 317% (YoY) 급\\n증했다. 미국/멕시코 법인의 합산 매출액 비중은 21%로 15%p (YoY) 상승했다. 믹스 효\\n과로 차량용 커넥터의 평균가격은 3분기 누적 5% (YoY) 상승했다. 구리 등 비철원재료와\\n수지원재료(PBT 등)의 투입원가는 누적 기준 각각 +2.3%/-4.4% (YoY) 변동했다. 주요 공\\n장의 가동률이 5%p (YoY) 상승하면서 고정비 레버리지 효과가 발생하여 매출원가율이 -\\n2.6%p (YoY), +1.2%p (QoQ) 변동했다. 결과로 매출총이익률이 20.8%를 기록했고, 영업\\n이익률은 +2.5%p (YoY), -1.7%p (QoQ) 변동한 12.8%로 2분기 14.5%에 이어 2020년\\n이후 두 번째로 높은 분기 수익성을 보였다. 3분기가 계절적 비수기임을 고려할 때 3분기\\n기준으로는 최고치이다. 영업외 외환손실로 세전이익/지배주주순이익은 영업이익 증가율\\n보다 낮은 16%/26% (YoY) 증가한 393억원/338억원을 기록했다.미국 법인의 3분기 누적 매출액이 전년 연간 매출액의 3.3배까지 증가북미 판매/생산을 각각 담당하는 미국/멕시코 법인은 전기차용 ICB(Inter-Connect Board)\\n위주로 급성장을 이어가고 있다. 미국/멕시코는 2022년 첫 매출액이 발생한 후 2023년\\n689억원/195원을 기록했고, 2024년에는 분기 매출액이 전년 연간 수준을 기록 중이다. 1\\n분기 538억원/158억원, 2분기 893억원/264억원, 그리고 이번 3분기에도 853억원/237억원\\n을 기록했다. 3분기 누적 매출액만 벌써 2023년 연간 매출액의 3.3배 수준인 2,283억원\\n/660억원으로 목표치를 크게 넘어섰다. ICB 제품이 기존 커넥터 대비 단가가 현저히 높은\\n가운데, 주 고객사인 북미 완성차의 전기차 모델향 납품이 늘고, 환율도 우호적으로 작용\\n했기 때문이다. 순이익 역시 2023년 각각 46억원/8억원이었는데, 2024년에는 외형 성장에\\n따른 수익성 개선 효과로 1분기 25억원/29억원, 2분기 71억원/16억원, 3분기에는 72억원\\n/8억원으로 누적 168억원/53억원을 기록했다. 기수주 물량과 신규 고객의 발굴, 멕시코 2\\n공장의 증설 등으로 높은 성장이 이어질 것으로 기대된다.주가는 P/E 5배대로 높은 성장성 대비 저평가 상태매출액 대비 원재료 비율이 50% 전후로 구리 등 비철원재료의 가격 변동에 수익성이 영\\n향을 받지만, 주요 고정성 비용도 20%대인 바 외형 고성장에 따른 수익성 개선이 더 크\\n게 나오고 있다. 자동차의 전장화/전동화로 커넥터의 사용량과 단가가 상승하고, 영업 지\\n역이 미국/유럽으로 확대되며, 고객군도 글로벌OE 및 2차전지 업체로 다변화되기 때문이\\n다. 3분기 누적 지배주주순이익이 1,147억원이고, 연간 1,400억원 이상이 예상된다. 현재\\n주가는 P/E 5배대 수준으로 한국단자의 높은 성장성 및 수익성 대비 저평가된 상태이다.',\n",
       " 1: '한국단자 (025540)도표 1. 한국단자의 실적 추이(단위: 십억원, %)자료: 한국단자, 하나증권도표 2. 한국단자의 미국 법인 매출액/순이익 추이자료: 한국단자, 하나증권도표 3. 한국단자의 멕시코 법인 매출액/순이익 추이자료: 한국단자, 하나증권하나증권·3',\n",
       " 2: '도표 4. 한국단자의 자동차용 ASP 상승률 추이자료: 한국단자, 하나증권도표 6. 국제 구리 가격 추이 (LME Copper)한국단자 (025540)도표 5. 한국단자의 매출액 증가율 추이자료: 한국단자, 하나증권자료: LME도표 7. LME 구리 가격과 한국단자의 원재료비 /매출액 비율 추이자료: 한국단자, LME, 하나증권도표 8. 한국단자의 매출총이익률 추이자료: 한국단자, 하나증권하나증권·4',\n",
       " 3: '한국단자 (025540)추정 재무제표손익계산서(단위:십억원)대차대조표(단위:십억원)투자지표현금흐름표(단위:십억원)자료: 하나증권하나증권·5',\n",
       " 4: '한국단자 (025540)투자의견 변동 내역 및 목표주가 괴리율한국단자괴리율날짜 투자의견 목표주가Compliance Notice평균 최고/최저23.12.26 Not Rated· 본 자료를 작성한 애널리스트(송선재)는 자료의 작성과 관련하여 외부의 압력이나 부당\\n한 간섭을 받지 않았으며, 본인의 의견을 정확하게 반영하여 신의성실 하게 작성하였\\n습니다.\\n· 본 자료는 기관투자가 등 제 3자에게 사전 제공한 사실이 없습니다\\n· 당사는 2024년 11월 21일 현재 해당회사의 지분을 1%이상 보유 하고 있지 않습니다\\n· 본자료를 작성한 애널리스트(송선재)는 2024년 11월 21일 현재 해당회사의 유가증권을\\n보유하고 있지 않습니다본 조사자료는 고객의 투자에 정보를 제공할 목적으로 작성되었으며, 어떠한 경우에도\\n무 단 복제 및 배포 될 수 없습니다. 또한 본 자료에 수록된 내용은 당사가 신뢰할 만한\\n자료 및 정보로 얻어진 것이나, 그 정확성이나 완전성을 보장할 수 없으므로 투자자 자\\n신의 판단과 책임하에 최종결정을 하시기 바랍니다. 따라서 어떠한 경우에도 본 자료는\\n고객의 주식투자의 결과에 대한 법적 책임소재의 증빙자료로 사용될 수 없습니다.투자등급 관련사항 및 투자의견 비율공시· 투자의견의 유효기간은 추천일 이후 12개월을 기준으로 적용· 기업의 분류\\nBUY(매수)_ 목표주가가 현주가 대비 15% 이상 상승 여력\\nNeutral(중립)_ 목표주가가 현주가 대비 -15%~15% 등락\\nReduce(비중축소)_ 목표주가가 현주가 대비 15% 이상 하락 가능· 산업의 분류Overweight(비중확대)_ 업종지수가 현재지수 대비 15% 이상 상승 여력\\nNeutral(중립)_ 업종지수가 현재지수 대비 -15%~15% 등락\\nUnderweight(비중축소)_ 업종지수가 현재지수 대비 -15%~15% 등락* 기준일: 2024년 11월 17일하나증권6'}"
      ]
     },
     "execution_count": 40,
     "metadata": {},
     "output_type": "execute_result"
    }
   ],
   "source": [
    "state_out = extract_page_text(state)\n",
    "state.update(state_out)\n",
    "state[\"texts\"]"
   ]
  },
  {
   "cell_type": "code",
   "execution_count": 41,
   "metadata": {},
   "outputs": [
    {
     "name": "stderr",
     "output_type": "stream",
     "text": [
      "C:\\Users\\user\\AppData\\Local\\Temp\\ipykernel_6752\\4093944364.py:27: LangChainDeprecationWarning: The class `ChatOpenAI` was deprecated in LangChain 0.0.10 and will be removed in 1.0. An updated version of the class exists in the :class:`~langchain-openai package and should be used instead. To use it run `pip install -U :class:`~langchain-openai` and import as `from :class:`~langchain_openai import ChatOpenAI``.\n",
      "  llm = ChatOpenAI(\n"
     ]
    }
   ],
   "source": [
    "from langchain_core.prompts import PromptTemplate\n",
    "from langchain.chat_models import ChatOpenAI\n",
    "from langchain.chains.combine_documents import (\n",
    "    create_stuff_documents_chain,\n",
    ")\n",
    "from langchain_core.documents import Document\n",
    "\n",
    "# 요약을 위한 프롬프트 템플릿을 정의합니다.\n",
    "prompt = PromptTemplate.from_template(\n",
    "    \"\"\"아래의 규칙에 따라 차트와 표를 요약해줘\n",
    "    \n",
    "규칙:\n",
    "1. 보기 쉽게 넘버링으로 요약해줘.\n",
    "2. 한국어로 작성해줘.\n",
    "3. 기계적 용어는 번역하지 말고, 원문 그대로 보여줘.\n",
    "4. 불필요한 정보는 포함하지 말아줘.\n",
    "5. 중요한 실제 값과 수치를 포함해서 요약해줘.\n",
    "\n",
    "CONTEXT:\n",
    "{context}\n",
    "\n",
    "SUMMARY:\"\n",
    "\"\"\"\n",
    ")\n",
    "\n",
    "# ChatOpenAI 모델의 또 다른 인스턴스를 생성합니다. (이전 인스턴스와 동일한 설정)\n",
    "llm = ChatOpenAI(\n",
    "    model_name=\"gpt-4o-mini\",\n",
    "    temperature=0,\n",
    ")\n",
    "\n",
    "# 문서 요약을 위한 체인을 생성합니다.\n",
    "# 이 체인은 여러 문서를 입력받아 하나의 요약된 텍스트로 결합합니다.\n",
    "text_summary_chain = create_stuff_documents_chain(llm, prompt)"
   ]
  },
  {
   "cell_type": "code",
   "execution_count": 42,
   "metadata": {},
   "outputs": [
    {
     "data": {
      "text/plain": [
       "{0: '1. **3분기 실적**: 한국단자는 3Q24에서 매출액 3,780억원, 영업이익 485억원을 기록함. 영업이익률은 12.8%로, 전년 대비 +2.5%p 증가.\\n\\n2. **매출 증가율**: 매출액은 전년 대비 19% 증가, 영업이익은 48% 증가. 영업이익 기준 컨센서스 대비 +30% 서프라이즈.\\n\\n3. **지역별 매출**:\\n   - 한국: 매출액 6% 증가 (YoY)\\n   - 폴란드: 매출액 17% 감소 (YoY)\\n   - 미국: 매출액 317% 급증 (YoY)\\n\\n4. **미국/멕시코 법인**: 합산 매출액 비중 21%로, 전년 대비 15%p 상승. 3분기 누적 매출액은 2,283억원으로, 2023년 연간 매출액의 3.3배.\\n\\n5. **원가 및 수익성**: \\n   - 차량용 커넥터 평균가격 5% 상승 (YoY)\\n   - 구리 등 비철원재료 원가는 +2.3% 변동, 수지원재료는 -4.4% 변동.\\n   - 매출원가율은 -2.6%p (YoY) 감소, 매출총이익률 20.8% 기록.\\n\\n6. **순이익**: 3분기 세전이익 393억원, 지배주주순이익 338억원으로 각각 16% 및 26% 증가 (YoY).\\n\\n7. **기대 성장**: 기수주 물량, 신규 고객 발굴, 멕시코 2공장 증설로 높은 성장 기대.\\n\\n8. **주가 평가**: 현재 P/E 5배대로 저평가 상태, 연간 지배주주순이익 1,400억원 이상 예상.',\n",
       " 1: '1. **한국단자 실적 추이**  \\n   - 단위: 십억원, %  \\n   - 주요 실적: 매출, 영업이익, 순이익 등\\n\\n2. **미국 법인 매출액/순이익 추이**  \\n   - 매출액: [구체적인 수치]  \\n   - 순이익: [구체적인 수치]  \\n   - 연도별 변화: [구체적인 변화]\\n\\n3. **멕시코 법인 매출액/순이익 추이**  \\n   - 매출액: [구체적인 수치]  \\n   - 순이익: [구체적인 수치]  \\n   - 연도별 변화: [구체적인 변화]  \\n\\n*각 항목의 구체적인 수치는 원문에서 확인 필요.*',\n",
       " 2: '1. **한국단자의 자동차용 ASP 상승률**: 한국단자의 자동차용 ASP는 지속적으로 상승하고 있으며, 최근 몇 년간의 상승률이 두드러짐.\\n\\n2. **국제 구리 가격 추이 (LME Copper)**: LME Copper 가격은 변동성이 있으며, 특정 시점에서 급격한 상승과 하락을 보임.\\n\\n3. **한국단자의 매출액 증가율**: 한국단자의 매출액은 지속적으로 증가하고 있으며, 최근 몇 년간의 증가율이 긍정적인 추세를 보임.\\n\\n4. **LME 구리 가격과 한국단자의 원재료비/매출액 비율**: LME 구리 가격의 변동에 따라 한국단자의 원재료비/매출액 비율도 변화하며, 이 비율은 원자재 가격 상승에 영향을 받음.\\n\\n5. **한국단자의 매출총이익률 추이**: 한국단자의 매출총이익률은 안정적인 수준을 유지하고 있으며, 원자재 가격 상승에도 불구하고 긍정적인 실적을 보임.',\n",
       " 3: '1. **손익계산서 (단위: 십억원)**\\n   - 매출: [값 입력 필요]\\n   - 영업이익: [값 입력 필요]\\n   - 순이익: [값 입력 필요]\\n\\n2. **대차대조표 (단위: 십억원)**\\n   - 자산: [값 입력 필요]\\n   - 부채: [값 입력 필요]\\n   - 자본: [값 입력 필요]\\n\\n3. **투자지표**\\n   - PER: [값 입력 필요]\\n   - PBR: [값 입력 필요]\\n   - ROE: [값 입력 필요]\\n\\n4. **현금흐름표 (단위: 십억원)**\\n   - 영업활동현금흐름: [값 입력 필요]\\n   - 투자활동현금흐름: [값 입력 필요]\\n   - 재무활동현금흐름: [값 입력 필요]\\n\\n자료 출처: 하나증권',\n",
       " 4: '1. **투자의견 변동 내역**: 한국단자 (025540) 관련 투자의견은 현재 \"Not Rated\" 상태입니다.\\n   \\n2. **목표주가 괴리율**: 목표주가는 현재 주가 대비 15% 이상 상승 여력이 있는 경우 \"BUY\", -15%~15% 등락 시 \"Neutral\", 15% 이상 하락 가능 시 \"Reduce\"로 분류됩니다.\\n\\n3. **투자등급 유효기간**: 투자의견의 유효기간은 추천일 이후 12개월입니다.\\n\\n4. **산업 분류**: 업종지수에 대한 분류는 \"Overweight\", \"Neutral\", \"Underweight\"로 나뉘며, 각각의 기준은 현재지수 대비 15% 이상 상승 여력, -15%~15% 등락, -15% 이상 하락 가능성입니다.\\n\\n5. **기타 정보**: 자료 작성자는 2024년 11월 21일 현재 한국단자의 지분을 1% 이상 보유하고 있지 않으며, 유가증권도 보유하고 있지 않습니다.'}"
      ]
     },
     "execution_count": 42,
     "metadata": {},
     "output_type": "execute_result"
    }
   ],
   "source": [
    "def create_text_summary(state: GraphState):\n",
    "    # state에서 텍스트 데이터를 가져옵니다.\n",
    "    texts = state[\"texts\"]\n",
    "\n",
    "    # 요약된 텍스트를 저장할 딕셔너리를 초기화합니다.\n",
    "    text_summary = dict()\n",
    "\n",
    "    # texts.items()를 페이지 번호(키)를 기준으로 오름차순 정렬합니다.\n",
    "    sorted_texts = sorted(texts.items(), key=lambda x: x[0])\n",
    "\n",
    "    # 각 페이지의 텍스트를 Document 객체로 변환하여 입력 리스트를 생성합니다.\n",
    "    inputs = [\n",
    "        {\"context\": [Document(page_content=text)]} for page_num, text in sorted_texts\n",
    "    ]\n",
    "\n",
    "    # text_summary_chain을 사용하여 일괄 처리로 요약을 생성합니다.\n",
    "    summaries = text_summary_chain.batch(inputs)\n",
    "\n",
    "    # 생성된 요약을 페이지 번호와 함께 딕셔너리에 저장합니다.\n",
    "    for page_num, summary in enumerate(summaries):\n",
    "        text_summary[page_num] = summary\n",
    "\n",
    "    # 요약된 텍스트를 포함한 새로운 GraphState 객체를 반환합니다.\n",
    "    return GraphState(text_summary=text_summary)\n",
    "\n",
    "\n",
    "# create_text_summary 함수를 호출하여 텍스트 요약을 생성합니다.\n",
    "state_out = create_text_summary(state)\n",
    "\n",
    "# 생성된 요약을 기존 state에 업데이트합니다.\n",
    "state.update(state_out)\n",
    "\n",
    "# 요약된 텍스트를 출력합니다.\n",
    "state_out[\"text_summary\"]"
   ]
  },
  {
   "cell_type": "markdown",
   "metadata": {},
   "source": [
    "## Image, Table 요약을 위한 데이터 배치 생성"
   ]
  },
  {
   "cell_type": "code",
   "execution_count": 43,
   "metadata": {},
   "outputs": [
    {
     "data": {
      "text/plain": [
       "{'bounding_box': [{'x': 97, 'y': 1205},\n",
       "  {'x': 599, 'y': 1205},\n",
       "  {'x': 599, 'y': 1541},\n",
       "  {'x': 97, 'y': 1541}],\n",
       " 'category': 'chart',\n",
       " 'html': '<figure data-category=\\'chart\\'><img id=\\'6\\' style=\\'font-size:14px\\' alt=\"(십억원)\\n■ 매출액 순이익\\n100\\n89.3\\n85.3\\n90\\n80\\n70\\n60 53.8\\n50\\n40\\n28.6\\n30 20.4\\n14.0\\n20\\n4.9 5.9 7.1 7.2\\n10 0.5 1.4 1.0 1.7 2.5\\n0\\n(10) 0.0\\n2022 2023 2024\" data-coord=\"top-left:(97,1205); bottom-right:(599,1541)\" /></figure>',\n",
       " 'id': 16,\n",
       " 'page': 1,\n",
       " 'text': '(십억원)\\n■ 매출액 순이익\\n100\\n89.3\\n85.3\\n90\\n80\\n70\\n60 53.8\\n50\\n40\\n28.6\\n30 20.4\\n14.0\\n20\\n4.9 5.9 7.1 7.2\\n10 0.5 1.4 1.0 1.7 2.5\\n0\\n(10) 0.0\\n2022 2023 2024'}"
      ]
     },
     "execution_count": 43,
     "metadata": {},
     "output_type": "execute_result"
    }
   ],
   "source": [
    "state[\"page_elements\"][1][\"image_elements\"][0]"
   ]
  },
  {
   "cell_type": "code",
   "execution_count": 44,
   "metadata": {},
   "outputs": [
    {
     "name": "stdout",
     "output_type": "stream",
     "text": [
      "1. **한국단자 실적 추이**  \n",
      "   - 단위: 십억원, %  \n",
      "   - 주요 실적: 매출, 영업이익, 순이익 등\n",
      "\n",
      "2. **미국 법인 매출액/순이익 추이**  \n",
      "   - 매출액: [구체적인 수치]  \n",
      "   - 순이익: [구체적인 수치]  \n",
      "   - 연도별 변화: [구체적인 변화]\n",
      "\n",
      "3. **멕시코 법인 매출액/순이익 추이**  \n",
      "   - 매출액: [구체적인 수치]  \n",
      "   - 순이익: [구체적인 수치]  \n",
      "   - 연도별 변화: [구체적인 변화]  \n",
      "\n",
      "*각 항목의 구체적인 수치는 원문에서 확인 필요.*\n"
     ]
    }
   ],
   "source": [
    "print(state[\"text_summary\"][1])"
   ]
  },
  {
   "cell_type": "code",
   "execution_count": 45,
   "metadata": {},
   "outputs": [],
   "source": [
    "def create_image_summary_data_batches(state: GraphState):\n",
    "    # 이미지 요약을 위한 데이터 배치를 생성하는 함수\n",
    "    data_batches = []\n",
    "\n",
    "    # 페이지 번호를 오름차순으로 정렬\n",
    "    page_numbers = sorted(list(state[\"page_elements\"].keys()))\n",
    "\n",
    "    for page_num in page_numbers:\n",
    "        # 각 페이지의 요약된 텍스트를 가져옴\n",
    "        text = state[\"text_summary\"][page_num]\n",
    "        # 해당 페이지의 모든 이미지 요소에 대해 반복\n",
    "        for image_element in state[\"page_elements\"][page_num][\"image_elements\"]:\n",
    "            # 이미지 ID를 정수로 변환\n",
    "            image_id = int(image_element[\"id\"])\n",
    "\n",
    "            # 데이터 배치에 이미지 정보, 관련 텍스트, 페이지 번호, ID를 추가\n",
    "            data_batches.append(\n",
    "                {\n",
    "                    \"image\": state[\"images\"][image_id],  # 이미지 파일 경로\n",
    "                    \"text\": text,  # 관련 텍스트 요약\n",
    "                    \"page\": page_num,  # 페이지 번호\n",
    "                    \"id\": image_id,  # 이미지 ID\n",
    "                }\n",
    "            )\n",
    "    # 생성된 데이터 배치를 GraphState 객체에 담아 반환\n",
    "    return GraphState(image_summary_data_batches=data_batches)\n",
    "\n",
    "\n",
    "def create_table_summary_data_batches(state: GraphState):\n",
    "    # 테이블 요약을 위한 데이터 배치를 생성하는 함수\n",
    "    data_batches = []\n",
    "\n",
    "    # 페이지 번호를 오름차순으로 정렬\n",
    "    page_numbers = sorted(list(state[\"page_elements\"].keys()))\n",
    "\n",
    "    for page_num in page_numbers:\n",
    "        # 각 페이지의 요약된 텍스트를 가져옴\n",
    "        text = state[\"text_summary\"][page_num]\n",
    "        # 해당 페이지의 모든 테이블 요소에 대해 반복\n",
    "        for image_element in state[\"page_elements\"][page_num][\"table_elements\"]:\n",
    "            # 테이블 ID를 정수로 변환\n",
    "            image_id = int(image_element[\"id\"])\n",
    "\n",
    "            # 데이터 배치에 테이블 정보, 관련 텍스트, 페이지 번호, ID를 추가\n",
    "            data_batches.append(\n",
    "                {\n",
    "                    \"table\": state[\"tables\"][image_id],  # 테이블 데이터\n",
    "                    \"text\": text,  # 관련 텍스트 요약\n",
    "                    \"page\": page_num,  # 페이지 번호\n",
    "                    \"id\": image_id,  # 테이블 ID\n",
    "                }\n",
    "            )\n",
    "    # 생성된 데이터 배치를 GraphState 객체에 담아 반환\n",
    "    return GraphState(table_summary_data_batches=data_batches)"
   ]
  },
  {
   "cell_type": "code",
   "execution_count": 46,
   "metadata": {},
   "outputs": [
    {
     "data": {
      "text/plain": [
       "{'image_summary_data_batches': [{'image': 'data/20241121_company_54055000\\\\16.png',\n",
       "   'text': '1. **한국단자 실적 추이**  \\n   - 단위: 십억원, %  \\n   - 주요 실적: 매출, 영업이익, 순이익 등\\n\\n2. **미국 법인 매출액/순이익 추이**  \\n   - 매출액: [구체적인 수치]  \\n   - 순이익: [구체적인 수치]  \\n   - 연도별 변화: [구체적인 변화]\\n\\n3. **멕시코 법인 매출액/순이익 추이**  \\n   - 매출액: [구체적인 수치]  \\n   - 순이익: [구체적인 수치]  \\n   - 연도별 변화: [구체적인 변화]  \\n\\n*각 항목의 구체적인 수치는 원문에서 확인 필요.*',\n",
       "   'page': 1,\n",
       "   'id': 16},\n",
       "  {'image': 'data/20241121_company_54055000\\\\19.png',\n",
       "   'text': '1. **한국단자 실적 추이**  \\n   - 단위: 십억원, %  \\n   - 주요 실적: 매출, 영업이익, 순이익 등\\n\\n2. **미국 법인 매출액/순이익 추이**  \\n   - 매출액: [구체적인 수치]  \\n   - 순이익: [구체적인 수치]  \\n   - 연도별 변화: [구체적인 변화]\\n\\n3. **멕시코 법인 매출액/순이익 추이**  \\n   - 매출액: [구체적인 수치]  \\n   - 순이익: [구체적인 수치]  \\n   - 연도별 변화: [구체적인 변화]  \\n\\n*각 항목의 구체적인 수치는 원문에서 확인 필요.*',\n",
       "   'page': 1,\n",
       "   'id': 19},\n",
       "  {'image': 'data/20241121_company_54055000\\\\23.png',\n",
       "   'text': '1. **한국단자의 자동차용 ASP 상승률**: 한국단자의 자동차용 ASP는 지속적으로 상승하고 있으며, 최근 몇 년간의 상승률이 두드러짐.\\n\\n2. **국제 구리 가격 추이 (LME Copper)**: LME Copper 가격은 변동성이 있으며, 특정 시점에서 급격한 상승과 하락을 보임.\\n\\n3. **한국단자의 매출액 증가율**: 한국단자의 매출액은 지속적으로 증가하고 있으며, 최근 몇 년간의 증가율이 긍정적인 추세를 보임.\\n\\n4. **LME 구리 가격과 한국단자의 원재료비/매출액 비율**: LME 구리 가격의 변동에 따라 한국단자의 원재료비/매출액 비율도 변화하며, 이 비율은 원자재 가격 상승에 영향을 받음.\\n\\n5. **한국단자의 매출총이익률 추이**: 한국단자의 매출총이익률은 안정적인 수준을 유지하고 있으며, 원자재 가격 상승에도 불구하고 긍정적인 실적을 보임.',\n",
       "   'page': 2,\n",
       "   'id': 23},\n",
       "  {'image': 'data/20241121_company_54055000\\\\28.png',\n",
       "   'text': '1. **한국단자의 자동차용 ASP 상승률**: 한국단자의 자동차용 ASP는 지속적으로 상승하고 있으며, 최근 몇 년간의 상승률이 두드러짐.\\n\\n2. **국제 구리 가격 추이 (LME Copper)**: LME Copper 가격은 변동성이 있으며, 특정 시점에서 급격한 상승과 하락을 보임.\\n\\n3. **한국단자의 매출액 증가율**: 한국단자의 매출액은 지속적으로 증가하고 있으며, 최근 몇 년간의 증가율이 긍정적인 추세를 보임.\\n\\n4. **LME 구리 가격과 한국단자의 원재료비/매출액 비율**: LME 구리 가격의 변동에 따라 한국단자의 원재료비/매출액 비율도 변화하며, 이 비율은 원자재 가격 상승에 영향을 받음.\\n\\n5. **한국단자의 매출총이익률 추이**: 한국단자의 매출총이익률은 안정적인 수준을 유지하고 있으며, 원자재 가격 상승에도 불구하고 긍정적인 실적을 보임.',\n",
       "   'page': 2,\n",
       "   'id': 28},\n",
       "  {'image': 'data/20241121_company_54055000\\\\30.png',\n",
       "   'text': '1. **한국단자의 자동차용 ASP 상승률**: 한국단자의 자동차용 ASP는 지속적으로 상승하고 있으며, 최근 몇 년간의 상승률이 두드러짐.\\n\\n2. **국제 구리 가격 추이 (LME Copper)**: LME Copper 가격은 변동성이 있으며, 특정 시점에서 급격한 상승과 하락을 보임.\\n\\n3. **한국단자의 매출액 증가율**: 한국단자의 매출액은 지속적으로 증가하고 있으며, 최근 몇 년간의 증가율이 긍정적인 추세를 보임.\\n\\n4. **LME 구리 가격과 한국단자의 원재료비/매출액 비율**: LME 구리 가격의 변동에 따라 한국단자의 원재료비/매출액 비율도 변화하며, 이 비율은 원자재 가격 상승에 영향을 받음.\\n\\n5. **한국단자의 매출총이익률 추이**: 한국단자의 매출총이익률은 안정적인 수준을 유지하고 있으며, 원자재 가격 상승에도 불구하고 긍정적인 실적을 보임.',\n",
       "   'page': 2,\n",
       "   'id': 30},\n",
       "  {'image': 'data/20241121_company_54055000\\\\33.png',\n",
       "   'text': '1. **한국단자의 자동차용 ASP 상승률**: 한국단자의 자동차용 ASP는 지속적으로 상승하고 있으며, 최근 몇 년간의 상승률이 두드러짐.\\n\\n2. **국제 구리 가격 추이 (LME Copper)**: LME Copper 가격은 변동성이 있으며, 특정 시점에서 급격한 상승과 하락을 보임.\\n\\n3. **한국단자의 매출액 증가율**: 한국단자의 매출액은 지속적으로 증가하고 있으며, 최근 몇 년간의 증가율이 긍정적인 추세를 보임.\\n\\n4. **LME 구리 가격과 한국단자의 원재료비/매출액 비율**: LME 구리 가격의 변동에 따라 한국단자의 원재료비/매출액 비율도 변화하며, 이 비율은 원자재 가격 상승에 영향을 받음.\\n\\n5. **한국단자의 매출총이익률 추이**: 한국단자의 매출총이익률은 안정적인 수준을 유지하고 있으며, 원자재 가격 상승에도 불구하고 긍정적인 실적을 보임.',\n",
       "   'page': 2,\n",
       "   'id': 33},\n",
       "  {'image': 'data/20241121_company_54055000\\\\36.png',\n",
       "   'text': '1. **한국단자의 자동차용 ASP 상승률**: 한국단자의 자동차용 ASP는 지속적으로 상승하고 있으며, 최근 몇 년간의 상승률이 두드러짐.\\n\\n2. **국제 구리 가격 추이 (LME Copper)**: LME Copper 가격은 변동성이 있으며, 특정 시점에서 급격한 상승과 하락을 보임.\\n\\n3. **한국단자의 매출액 증가율**: 한국단자의 매출액은 지속적으로 증가하고 있으며, 최근 몇 년간의 증가율이 긍정적인 추세를 보임.\\n\\n4. **LME 구리 가격과 한국단자의 원재료비/매출액 비율**: LME 구리 가격의 변동에 따라 한국단자의 원재료비/매출액 비율도 변화하며, 이 비율은 원자재 가격 상승에 영향을 받음.\\n\\n5. **한국단자의 매출총이익률 추이**: 한국단자의 매출총이익률은 안정적인 수준을 유지하고 있으며, 원자재 가격 상승에도 불구하고 긍정적인 실적을 보임.',\n",
       "   'page': 2,\n",
       "   'id': 36},\n",
       "  {'image': 'data/20241121_company_54055000\\\\57.png',\n",
       "   'text': '1. **투자의견 변동 내역**: 한국단자 (025540) 관련 투자의견은 현재 \"Not Rated\" 상태입니다.\\n   \\n2. **목표주가 괴리율**: 목표주가는 현재 주가 대비 15% 이상 상승 여력이 있는 경우 \"BUY\", -15%~15% 등락 시 \"Neutral\", 15% 이상 하락 가능 시 \"Reduce\"로 분류됩니다.\\n\\n3. **투자등급 유효기간**: 투자의견의 유효기간은 추천일 이후 12개월입니다.\\n\\n4. **산업 분류**: 업종지수에 대한 분류는 \"Overweight\", \"Neutral\", \"Underweight\"로 나뉘며, 각각의 기준은 현재지수 대비 15% 이상 상승 여력, -15%~15% 등락, -15% 이상 하락 가능성입니다.\\n\\n5. **기타 정보**: 자료 작성자는 2024년 11월 21일 현재 한국단자의 지분을 1% 이상 보유하고 있지 않으며, 유가증권도 보유하고 있지 않습니다.',\n",
       "   'page': 4,\n",
       "   'id': 57}]}"
      ]
     },
     "execution_count": 46,
     "metadata": {},
     "output_type": "execute_result"
    }
   ],
   "source": [
    "state_out = create_image_summary_data_batches(state)\n",
    "state.update(state_out)\n",
    "state_out"
   ]
  },
  {
   "cell_type": "code",
   "execution_count": 47,
   "metadata": {},
   "outputs": [
    {
     "data": {
      "text/plain": [
       "{'table_summary_data_batches': [{'table': 'data/20241121_company_54055000\\\\1.png',\n",
       "   'text': '1. **3분기 실적**: 한국단자는 3Q24에서 매출액 3,780억원, 영업이익 485억원을 기록함. 영업이익률은 12.8%로, 전년 대비 +2.5%p 증가.\\n\\n2. **매출 증가율**: 매출액은 전년 대비 19% 증가, 영업이익은 48% 증가. 영업이익 기준 컨센서스 대비 +30% 서프라이즈.\\n\\n3. **지역별 매출**:\\n   - 한국: 매출액 6% 증가 (YoY)\\n   - 폴란드: 매출액 17% 감소 (YoY)\\n   - 미국: 매출액 317% 급증 (YoY)\\n\\n4. **미국/멕시코 법인**: 합산 매출액 비중 21%로, 전년 대비 15%p 상승. 3분기 누적 매출액은 2,283억원으로, 2023년 연간 매출액의 3.3배.\\n\\n5. **원가 및 수익성**: \\n   - 차량용 커넥터 평균가격 5% 상승 (YoY)\\n   - 구리 등 비철원재료 원가는 +2.3% 변동, 수지원재료는 -4.4% 변동.\\n   - 매출원가율은 -2.6%p (YoY) 감소, 매출총이익률 20.8% 기록.\\n\\n6. **순이익**: 3분기 세전이익 393억원, 지배주주순이익 338억원으로 각각 16% 및 26% 증가 (YoY).\\n\\n7. **기대 성장**: 기수주 물량, 신규 고객 발굴, 멕시코 2공장 증설로 높은 성장 기대.\\n\\n8. **주가 평가**: 현재 P/E 5배대로 저평가 상태, 연간 지배주주순이익 1,400억원 이상 예상.',\n",
       "   'page': 0,\n",
       "   'id': 1},\n",
       "  {'table': 'data/20241121_company_54055000\\\\13.png',\n",
       "   'text': '1. **한국단자 실적 추이**  \\n   - 단위: 십억원, %  \\n   - 주요 실적: 매출, 영업이익, 순이익 등\\n\\n2. **미국 법인 매출액/순이익 추이**  \\n   - 매출액: [구체적인 수치]  \\n   - 순이익: [구체적인 수치]  \\n   - 연도별 변화: [구체적인 변화]\\n\\n3. **멕시코 법인 매출액/순이익 추이**  \\n   - 매출액: [구체적인 수치]  \\n   - 순이익: [구체적인 수치]  \\n   - 연도별 변화: [구체적인 변화]  \\n\\n*각 항목의 구체적인 수치는 원문에서 확인 필요.*',\n",
       "   'page': 1,\n",
       "   'id': 13},\n",
       "  {'table': 'data/20241121_company_54055000\\\\43.png',\n",
       "   'text': '1. **손익계산서 (단위: 십억원)**\\n   - 매출: [값 입력 필요]\\n   - 영업이익: [값 입력 필요]\\n   - 순이익: [값 입력 필요]\\n\\n2. **대차대조표 (단위: 십억원)**\\n   - 자산: [값 입력 필요]\\n   - 부채: [값 입력 필요]\\n   - 자본: [값 입력 필요]\\n\\n3. **투자지표**\\n   - PER: [값 입력 필요]\\n   - PBR: [값 입력 필요]\\n   - ROE: [값 입력 필요]\\n\\n4. **현금흐름표 (단위: 십억원)**\\n   - 영업활동현금흐름: [값 입력 필요]\\n   - 투자활동현금흐름: [값 입력 필요]\\n   - 재무활동현금흐름: [값 입력 필요]\\n\\n자료 출처: 하나증권',\n",
       "   'page': 3,\n",
       "   'id': 43},\n",
       "  {'table': 'data/20241121_company_54055000\\\\46.png',\n",
       "   'text': '1. **손익계산서 (단위: 십억원)**\\n   - 매출: [값 입력 필요]\\n   - 영업이익: [값 입력 필요]\\n   - 순이익: [값 입력 필요]\\n\\n2. **대차대조표 (단위: 십억원)**\\n   - 자산: [값 입력 필요]\\n   - 부채: [값 입력 필요]\\n   - 자본: [값 입력 필요]\\n\\n3. **투자지표**\\n   - PER: [값 입력 필요]\\n   - PBR: [값 입력 필요]\\n   - ROE: [값 입력 필요]\\n\\n4. **현금흐름표 (단위: 십억원)**\\n   - 영업활동현금흐름: [값 입력 필요]\\n   - 투자활동현금흐름: [값 입력 필요]\\n   - 재무활동현금흐름: [값 입력 필요]\\n\\n자료 출처: 하나증권',\n",
       "   'page': 3,\n",
       "   'id': 46},\n",
       "  {'table': 'data/20241121_company_54055000\\\\50.png',\n",
       "   'text': '1. **손익계산서 (단위: 십억원)**\\n   - 매출: [값 입력 필요]\\n   - 영업이익: [값 입력 필요]\\n   - 순이익: [값 입력 필요]\\n\\n2. **대차대조표 (단위: 십억원)**\\n   - 자산: [값 입력 필요]\\n   - 부채: [값 입력 필요]\\n   - 자본: [값 입력 필요]\\n\\n3. **투자지표**\\n   - PER: [값 입력 필요]\\n   - PBR: [값 입력 필요]\\n   - ROE: [값 입력 필요]\\n\\n4. **현금흐름표 (단위: 십억원)**\\n   - 영업활동현금흐름: [값 입력 필요]\\n   - 투자활동현금흐름: [값 입력 필요]\\n   - 재무활동현금흐름: [값 입력 필요]\\n\\n자료 출처: 하나증권',\n",
       "   'page': 3,\n",
       "   'id': 50},\n",
       "  {'table': 'data/20241121_company_54055000\\\\52.png',\n",
       "   'text': '1. **손익계산서 (단위: 십억원)**\\n   - 매출: [값 입력 필요]\\n   - 영업이익: [값 입력 필요]\\n   - 순이익: [값 입력 필요]\\n\\n2. **대차대조표 (단위: 십억원)**\\n   - 자산: [값 입력 필요]\\n   - 부채: [값 입력 필요]\\n   - 자본: [값 입력 필요]\\n\\n3. **투자지표**\\n   - PER: [값 입력 필요]\\n   - PBR: [값 입력 필요]\\n   - ROE: [값 입력 필요]\\n\\n4. **현금흐름표 (단위: 십억원)**\\n   - 영업활동현금흐름: [값 입력 필요]\\n   - 투자활동현금흐름: [값 입력 필요]\\n   - 재무활동현금흐름: [값 입력 필요]\\n\\n자료 출처: 하나증권',\n",
       "   'page': 3,\n",
       "   'id': 52},\n",
       "  {'table': 'data/20241121_company_54055000\\\\70.png',\n",
       "   'text': '1. **투자의견 변동 내역**: 한국단자 (025540) 관련 투자의견은 현재 \"Not Rated\" 상태입니다.\\n   \\n2. **목표주가 괴리율**: 목표주가는 현재 주가 대비 15% 이상 상승 여력이 있는 경우 \"BUY\", -15%~15% 등락 시 \"Neutral\", 15% 이상 하락 가능 시 \"Reduce\"로 분류됩니다.\\n\\n3. **투자등급 유효기간**: 투자의견의 유효기간은 추천일 이후 12개월입니다.\\n\\n4. **산업 분류**: 업종지수에 대한 분류는 \"Overweight\", \"Neutral\", \"Underweight\"로 나뉘며, 각각의 기준은 현재지수 대비 15% 이상 상승 여력, -15%~15% 등락, -15% 이상 하락 가능성입니다.\\n\\n5. **기타 정보**: 자료 작성자는 2024년 11월 21일 현재 한국단자의 지분을 1% 이상 보유하고 있지 않으며, 유가증권도 보유하고 있지 않습니다.',\n",
       "   'page': 4,\n",
       "   'id': 70}]}"
      ]
     },
     "execution_count": 47,
     "metadata": {},
     "output_type": "execute_result"
    }
   ],
   "source": [
    "state_out = create_table_summary_data_batches(state)\n",
    "state.update(state_out)\n",
    "state_out"
   ]
  },
  {
   "cell_type": "markdown",
   "metadata": {},
   "source": [
    "## Image, Table 요약 추출"
   ]
  },
  {
   "cell_type": "code",
   "execution_count": 48,
   "metadata": {},
   "outputs": [],
   "source": [
    "from langchain_teddynote.models import MultiModal\n",
    "from langchain_core.runnables import chain\n",
    "\n",
    "\n",
    "@chain\n",
    "def extract_image_summary(data_batches):\n",
    "    # 객체 생성\n",
    "    llm = ChatOpenAI(\n",
    "        temperature=0,  # 창의성 (0.0 ~ 2.0)\n",
    "        model_name=\"gpt-4o-mini\",  # 모델명\n",
    "    )\n",
    "\n",
    "    system_prompt = \"\"\"\n",
    "    당신은 이미지에서 유용한 정보를 추출하는 전문가입니다. 주어진 이미지에서 주요 엔터티를 추출하고, 이를 요약하여 나중에 검색에 사용할 수 있는 유용한 정보를 작성하는 것이 당신의 임무입니다.\n",
    "    \"\"\"\n",
    "\n",
    "\n",
    "    image_paths = []\n",
    "    system_prompts = []\n",
    "    user_prompts = []\n",
    "\n",
    "    for data_batch in data_batches:\n",
    "        context = data_batch[\"text\"]\n",
    "        image_path = data_batch[\"image\"]\n",
    "        user_prompt_template = f\"\"\"차트와 관련된 내용: {context}\n",
    "        \n",
    "###\n",
    "\n",
    "Output Format:\n",
    "\n",
    "<image>\n",
    "<title>\n",
    "<summary>\n",
    "<entities> \n",
    "</image>\n",
    "\n",
    "\"\"\"\n",
    "        image_paths.append(image_path)\n",
    "        system_prompts.append(system_prompt)\n",
    "        user_prompts.append(user_prompt_template)\n",
    "\n",
    "    # 멀티모달 객체 생성\n",
    "    multimodal_llm = MultiModal(llm)\n",
    "\n",
    "    # 이미지 파일로 부터 질의\n",
    "    answer = multimodal_llm.batch(\n",
    "        image_paths, system_prompts, user_prompts, display_image=False\n",
    "    )\n",
    "    return answer\n",
    "\n",
    "\n",
    "@chain\n",
    "def extract_table_summary(data_batches):\n",
    "    # 객체 생성\n",
    "    llm = ChatOpenAI(\n",
    "        temperature=0,  # 창의성 (0.0 ~ 2.0)\n",
    "        model_name=\"gpt-4o-mini\",  # 모델명\n",
    "    )\n",
    "\n",
    "    system_prompt = \"\"\"\n",
    "    당신은 표에서 유용한 정보를 추출하는 전문가입니다. 주어진 이미지에서 주요 엔티티를 추출하고, 이를 요약하여 나중에 검색에 활용할 수 있는 유용한 정보를 작성하는 것이 당신의 임무입니다.\n",
    "    \"\"\"\n",
    "\n",
    "    image_paths = []\n",
    "    system_prompts = []\n",
    "    user_prompts = []\n",
    "\n",
    "    for data_batch in data_batches:\n",
    "        context = data_batch[\"text\"]\n",
    "        image_path = data_batch[\"table\"]\n",
    "        user_prompt_template = f\"\"\"표와 관련된 내용: {context}\n",
    "        \n",
    "###\n",
    "\n",
    "Output Format:\n",
    "\n",
    "<table>\n",
    "<title>\n",
    "<table_summary>\n",
    "<key_entities> \n",
    "<data_insights>\n",
    "</table>\n",
    "\n",
    "\"\"\"\n",
    "        image_paths.append(image_path)\n",
    "        system_prompts.append(system_prompt)\n",
    "        user_prompts.append(user_prompt_template)\n",
    "\n",
    "    # 멀티모달 객체 생성\n",
    "    multimodal_llm = MultiModal(llm)\n",
    "\n",
    "    # 이미지 파일로 부터 질의\n",
    "    answer = multimodal_llm.batch(\n",
    "        image_paths, system_prompts, user_prompts, display_image=False\n",
    "    )\n",
    "    return answer"
   ]
  },
  {
   "cell_type": "code",
   "execution_count": 49,
   "metadata": {},
   "outputs": [
    {
     "data": {
      "text/plain": [
       "{16: '<image>\\n<title>한국단자 실적 추이</title>\\n<summary>이 차트는 2022년부터 2024년까지 한국단자의 매출액과 순이익 추이를 보여줍니다. 매출액은 지속적으로 증가하고 있으며, 순이익도 함께 상승하는 추세입니다. 2024년에는 매출액이 89.3억원, 순이익이 7.2억원에 달할 것으로 예상됩니다.</summary>\\n<entities>\\n- 한국단자\\n- 매출액\\n- 순이익\\n- 2022년\\n- 2023년\\n- 2024년\\n</entities>\\n</image>',\n",
       " 19: '<image>\\n<title>한국단자 실적 추이</title>\\n<summary>2022년부터 2024년까지의 한국단자의 매출액과 순이익 추이를 나타낸 차트. 2022년에는 매출액이 1.0십억원, 순이익은 -0.8십억원이었으며, 2024년에는 매출액이 26.4십억원, 순이익이 23.7십억원으로 증가함.</summary>\\n<entities>한국단자, 매출액, 순이익, 2022, 2023, 2024</entities>\\n</image>',\n",
       " 23: '<image>\\n<title>한국단자의 매출총이익률 추이</title>\\n<summary>한국단자의 매출총이익률은 2020년 1.7%에서 2022년 7.0%로 증가하였으며, 2023년에는 4.0%로 소폭 감소하였으나 2024년 3분기에는 5.0%로 회복세를 보일 것으로 예상됨.</summary>\\n<entities>\\n- 한국단자\\n- 매출총이익률\\n- 2020년\\n- 2021년\\n- 2022년\\n- 2023년\\n- 2024년 3분기\\n</entities>\\n</image>',\n",
       " 28: '<image>\\n<title>한국단자의 매출총이익률 추이</title>\\n<summary>한국단자의 매출총이익률은 2020년 3.9%에서 2021년 19.9%, 2022년 21.4%로 증가하였으며, 2023년에는 11.0%로 감소하였으나 2024년 3분기에는 15.9%로 회복세를 보이고 있다.</summary>\\n<entities>한국단자, 매출총이익률, 2020, 2021, 2022, 2023, 2024</entities>\\n</image>',\n",
       " 30: '<image>\\n<title>LME Copper Price Trend</title>\\n<summary>This chart illustrates the fluctuations in the LME Copper price over time, showing significant volatility with peaks and troughs. The price is measured in USD per tonne, indicating a general trend of rising and falling values throughout the observed period.</summary>\\n<entities>\\n- LME Copper Price\\n- USD per tonne\\n- Fluctuations\\n- Volatility\\n</entities>\\n</image>',\n",
       " 33: '<image>\\n<title>한국단자와 LME 구리 가격 추이</title>\\n<summary>이 차트는 LME 구리 가격과 한국단자의 원재료비/매출액 비율의 변화를 보여줍니다. LME 구리 가격은 2018년부터 2024년까지의 변동성을 나타내며, 원재료비/매출액 비율은 구리 가격의 영향을 받으며 상승과 하락을 반복하고 있습니다.</summary>\\n<entities>\\n- LME 구리 가격\\n- 원재료비/매출액 비율\\n- 한국단자\\n</entities>\\n</image>',\n",
       " 36: '<image>\\n<title>한국단자의 매출총이익률 추이</title>\\n<summary>한국단자의 매출총이익률은 2018년부터 2024년까지의 기간 동안 변동성을 보이며, 전반적으로 긍정적인 추세를 나타내고 있습니다. 최근 몇 년간의 데이터에 따르면, 매출총이익률은 10%에서 25% 사이에서 변화하고 있습니다.</summary>\\n<entities>\\n- 한국단자\\n- 매출총이익률\\n- 2018-2024\\n</entities>\\n</image>',\n",
       " 57: '<image>\\n<title>한국단자 주가 및 목표주가 변동 차트</title>\\n<summary>현재 한국단자의 투자의견은 \"Not Rated\"이며, 목표주가는 현재 주가 대비 15% 이상 상승 여력이 있는 경우 \"BUY\", -15%~15% 등락 시 \"Neutral\", 15% 이상 하락 가능 시 \"Reduce\"로 분류됩니다. 투자등급의 유효기간은 추천일 이후 12개월입니다. 업종지수는 \"Overweight\", \"Neutral\", \"Underweight\"로 나뉘며, 자료 작성자는 2024년 11월 21일 기준으로 한국단자의 지분을 1% 이상 보유하고 있지 않습니다.</summary>\\n<entities>\\n  <entity>한국단자 (025540)</entity>\\n  <entity>투자의견: Not Rated</entity>\\n  <entity>목표주가 괴리율: BUY, Neutral, Reduce</entity>\\n  <entity>투자등급 유효기간: 12개월</entity>\\n  <entity>산업 분류: Overweight, Neutral, Underweight</entity>\\n  <entity>자료 작성자 지분: 1% 미만</entity>\\n</entities>\\n</image>'}"
      ]
     },
     "execution_count": 49,
     "metadata": {},
     "output_type": "execute_result"
    }
   ],
   "source": [
    "def create_image_summary(state: GraphState):\n",
    "    # 이미지 요약 추출\n",
    "    # extract_image_summary 함수를 호출하여 이미지 요약 생성\n",
    "    image_summaries = extract_image_summary.invoke(\n",
    "        state[\"image_summary_data_batches\"],\n",
    "    )\n",
    "\n",
    "    # 이미지 요약 결과를 저장할 딕셔너리 초기화\n",
    "    image_summary_output = dict()\n",
    "\n",
    "    # 각 데이터 배치와 이미지 요약을 순회하며 처리\n",
    "    for data_batch, image_summary in zip(\n",
    "        state[\"image_summary_data_batches\"], image_summaries\n",
    "    ):\n",
    "        # 데이터 배치의 ID를 키로 사용하여 이미지 요약 저장\n",
    "        image_summary_output[data_batch[\"id\"]] = image_summary\n",
    "\n",
    "    # 이미지 요약 결과를 포함한 새로운 GraphState 객체 반환\n",
    "    return GraphState(image_summary=image_summary_output)\n",
    "\n",
    "\n",
    "# 이미지 요약 생성 함수 실행\n",
    "state_out = create_image_summary(state)\n",
    "\n",
    "# 기존 상태 업데이트\n",
    "state.update(state_out)\n",
    "\n",
    "# 이미지 요약 결과 출력\n",
    "state_out[\"image_summary\"]"
   ]
  },
  {
   "cell_type": "code",
   "execution_count": 50,
   "metadata": {},
   "outputs": [
    {
     "data": {
      "text/plain": [
       "{1: '<table>\\n<title>3분기 실적 요약</title>\\n<key_entities>\\n  <entity>한국단자</entity>\\n  <entity>3Q24</entity>\\n  <entity>매출액</entity>\\n  <entity>영업이익</entity>\\n  <entity>영업이익률</entity>\\n  <entity>지역별 매출</entity>\\n  <entity>미국/멕시코 법인</entity>\\n  <entity>순이익</entity>\\n  <entity>기대 성장</entity>\\n  <entity>주가 평가</entity>\\n</key_entities>\\n<data_insights>\\n  <insight>3Q24 매출액 3,780억원, 영업이익 485억원, 영업이익률 12.8%로 전년 대비 증가.</insight>\\n  <insight>매출액 19% 증가, 영업이익 48% 증가, 컨센서스 대비 30% 서프라이즈.</insight>\\n  <insight>한국 매출 6% 증가, 폴란드 17% 감소, 미국 317% 급증.</insight>\\n  <insight>미국/멕시코 법인 매출 비중 21%, 3분기 누적 매출액 2,283억원.</insight>\\n  <insight>차량용 커넥터 평균가격 5% 상승, 매출총이익률 20.8% 기록.</insight>\\n  <insight>세전이익 393억원, 지배주주순이익 338억원으로 각각 증가.</insight>\\n  <insight>기수주 물량 및 신규 고객 발굴로 높은 성장 기대.</insight>\\n  <insight>P/E 5배대로 저평가, 연간 지배주주순이익 1,400억원 이상 예상.</insight>\\n</data_insights>\\n</table>',\n",
       " 13: '```html\\n<table>\\n<title>실적 요약</title>\\n<table_summary>한국단자 및 법인별 매출액과 순이익 실적 추이</table_summary>\\n<key_entities>\\n  <entity>한국단자</entity>\\n  <entity>미국 법인</entity>\\n  <entity>멕시코 법인</entity>\\n  <entity>매출액</entity>\\n  <entity>순이익</entity>\\n  <entity>영업이익</entity>\\n</key_entities>\\n<data_insights>\\n  <insight>2023년 한국단자 매출액: 1,296.9억원</insight>\\n  <insight>2023년 미국 법인 매출액: [구체적인 수치]</insight>\\n  <insight>2023년 멕시코 법인 매출액: [구체적인 수치]</insight>\\n  <insight>연도별 매출액 및 순이익 변화: [구체적인 변화]</insight>\\n</data_insights>\\n</table>\\n```',\n",
       " 43: '```html\\n<table>\\n<title>Financial Summary</title>\\n<table_summary>Summary of financial performance and key metrics from 2019 to 2023.</table_summary>\\n<key_entities>\\n  <entity>Revenue</entity>\\n  <entity>Operating Income</entity>\\n  <entity>Net Income</entity>\\n  <entity>Assets</entity>\\n  <entity>Liabilities</entity>\\n  <entity>Equity</entity>\\n  <entity>PER</entity>\\n  <entity>PBR</entity>\\n  <entity>ROE</entity>\\n  <entity>Cash Flows from Operating Activities</entity>\\n  <entity>Cash Flows from Investing Activities</entity>\\n  <entity>Cash Flows from Financing Activities</entity>\\n</key_entities>\\n<data_insights>\\n  <insight>Revenue increased from 772 billion KRW in 2019 to 1,297 billion KRW in 2023.</insight>\\n  <insight>Operating income peaked at 112 billion KRW in 2023.</insight>\\n  <insight>Net income showed a significant increase, reaching 73 billion KRW in 2023.</insight>\\n  <insight>Growth rates for revenue and operating income varied significantly over the years.</insight>\\n</data_insights>\\n</table>\\n```',\n",
       " 46: '<table>\\n<title>Financial Overview</title>\\n<table_summary>Summary of financial data including assets, liabilities, and equity over the years.</table_summary>\\n<key_entities>유동자산, 비유동자산, 자산총계, 유동부채, 비유동부채, 부채총계, 지배주주지분, 자본총계</key_entities>\\n<data_insights>\\n- **유동자산**: Increased from 399 billion in 2019 to 748 billion in 2023.\\n- **비유동자산**: Grew from 486 billion in 2019 to 677 billion in 2023.\\n- **자산총계**: Total assets rose from 886 billion in 2019 to 1,425 billion in 2023.\\n- **유동부채**: Increased from 122 billion in 2019 to 394 billion in 2023.\\n- **비유동부채**: Increased from 53 billion in 2019 to 99 billion in 2023.\\n- **부채총계**: Total liabilities rose from 175 billion in 2019 to 493 billion in 2023.\\n- **지배주주지분**: Increased from 710 billion in 2019 to 932 billion in 2023.\\n- **자본총계**: Total equity rose from 710 billion in 2019 to 932 billion in 2023.\\n</data_insights>\\n</table>',\n",
       " 50: '```html\\n<table>\\n<title>Financial Summary</title>\\n<table_summary>Summary of financial performance and key metrics from 2019 to 2023.</table_summary>\\n<key_entities>\\n  <entity>손익계산서</entity>\\n  <entity>대차대조표</entity>\\n  <entity>투자지표</entity>\\n  <entity>현금흐름표</entity>\\n</key_entities>\\n<data_insights>\\n  <insight>매출, 영업이익, 순이익, 자산, 부채, 자본, PER, PBR, ROE, 영업활동현금흐름, 투자활동현금흐름, 재무활동현금흐름 등의 데이터가 필요합니다.</insight>\\n  <insight>주당지표와 재무비율이 포함되어 있으며, 2019년부터 2023년까지의 변화 추세를 보여줍니다.</insight>\\n</data_insights>\\n</table>\\n```',\n",
       " 52: '```html\\n<table>\\n<title>Financial Overview</title>\\n<table_summary>Summary of financial performance and cash flows from 2019 to 2023.</table_summary>\\n<key_entities>\\n  <entity>손익계산서</entity>\\n  <entity>대차대조표</entity>\\n  <entity>투자지표</entity>\\n  <entity>현금흐름표</entity>\\n</key_entities>\\n<data_insights>\\n  <insight>영업활동 현금흐름은 2019년 62억에서 2023년 136억으로 증가.</insight>\\n  <insight>투자활동 현금흐름은 2019년 -59억에서 2023년 -125억으로 악화.</insight>\\n  <insight>재무활동 현금흐름은 2019년 -1억에서 2023년 4억으로 개선.</insight>\\n  <insight>자유 현금 흐름은 2019년 -27억에서 2023년 35억으로 증가.</insight>\\n</data_insights>\\n</table>\\n```',\n",
       " 70: '```html\\n<table>\\n<title>투자의견 및 투자등급 요약</title>\\n<key_entities>\\n    <entity>한국단자 (025540)</entity>\\n    <entity>투자의견: Not Rated</entity>\\n    <entity>투자등급 유효기간: 12개월</entity>\\n    <entity>산업 분류: Overweight, Neutral, Underweight</entity>\\n    <entity>자료 작성자: 2024년 11월 21일 기준 지분 1% 미만 보유</entity>\\n</key_entities>\\n<data_insights>\\n    <insight>목표주가 괴리율 기준: BUY (15% 이상 상승), Neutral (-15%~15%), Reduce (15% 이상 하락)</insight>\\n    <insight>투자등급 비율: BUY 93.75%, Neutral 5.80%, Reduce 0.45%</insight>\\n</data_insights>\\n</table>\\n```'}"
      ]
     },
     "execution_count": 50,
     "metadata": {},
     "output_type": "execute_result"
    }
   ],
   "source": [
    "def create_table_summary(state: GraphState):\n",
    "    # 테이블 요약 추출\n",
    "    table_summaries = extract_table_summary.invoke(\n",
    "        state[\"table_summary_data_batches\"],\n",
    "    )\n",
    "\n",
    "    # 테이블 요약 결과를 저장할 딕셔너리 초기화\n",
    "    table_summary_output = dict()\n",
    "\n",
    "    # 각 데이터 배치와 테이블 요약을 순회하며 처리\n",
    "    for data_batch, table_summary in zip(\n",
    "        state[\"table_summary_data_batches\"], table_summaries\n",
    "    ):\n",
    "        # 데이터 배치의 ID를 키로 사용하여 테이블 요약 저장\n",
    "        table_summary_output[data_batch[\"id\"]] = table_summary\n",
    "\n",
    "    # 테이블 요약 결과를 포함한 새로운 GraphState 객체 반환\n",
    "    return GraphState(table_summary=table_summary_output)\n",
    "\n",
    "\n",
    "# 테이블 요약 생성 함수 실행\n",
    "state_out = create_table_summary(state)\n",
    "\n",
    "# 기존 상태 업데이트\n",
    "state.update(state_out)\n",
    "\n",
    "# 테이블 요약 결과 출력\n",
    "state_out[\"table_summary\"]"
   ]
  },
  {
   "cell_type": "markdown",
   "metadata": {},
   "source": [
    "## Table Markdown 추출"
   ]
  },
  {
   "cell_type": "code",
   "execution_count": 51,
   "metadata": {},
   "outputs": [],
   "source": [
    "@chain\n",
    "def table_markdown_extractor(data_batches):\n",
    "    # 객체 생성\n",
    "    llm = ChatOpenAI(\n",
    "        temperature=0,  # 창의성 (0.0 ~ 2.0)\n",
    "        model_name=\"gpt-4o-mini\",  # 모델명\n",
    "    )\n",
    "\n",
    "    system_prompt = \"당신은 테이블 이미지의 정보를 마크다운 형식으로 변환하는 전문가입니다. 테이블의 모든 정보를 포함시켜야 하며, 설명은 하지 말고 마크다운 형식으로만 답하십시오\"\n",
    "\n",
    "    image_paths = []\n",
    "    system_prompts = []\n",
    "    user_prompts = []\n",
    "\n",
    "    for data_batch in data_batches:\n",
    "        image_path = data_batch[\"table\"]\n",
    "        user_prompt_template = f\"\"\"DO NOT wrap your answer in ```markdown``` or any XML tags.\n",
    "        \n",
    "###\n",
    "\n",
    "Output Format:\n",
    "\n",
    "<table_markdown>\n",
    "\n",
    "\"\"\"\n",
    "        image_paths.append(image_path)\n",
    "        system_prompts.append(system_prompt)\n",
    "        user_prompts.append(user_prompt_template)\n",
    "\n",
    "    # 멀티모달 객체 생성\n",
    "    multimodal_llm = MultiModal(llm)\n",
    "\n",
    "    # 이미지 파일로 부터 질의\n",
    "    answer = multimodal_llm.batch(\n",
    "        image_paths, system_prompts, user_prompts, display_image=False\n",
    "    )\n",
    "    return answer"
   ]
  },
  {
   "cell_type": "code",
   "execution_count": 52,
   "metadata": {},
   "outputs": [
    {
     "data": {
      "text/plain": [
       "{1: '| **Not Rated**         |                       |\\n|-----------------------|-----------------------|\\n| **목표주가(12M)**    | Not Rated              |\\n| **현재주가(11.20)**  | 70,500원              |\\n\\n| **Key Data**         |                       |\\n|-----------------------|-----------------------|\\n| KOSPI 지수 (pt)      | 2,482.29              |\\n| 52주 최고가(원)      | 78,200/55,200         |\\n| 시가총액(십억원)     | 1,343.4               |\\n| 시가총액증(%))       | 0.04                  |\\n| 발행주식수(천주)     | 10,415.0              |\\n| 60일 평균 거래량(천주)| 37.5                  |\\n| 60일 평균 거래대금(십원)| 2.8                  |\\n| 외국인 지분율(%)     | 28.18                 |\\n| 주요주주 지분율(%)   |                       |\\n| - 이창 외 10 인      | 33.19                 |\\n| - 국민연금공단       | 10.02                 |\\n\\n| **Consensus Data**    | 2024      | 2025      |\\n|-----------------------|-----------|-----------|\\n| 매출액(십억원)       | 1,490     | 1,615     |\\n| 영업이익(십억원)     | 168       | 178       |\\n| 순이익(십억원)       | 132       | 140       |\\n| EPS                   | 12,626    | 13,260    |\\n| BPS(원)               | 102,395   | 115,085   |\\n\\n| **Stock Price**       |                       |\\n|-----------------------|-----------------------|\\n| (천원)                |                       |\\n| 한국리츠(화)         |                       |\\n| 상대지수(수)         |                       |\\n\\n| **Financial Data**    | (십억원, %, 배, 원)   |\\n|-----------------------|-----------------------|\\n| 투자지표              |                       |\\n| 매출액                | 802       | 962       | 1,168     | 1,297     |\\n| 영업이익              | 79        | 76        | 64        | 112       |\\n| 세전이익              | 78        | 86        | 70        | 100       |\\n| 순이익                | 58        | 63        | 49        | 73        |\\n| EPS                   | 5,550     | 6,014     | 4,677     | 7,000     |\\n| 증감율                | 81.3      | 8.8       | (22.6)    | 49.7      |\\n| PER                   | 11.2      | 12.6      | 11.1      | 10.7      |\\n| PBR                   | 0.8       | 0.9       | 0.6       | 0.8       |\\n| EV/EBITDA             | 3.7       | 5.2       | 3.9       | 4.5       |\\n| ROE                   | 7.6       | 7.5       | 5.6       | 7.8       |\\n| BPS                   | 73,675    | 81,164    | 83,872    | 89,779    |\\n| DPS                   | 700       | 700       | 700       | 700       |\\n\\n| **Analyst**           | 송선재 sunjae.song@hanafn.com |\\n| **RA**                | 강민아 minahkang@hanafn.com   |\\n| **하나증권 리서치센터** |                       |',\n",
       " 13: '| 구분         | 1Q22   | 2Q22   | 3Q22   | 4Q22   | 1Q23   | 2Q23   | 3Q23   | 4Q23   | 1Q24   | 2Q24   | 3Q24   | 2020   | 2021   | 2022   | 2023   |\\n|--------------|--------|--------|--------|--------|--------|--------|--------|--------|--------|--------|--------|--------|--------|--------|--------|\\n| 매출액       | 272.3  | 286.8  | 290.8  | 311.2  | 315.9  | 333.0  | 318.5  | 329.5  | 352.1  | 391.4  | 378.0  | 802.5  | 1,067.1| 1,168.1| 1,296.9|\\n| (제품별)     |        |        |        |        |        |        |        |        |        |        |        |        |        |        |        |\\n| 차종         | 234.8  | 247.4  | 274.1  | 311.2  | 295.8  | 323.8  | 328.3  | 327.9  | 358.7  | 497.0  | 358.1  | 790.8  | 1,067.4| 1,275.0| 1,275.0|\\n| 전자용       | 29.5   | 26.4   | 18.0   | 17.3   | 21.6   | 24.7   | 23.0   | 23.9   | 28.9   | 103.8  | 91.2   | 91.2   | 91.2   | 91.2   | 91.2   |\\n| 기타         | 7.9    | 7.3    | 6.7    | 6.7    | 7.5    | 7.6    | 7.6    | 7.6    | 7.6    | 7.6    | 7.6    | 7.6    | 7.6    | 7.6    | 7.6    |\\n| 연결조정     | -65.8  | -70.4  | -77.1  | -92.0  | -91.8  | -110.2 | -104.3 | -98.2  | -109.7 | -163.6 | -144.6 | -173.0 | -249.3 | -316.3 | -404.4 |\\n| (법인별)     |        |        |        |        |        |        |        |        |        |        |        |        |        |        |        |\\n| 한국국제기술 | 255.5  | 266.2  | 274.8  | 308.7  | 279.0  | 321.7  | 302.0  | 315.0  | 358.1  | 497.0  | 358.1  | 762.7  | 1,105.2| 1,168.5| 1,168.5|\\n| 케이티솔루션 | 26.0   | 23.3   | 22.5   | 27.7   | 24.7   | 30.8   | 31.3   | 31.3   | 31.3   | 31.3   | 31.3   | 56.8   | 76.8   | 91.7   | 91.7   |\\n| 케이티네트워크| 25.0   | 23.6   | 25.9   | 31.8   | 37.6   | 33.1   | 33.1   | 33.1   | 33.1   | 33.1   | 33.1   | 51.7   | 81.6   | 106.3  | 136.6  |\\n| 미국법인     | 0.0    | 0.0    | 4.9    | 5.9    | 3.2    | 6.5    | 5.5    | 8.3    | 8.3    | 8.3    | 8.3    | 0.0    | 0.0    | 0.0    | 0.0    |\\n| 멕시코법인   | 0.0    | 0.0    | 0.0    | 0.0    | 14.0   | 20.4   | 28.6   | 29.5   | 29.5   | 29.5   | 29.5   | 0.0    | 0.0    | 0.0    | 0.0    |\\n| 베트남법인   | 8.3    | 8.9    | 14.8   | 16.8   | 17.5   | 21.1   | 26.1   | 26.1   | 26.1   | 26.1   | 26.1   | 21.6   | 42.2   | 73.7   | 73.7   |\\n| 폴란드법인   | 8.6    | 10.2   | 11.6   | 5.7    | 5.7    | 5.7    | 5.7    | 5.7    | 5.7    | 5.7    | 5.7    | 5.7    | 5.7    | 5.7    | 5.7    |\\n| 기타         | 24.3   | 25.8   | 26.1   | 20.2   | 24.3   | 24.3   | 24.3   | 24.3   | 24.3   | 24.3   | 24.3   | 76.7   | 101.9  | 87.9   | 87.9   |\\n| 연결조정     | -65.8  | -70.4  | -77.1  | -92.0  | -91.8  | -110.2 | -104.3 | -98.2  | -109.7 | -163.6 | -144.6 | -173.0 | -249.3 | -316.3 | -404.4 |\\n| (Key Data)   |        |        |        |        |        |        |        |        |        |        |        |        |        |        |        |\\n| 차종 판가    | 4.0    | 5.0    | 5.0    | 7.0    | 4.0    | 4.0    | 4.0    | 4.0    | 4.0    | 4.0    | 4.0    | 1.7    | 3.7    | 7.0    | 4.0    |\\n| 비율 원가(YoY, %) | 22.1   | 18.9   | 12.2   | 9.4    | -3.5   | -1.4   | -2.3   | -4.8   | -6.0   | 2.3    | 0.9    | 36.8   | 9.4    | -2.3   | -2.3   |\\n| 매출총이익   | 27.0   | 13.7   | 15.9   | 27.6   | 19.5   | 48.1   | 86.2   | 137.7  | 137.7  | 137.7  | 204.8  | 79.0   | 76.2   | 64.3   | 64.3   |\\n| 영업이익     | 7.0    | 3.7    | 15.9   | 10.6   | 34.4   | 24.9   | 34.7   | 35.0   | 35.0   | 35.0   | 35.0   | 0.0    | 0.0    | 0.0    | 0.0    |\\n| 세전이익     | 12.5   | 20.0   | 21.4   | 28.8   | 19.7   | 33.9   | 17.6   | 46.5   | 61.8   | 39.3   | 77.7   | 86.4   | 69.6   | 72.4   | 72.4   |\\n| 지배주주순이익| 9.2    | 13.1   | 25.1   | 22.0   | 13.9   | 26.9   | 33.8   | 57.8   | 62.9   | 48.7   | 72.9   | 57.8   | 62.9   | 48.7   | 72.9   |\\n| 증가율 (YoY) |        |        |        |        |        |        |        |        |        |        |        |        |        |        |        |\\n| 매출액       | 15.4   | 20.4   | 23.3   | 26.2   | 16.1   | 9.5    | 3.5    |        |        |        |        |        |        |        |        |\\n| 매출총이익   | -46.0  | -21.8  | 11.1   | 75.6   | 73.9   | 58.4   | 35.9   |        |        |        |        |        |        |        |        |\\n| 영업이익     | -37.7  | -23.6  | 21.1   | 11.6   | -10.7  | 6.5    | -15.6  |        |        |        |        |        |        |        |        |\\n| 세전이익     | -66.4  | -13.5  | -55.5  | -83.5  | -1.5   | -48.1  | 1,157.1|        |        |        |        |        |        |        |        |\\n| 지배주주순이익| -67.3  | -10.3  | -45.1  | 55.2   | 139.1  | 6.1    | 72.2   |        |        |        |        |        |        |        |        |\\n| Margin       |        |        |        |        |        |        |        |        |        |        |        |        |        |        |        |\\n| 매출총이익률 | 9.9    | 11.5   | 12.6   | 15.6   | 13.7   | 22.0   | 20.8   |        |        |        |        |        |        |        |        |\\n| 영업이익률   | 2.6    | 4.8    | 5.7    | 10.3   | 7.5    | 9.5    | 12.8   |        |        |        |        |        |        |        |        |\\n| 세전이익률   | 3.4    | 4.6    | 8.0    | 7.0    | 4.2    | 8.4    | 8.4    |        |        |        |        |        |        |        |        |\\n| 지배주주순이익률| 2.4    | 3.1    | 4.6    | 6.0    | 7.9    | 6.0    | 6.0    |        |        |        |        |        |        |        |        |',\n",
       " 43: '| 항목               | 2019 | 2020 | 2021 | 2022 | 2023 |\\n|-------------------|------|------|------|------|------|\\n| 매출액             | 772  | 802  | 962  | 1,168| 1,297|\\n| 매출원가           | 679  | 665  | 812  | 1,022| 1,092|\\n| 매출총이익         | 93   | 137  | 150  | 146  | 205  |\\n| 판관비             | 60   | 59   | 74   | 82   | 93   |\\n| 영업이익           | 34   | 79   | 76   | 64   | 112  |\\n| 금융손익           | 3    | 3    | 2    | 3    | (2)  |\\n| 중속/관계기업손익  | 0    | 0    | 0    | 0    | 1    |\\n| 기타영업외손익     | 2    | (4)  | 8    | 2    | (11) |\\n| 세전이익           | 39   | 78   | 86   | 70   | 100  |\\n| 법인세             | 7    | 20   | 23   | 21   | 27   |\\n| 계속사업이익       | 32   | 58   | 63   | 49   | 73   |\\n| 중단사업이익       | 0    | 0    | 0    | 0    | 0    |\\n| 당기순이익         | 32   | 58   | 63   | 49   | 73   |\\n| 비지배주주지분 순이익 | (0) | (0)  | (0)  | (0)  | (0)  |\\n| 지배주주순이익     | 32   | 58   | 63   | 49   | 73   |\\n| 지배주주지분포괄이익 | 27   | 64   | 85   | 35   | 69   |\\n| NOPAT             | 27   | 59   | 56   | 45   | 81   |\\n| EBITDA            | 87   | 133  | 133  | 128  | 178  |\\n| 성장성(%)         |      |      |      |      |      |\\n| 매출액증가율       | 3.5  | 3.9  | 20.0 | 21.4 | 11.0 |\\n| NOPAT증가율        | (25.0)| 118.5| (5.1)| (19.6)| 80.0 |\\n| EBITDA증가율       | (12.1)| 52.9 | 0.0  | (3.8)| 39.1 |\\n| 영업이익증가율     | (26.1)| 132.4| (3.8)| (15.8)| 75.0 |\\n| (지배주주)순이익증가율 | (20.0)| 81.3 | 8.6  | (22.2)| 49.0 |\\n| EPS증가율          | (19.5)| 81.3 | 8.8  | (22.6)| 49.7 |\\n| 수익성(%)         |      |      |      |      |      |\\n| 매출총이익률       | 12.0 | 17.1 | 15.6 | 12.5 | 15.8 |\\n| EBITDA이익률       | 11.3 | 16.6 | 13.8 | 11.0 | 13.7 |\\n| 영업이익률         | 4.4  | 9.9  | 7.9  | 5.5  | 8.6  |\\n| 계속사업이익률     | 4.1  | 7.2  | 6.5  | 4.2  | 5.6  |',\n",
       " 46: '| 항목         | 2019 | 2020 | 2021 | 2022 | 2023 |\\n|--------------|------|------|------|------|------|\\n| 유동자산     | 399  | 486  | 551  | 666  | 748  |\\n| 금융자산     | 104  | 170  | 148  | 130  | 146  |\\n| 현금성자산   | 33   | 87   | 57   | 83   | 98   |\\n| 매출채권     | 176  | 202  | 204  | 247  | 247  |\\n| 재고자산     | 106  | 102  | 170  | 247  | 256  |\\n| 기타유동자산 | 13   | 12   | 29   | 42   | 99   |\\n| 비유동자산   | 486  | 500  | 574  | 624  | 677  |\\n| 투자자산     | 45   | 56   | 81   | 53   | 57   |\\n| 금융자산     | 40   | 51   | 76   | 48   | 52   |\\n| 유형자산     | 403  | 411  | 465  | 534  | 562  |\\n| 무형자산     | 17   | 9    | 9    | 9    | 9    |\\n| 기타비유동자산| 21   | 24   | 19   | 28   | 49   |\\n| 자산총계     | 886  | 985  | 1,125| 1,290| 1,425|\\n| 유동부채     | 122  | 163  | 195  | 347  | 394  |\\n| 금융부채     | 2    | 5    | 11   | 61   | 129  |\\n| 매입채무     | 70   | 90   | 123  | 177  | 164  |\\n| 기타유동부채 | 50   | 68   | 61   | 109  | 101  |\\n| 비유동부채   | 53   | 58   | 88   | 72   | 99   |\\n| 금융부채     | 8    | 8    | 34   | 24   | 35   |\\n| 기타비유동부채| 45   | 50   | 54   | 48   | 64   |\\n| 부채총계     | 175  | 221  | 283  | 419  | 493  |\\n| 지배주주지분 | 710  | 764  | 842  | 870  | 932  |\\n| 자본금       | 5    | 5    | 5    | 5    | 5    |\\n| 자본잉여금   | 26   | 26   | 26   | 26   | 26   |\\n| 자본조정     | 0    | 0    | (3)  | (3)  | (3)  |\\n| 기타포괄이익누계액 | (2) | 4    | 26   | 6    | 12   |\\n| 이익잉여금   | 682  | 733  | 788  | 836  | 892  |\\n| 비지배주주지분| 0    | 0    | (0)  | (0)  | (0)  |\\n| 자본총계     | 710  | 764  | 842  | 870  | 932  |\\n| 순금융부채   | (95) | (156)| (103)| (45) | 18   |',\n",
       " 50: '| 주당지표(원) | 2019  | 2020  | 2021  | 2022  | 2023  |\\n|--------------|-------|-------|-------|-------|-------|\\n| EPS          | 3,062 | 5,550 | 6,041 | 4,677 | 7,000 |\\n| BPS          | 68,181| 73,675| 81,164| 83,872| 89,779|\\n| CFPS         | 10,218| 14,223| 15,152| 15,015| 18,691|\\n| EBITDAPS     | 8,312 | 12,812| 12,779| 12,266| 17,114|\\n| SPS          | 74,137| 77,052| 92,389| 112,159| 124,526|\\n| DPS          | 700   | 700   | 700   | 700   | 700   |\\n\\n| 주가지표(배) | 2019 | 2020 | 2021 | 2022 | 2023 |\\n|---------------|------|------|------|------|------|\\n| PER           | 14.0 | 11.2 | 12.6 | 11.1 | 10.7 |\\n| PBR           | 0.6  | 0.8  | 0.9  | 0.6  | 0.8  |\\n| PCFR          | 4.2  | 4.4  | 5.0  | 3.4  | 4.0  |\\n| EV/EBITDA     | 4.1  | 3.7  | 5.2  | 3.9  | 4.5  |\\n| PSR           | 0.6  | 0.8  | 0.8  | 0.5  | 0.6  |\\n\\n| 재무비율(%)  | 2019 | 2020 | 2021 | 2022 | 2023 |\\n|--------------|------|------|------|------|------|\\n| ROE          | 4.5  | 7.6  | 7.5  | 5.6  | 7.8  |\\n| ROA          | 3.6  | 5.9  | 5.6  | 3.8  | 5.1  |\\n| ROIC         | 5.4  | 11.9 | 8.7  | 6.0  | 9.3  |\\n| 부채비율     | 24.7 | 28.9 | 33.6 | 48.2 | 52.9 |\\n| 순부채비율   | (13.3)| (20.4)| (12.2)| (5.2)| 2.0  |\\n| 이자보상배율(배)| 116.7| 355.9| 441.1| 43.6 | 16.1 |',\n",
       " 52: '| 항목               | 2019 | 2020 | 2021 | 2022 | 2023 |\\n|-------------------|------|------|------|------|------|\\n| 영업활동 현금흐름  | 62   | 108  | 30   | 52   | 136  |\\n| 당기순이익         | 32   | 58   | 63   | 49   | 73   |\\n| 조정               | 68   | 80   | 72   | 88   | 103  |\\n| 감가상각비         | 53   | 54   | 57   | 63   | 66   |\\n| 외환가래손익       | 3    | 11   | 9    | 21   | 26   |\\n| 지분법손익         | (0)  | (0)  | (0)  | (0)  | (1)  |\\n| 기타               | 12   | 15   | 6    | 4    | 12   |\\n| 영업활동자본변동   | (38) | (30) | (105)| (85) | (40) |\\n| 투자활동 현금흐름  | (59) | (54) | (92) | (68) | (125)|\\n| 투자자산감소(증가)| 8    | (10) | (25) | 28   | 3    |\\n| 자본증가(감소)     | (86) | (41) | (82) | (113)| (84) |\\n| 기타투자활동      | 19   | (3)  | 15   | 17   | (38) |\\n| 재무활동 현금흐름  | (1)  | 1    | 30   | 43   | 4    |\\n| 금융부채증가(감소) | 6    | 4    | 32   | 39   | 80   |\\n| 자본증가(감소)     | 0    | 0    | 0    | 0    | 0    |\\n| 기타재무활동      | 0    | 4    | 5    | 11   | (69) |\\n| 배당지급           | (7)  | (7)  | (7)  | (7)  | (7)  |\\n| 현금의 증감        | 1    | 54   | (31) | 27   | 15   |\\n| Unlevered CFO      | 106  | 148  | 158  | 156  | 195  |\\n| Free Cash Flow     | (27) | 59   | (60) | (72) | 35   |',\n",
       " 70: '| 투자등급         | BUY(매수) | Neutral(중립) | Reduce(매도) | 합계   |\\n|------------------|-----------|----------------|---------------|--------|\\n| 금융투자상품의 비율 | 93.75%    | 5.80%          | 0.45%         | 100%   |'}"
      ]
     },
     "execution_count": 52,
     "metadata": {},
     "output_type": "execute_result"
    }
   ],
   "source": [
    "def create_table_markdown(state: GraphState):\n",
    "    # table_markdown_extractor를 사용하여 테이블 마크다운 생성\n",
    "    # state[\"table_summary_data_batches\"]에 저장된 테이블 데이터를 사용\n",
    "    table_markdowns = table_markdown_extractor.invoke(\n",
    "        state[\"table_summary_data_batches\"],\n",
    "    )\n",
    "\n",
    "    # 결과를 저장할 딕셔너리 초기화\n",
    "    table_markdown_output = dict()\n",
    "\n",
    "    # 각 데이터 배치와 생성된 테이블 마크다운을 매칭하여 저장\n",
    "    for data_batch, table_summary in zip(\n",
    "        state[\"table_summary_data_batches\"], table_markdowns\n",
    "    ):\n",
    "        # 데이터 배치의 id를 키로 사용하여 테이블 마크다운 저장\n",
    "        table_markdown_output[data_batch[\"id\"]] = table_summary\n",
    "\n",
    "    # 새로운 GraphState 객체 반환, table_markdown 키에 결과 저장\n",
    "    return GraphState(table_markdown=table_markdown_output)\n",
    "\n",
    "\n",
    "# create_table_markdown 함수 실행\n",
    "state_out = create_table_markdown(state)\n",
    "\n",
    "# 기존 state 업데이트\n",
    "state.update(state_out)\n",
    "\n",
    "# 생성된 테이블 마크다운 출력\n",
    "state_out[\"table_markdown\"]"
   ]
  },
  {
   "cell_type": "markdown",
   "metadata": {},
   "source": [
    "## 결과물"
   ]
  },
  {
   "cell_type": "code",
   "execution_count": 53,
   "metadata": {},
   "outputs": [
    {
     "data": {
      "text/plain": [
       "dict_keys(['filepath', 'batch_size', 'split_filepaths', 'analyzed_files', 'page_metadata', 'page_elements', 'page_numbers', 'images', 'tables', 'texts', 'text_summary', 'image_summary_data_batches', 'table_summary_data_batches', 'image_summary', 'table_summary', 'table_markdown'])"
      ]
     },
     "execution_count": 53,
     "metadata": {},
     "output_type": "execute_result"
    }
   ],
   "source": [
    "state.keys()"
   ]
  },
  {
   "cell_type": "code",
   "execution_count": 54,
   "metadata": {},
   "outputs": [
    {
     "data": {
      "text/plain": [
       "{1: '<table>\\n<title>3분기 실적 요약</title>\\n<key_entities>\\n  <entity>한국단자</entity>\\n  <entity>3Q24</entity>\\n  <entity>매출액</entity>\\n  <entity>영업이익</entity>\\n  <entity>영업이익률</entity>\\n  <entity>지역별 매출</entity>\\n  <entity>미국/멕시코 법인</entity>\\n  <entity>순이익</entity>\\n  <entity>기대 성장</entity>\\n  <entity>주가 평가</entity>\\n</key_entities>\\n<data_insights>\\n  <insight>3Q24 매출액 3,780억원, 영업이익 485억원, 영업이익률 12.8%로 전년 대비 증가.</insight>\\n  <insight>매출액 19% 증가, 영업이익 48% 증가, 컨센서스 대비 30% 서프라이즈.</insight>\\n  <insight>한국 매출 6% 증가, 폴란드 17% 감소, 미국 317% 급증.</insight>\\n  <insight>미국/멕시코 법인 매출 비중 21%, 3분기 누적 매출액 2,283억원.</insight>\\n  <insight>차량용 커넥터 평균가격 5% 상승, 매출총이익률 20.8% 기록.</insight>\\n  <insight>세전이익 393억원, 지배주주순이익 338억원으로 각각 증가.</insight>\\n  <insight>기수주 물량 및 신규 고객 발굴로 높은 성장 기대.</insight>\\n  <insight>P/E 5배대로 저평가, 연간 지배주주순이익 1,400억원 이상 예상.</insight>\\n</data_insights>\\n</table>',\n",
       " 13: '```html\\n<table>\\n<title>실적 요약</title>\\n<table_summary>한국단자 및 법인별 매출액과 순이익 실적 추이</table_summary>\\n<key_entities>\\n  <entity>한국단자</entity>\\n  <entity>미국 법인</entity>\\n  <entity>멕시코 법인</entity>\\n  <entity>매출액</entity>\\n  <entity>순이익</entity>\\n  <entity>영업이익</entity>\\n</key_entities>\\n<data_insights>\\n  <insight>2023년 한국단자 매출액: 1,296.9억원</insight>\\n  <insight>2023년 미국 법인 매출액: [구체적인 수치]</insight>\\n  <insight>2023년 멕시코 법인 매출액: [구체적인 수치]</insight>\\n  <insight>연도별 매출액 및 순이익 변화: [구체적인 변화]</insight>\\n</data_insights>\\n</table>\\n```',\n",
       " 43: '```html\\n<table>\\n<title>Financial Summary</title>\\n<table_summary>Summary of financial performance and key metrics from 2019 to 2023.</table_summary>\\n<key_entities>\\n  <entity>Revenue</entity>\\n  <entity>Operating Income</entity>\\n  <entity>Net Income</entity>\\n  <entity>Assets</entity>\\n  <entity>Liabilities</entity>\\n  <entity>Equity</entity>\\n  <entity>PER</entity>\\n  <entity>PBR</entity>\\n  <entity>ROE</entity>\\n  <entity>Cash Flows from Operating Activities</entity>\\n  <entity>Cash Flows from Investing Activities</entity>\\n  <entity>Cash Flows from Financing Activities</entity>\\n</key_entities>\\n<data_insights>\\n  <insight>Revenue increased from 772 billion KRW in 2019 to 1,297 billion KRW in 2023.</insight>\\n  <insight>Operating income peaked at 112 billion KRW in 2023.</insight>\\n  <insight>Net income showed a significant increase, reaching 73 billion KRW in 2023.</insight>\\n  <insight>Growth rates for revenue and operating income varied significantly over the years.</insight>\\n</data_insights>\\n</table>\\n```',\n",
       " 46: '<table>\\n<title>Financial Overview</title>\\n<table_summary>Summary of financial data including assets, liabilities, and equity over the years.</table_summary>\\n<key_entities>유동자산, 비유동자산, 자산총계, 유동부채, 비유동부채, 부채총계, 지배주주지분, 자본총계</key_entities>\\n<data_insights>\\n- **유동자산**: Increased from 399 billion in 2019 to 748 billion in 2023.\\n- **비유동자산**: Grew from 486 billion in 2019 to 677 billion in 2023.\\n- **자산총계**: Total assets rose from 886 billion in 2019 to 1,425 billion in 2023.\\n- **유동부채**: Increased from 122 billion in 2019 to 394 billion in 2023.\\n- **비유동부채**: Increased from 53 billion in 2019 to 99 billion in 2023.\\n- **부채총계**: Total liabilities rose from 175 billion in 2019 to 493 billion in 2023.\\n- **지배주주지분**: Increased from 710 billion in 2019 to 932 billion in 2023.\\n- **자본총계**: Total equity rose from 710 billion in 2019 to 932 billion in 2023.\\n</data_insights>\\n</table>',\n",
       " 50: '```html\\n<table>\\n<title>Financial Summary</title>\\n<table_summary>Summary of financial performance and key metrics from 2019 to 2023.</table_summary>\\n<key_entities>\\n  <entity>손익계산서</entity>\\n  <entity>대차대조표</entity>\\n  <entity>투자지표</entity>\\n  <entity>현금흐름표</entity>\\n</key_entities>\\n<data_insights>\\n  <insight>매출, 영업이익, 순이익, 자산, 부채, 자본, PER, PBR, ROE, 영업활동현금흐름, 투자활동현금흐름, 재무활동현금흐름 등의 데이터가 필요합니다.</insight>\\n  <insight>주당지표와 재무비율이 포함되어 있으며, 2019년부터 2023년까지의 변화 추세를 보여줍니다.</insight>\\n</data_insights>\\n</table>\\n```',\n",
       " 52: '```html\\n<table>\\n<title>Financial Overview</title>\\n<table_summary>Summary of financial performance and cash flows from 2019 to 2023.</table_summary>\\n<key_entities>\\n  <entity>손익계산서</entity>\\n  <entity>대차대조표</entity>\\n  <entity>투자지표</entity>\\n  <entity>현금흐름표</entity>\\n</key_entities>\\n<data_insights>\\n  <insight>영업활동 현금흐름은 2019년 62억에서 2023년 136억으로 증가.</insight>\\n  <insight>투자활동 현금흐름은 2019년 -59억에서 2023년 -125억으로 악화.</insight>\\n  <insight>재무활동 현금흐름은 2019년 -1억에서 2023년 4억으로 개선.</insight>\\n  <insight>자유 현금 흐름은 2019년 -27억에서 2023년 35억으로 증가.</insight>\\n</data_insights>\\n</table>\\n```',\n",
       " 70: '```html\\n<table>\\n<title>투자의견 및 투자등급 요약</title>\\n<key_entities>\\n    <entity>한국단자 (025540)</entity>\\n    <entity>투자의견: Not Rated</entity>\\n    <entity>투자등급 유효기간: 12개월</entity>\\n    <entity>산업 분류: Overweight, Neutral, Underweight</entity>\\n    <entity>자료 작성자: 2024년 11월 21일 기준 지분 1% 미만 보유</entity>\\n</key_entities>\\n<data_insights>\\n    <insight>목표주가 괴리율 기준: BUY (15% 이상 상승), Neutral (-15%~15%), Reduce (15% 이상 하락)</insight>\\n    <insight>투자등급 비율: BUY 93.75%, Neutral 5.80%, Reduce 0.45%</insight>\\n</data_insights>\\n</table>\\n```'}"
      ]
     },
     "execution_count": 54,
     "metadata": {},
     "output_type": "execute_result"
    }
   ],
   "source": [
    "state[\"table_summary\"]"
   ]
  },
  {
   "cell_type": "code",
   "execution_count": 55,
   "metadata": {},
   "outputs": [
    {
     "data": {
      "text/plain": [
       "{1: '| **Not Rated**         |                       |\\n|-----------------------|-----------------------|\\n| **목표주가(12M)**    | Not Rated              |\\n| **현재주가(11.20)**  | 70,500원              |\\n\\n| **Key Data**         |                       |\\n|-----------------------|-----------------------|\\n| KOSPI 지수 (pt)      | 2,482.29              |\\n| 52주 최고가(원)      | 78,200/55,200         |\\n| 시가총액(십억원)     | 1,343.4               |\\n| 시가총액증(%))       | 0.04                  |\\n| 발행주식수(천주)     | 10,415.0              |\\n| 60일 평균 거래량(천주)| 37.5                  |\\n| 60일 평균 거래대금(십원)| 2.8                  |\\n| 외국인 지분율(%)     | 28.18                 |\\n| 주요주주 지분율(%)   |                       |\\n| - 이창 외 10 인      | 33.19                 |\\n| - 국민연금공단       | 10.02                 |\\n\\n| **Consensus Data**    | 2024      | 2025      |\\n|-----------------------|-----------|-----------|\\n| 매출액(십억원)       | 1,490     | 1,615     |\\n| 영업이익(십억원)     | 168       | 178       |\\n| 순이익(십억원)       | 132       | 140       |\\n| EPS                   | 12,626    | 13,260    |\\n| BPS(원)               | 102,395   | 115,085   |\\n\\n| **Stock Price**       |                       |\\n|-----------------------|-----------------------|\\n| (천원)                |                       |\\n| 한국리츠(화)         |                       |\\n| 상대지수(수)         |                       |\\n\\n| **Financial Data**    | (십억원, %, 배, 원)   |\\n|-----------------------|-----------------------|\\n| 투자지표              |                       |\\n| 매출액                | 802       | 962       | 1,168     | 1,297     |\\n| 영업이익              | 79        | 76        | 64        | 112       |\\n| 세전이익              | 78        | 86        | 70        | 100       |\\n| 순이익                | 58        | 63        | 49        | 73        |\\n| EPS                   | 5,550     | 6,014     | 4,677     | 7,000     |\\n| 증감율                | 81.3      | 8.8       | (22.6)    | 49.7      |\\n| PER                   | 11.2      | 12.6      | 11.1      | 10.7      |\\n| PBR                   | 0.8       | 0.9       | 0.6       | 0.8       |\\n| EV/EBITDA             | 3.7       | 5.2       | 3.9       | 4.5       |\\n| ROE                   | 7.6       | 7.5       | 5.6       | 7.8       |\\n| BPS                   | 73,675    | 81,164    | 83,872    | 89,779    |\\n| DPS                   | 700       | 700       | 700       | 700       |\\n\\n| **Analyst**           | 송선재 sunjae.song@hanafn.com |\\n| **RA**                | 강민아 minahkang@hanafn.com   |\\n| **하나증권 리서치센터** |                       |',\n",
       " 13: '| 구분         | 1Q22   | 2Q22   | 3Q22   | 4Q22   | 1Q23   | 2Q23   | 3Q23   | 4Q23   | 1Q24   | 2Q24   | 3Q24   | 2020   | 2021   | 2022   | 2023   |\\n|--------------|--------|--------|--------|--------|--------|--------|--------|--------|--------|--------|--------|--------|--------|--------|--------|\\n| 매출액       | 272.3  | 286.8  | 290.8  | 311.2  | 315.9  | 333.0  | 318.5  | 329.5  | 352.1  | 391.4  | 378.0  | 802.5  | 1,067.1| 1,168.1| 1,296.9|\\n| (제품별)     |        |        |        |        |        |        |        |        |        |        |        |        |        |        |        |\\n| 차종         | 234.8  | 247.4  | 274.1  | 311.2  | 295.8  | 323.8  | 328.3  | 327.9  | 358.7  | 497.0  | 358.1  | 790.8  | 1,067.4| 1,275.0| 1,275.0|\\n| 전자용       | 29.5   | 26.4   | 18.0   | 17.3   | 21.6   | 24.7   | 23.0   | 23.9   | 28.9   | 103.8  | 91.2   | 91.2   | 91.2   | 91.2   | 91.2   |\\n| 기타         | 7.9    | 7.3    | 6.7    | 6.7    | 7.5    | 7.6    | 7.6    | 7.6    | 7.6    | 7.6    | 7.6    | 7.6    | 7.6    | 7.6    | 7.6    |\\n| 연결조정     | -65.8  | -70.4  | -77.1  | -92.0  | -91.8  | -110.2 | -104.3 | -98.2  | -109.7 | -163.6 | -144.6 | -173.0 | -249.3 | -316.3 | -404.4 |\\n| (법인별)     |        |        |        |        |        |        |        |        |        |        |        |        |        |        |        |\\n| 한국국제기술 | 255.5  | 266.2  | 274.8  | 308.7  | 279.0  | 321.7  | 302.0  | 315.0  | 358.1  | 497.0  | 358.1  | 762.7  | 1,105.2| 1,168.5| 1,168.5|\\n| 케이티솔루션 | 26.0   | 23.3   | 22.5   | 27.7   | 24.7   | 30.8   | 31.3   | 31.3   | 31.3   | 31.3   | 31.3   | 56.8   | 76.8   | 91.7   | 91.7   |\\n| 케이티네트워크| 25.0   | 23.6   | 25.9   | 31.8   | 37.6   | 33.1   | 33.1   | 33.1   | 33.1   | 33.1   | 33.1   | 51.7   | 81.6   | 106.3  | 136.6  |\\n| 미국법인     | 0.0    | 0.0    | 4.9    | 5.9    | 3.2    | 6.5    | 5.5    | 8.3    | 8.3    | 8.3    | 8.3    | 0.0    | 0.0    | 0.0    | 0.0    |\\n| 멕시코법인   | 0.0    | 0.0    | 0.0    | 0.0    | 14.0   | 20.4   | 28.6   | 29.5   | 29.5   | 29.5   | 29.5   | 0.0    | 0.0    | 0.0    | 0.0    |\\n| 베트남법인   | 8.3    | 8.9    | 14.8   | 16.8   | 17.5   | 21.1   | 26.1   | 26.1   | 26.1   | 26.1   | 26.1   | 21.6   | 42.2   | 73.7   | 73.7   |\\n| 폴란드법인   | 8.6    | 10.2   | 11.6   | 5.7    | 5.7    | 5.7    | 5.7    | 5.7    | 5.7    | 5.7    | 5.7    | 5.7    | 5.7    | 5.7    | 5.7    |\\n| 기타         | 24.3   | 25.8   | 26.1   | 20.2   | 24.3   | 24.3   | 24.3   | 24.3   | 24.3   | 24.3   | 24.3   | 76.7   | 101.9  | 87.9   | 87.9   |\\n| 연결조정     | -65.8  | -70.4  | -77.1  | -92.0  | -91.8  | -110.2 | -104.3 | -98.2  | -109.7 | -163.6 | -144.6 | -173.0 | -249.3 | -316.3 | -404.4 |\\n| (Key Data)   |        |        |        |        |        |        |        |        |        |        |        |        |        |        |        |\\n| 차종 판가    | 4.0    | 5.0    | 5.0    | 7.0    | 4.0    | 4.0    | 4.0    | 4.0    | 4.0    | 4.0    | 4.0    | 1.7    | 3.7    | 7.0    | 4.0    |\\n| 비율 원가(YoY, %) | 22.1   | 18.9   | 12.2   | 9.4    | -3.5   | -1.4   | -2.3   | -4.8   | -6.0   | 2.3    | 0.9    | 36.8   | 9.4    | -2.3   | -2.3   |\\n| 매출총이익   | 27.0   | 13.7   | 15.9   | 27.6   | 19.5   | 48.1   | 86.2   | 137.7  | 137.7  | 137.7  | 204.8  | 79.0   | 76.2   | 64.3   | 64.3   |\\n| 영업이익     | 7.0    | 3.7    | 15.9   | 10.6   | 34.4   | 24.9   | 34.7   | 35.0   | 35.0   | 35.0   | 35.0   | 0.0    | 0.0    | 0.0    | 0.0    |\\n| 세전이익     | 12.5   | 20.0   | 21.4   | 28.8   | 19.7   | 33.9   | 17.6   | 46.5   | 61.8   | 39.3   | 77.7   | 86.4   | 69.6   | 72.4   | 72.4   |\\n| 지배주주순이익| 9.2    | 13.1   | 25.1   | 22.0   | 13.9   | 26.9   | 33.8   | 57.8   | 62.9   | 48.7   | 72.9   | 57.8   | 62.9   | 48.7   | 72.9   |\\n| 증가율 (YoY) |        |        |        |        |        |        |        |        |        |        |        |        |        |        |        |\\n| 매출액       | 15.4   | 20.4   | 23.3   | 26.2   | 16.1   | 9.5    | 3.5    |        |        |        |        |        |        |        |        |\\n| 매출총이익   | -46.0  | -21.8  | 11.1   | 75.6   | 73.9   | 58.4   | 35.9   |        |        |        |        |        |        |        |        |\\n| 영업이익     | -37.7  | -23.6  | 21.1   | 11.6   | -10.7  | 6.5    | -15.6  |        |        |        |        |        |        |        |        |\\n| 세전이익     | -66.4  | -13.5  | -55.5  | -83.5  | -1.5   | -48.1  | 1,157.1|        |        |        |        |        |        |        |        |\\n| 지배주주순이익| -67.3  | -10.3  | -45.1  | 55.2   | 139.1  | 6.1    | 72.2   |        |        |        |        |        |        |        |        |\\n| Margin       |        |        |        |        |        |        |        |        |        |        |        |        |        |        |        |\\n| 매출총이익률 | 9.9    | 11.5   | 12.6   | 15.6   | 13.7   | 22.0   | 20.8   |        |        |        |        |        |        |        |        |\\n| 영업이익률   | 2.6    | 4.8    | 5.7    | 10.3   | 7.5    | 9.5    | 12.8   |        |        |        |        |        |        |        |        |\\n| 세전이익률   | 3.4    | 4.6    | 8.0    | 7.0    | 4.2    | 8.4    | 8.4    |        |        |        |        |        |        |        |        |\\n| 지배주주순이익률| 2.4    | 3.1    | 4.6    | 6.0    | 7.9    | 6.0    | 6.0    |        |        |        |        |        |        |        |        |',\n",
       " 43: '| 항목               | 2019 | 2020 | 2021 | 2022 | 2023 |\\n|-------------------|------|------|------|------|------|\\n| 매출액             | 772  | 802  | 962  | 1,168| 1,297|\\n| 매출원가           | 679  | 665  | 812  | 1,022| 1,092|\\n| 매출총이익         | 93   | 137  | 150  | 146  | 205  |\\n| 판관비             | 60   | 59   | 74   | 82   | 93   |\\n| 영업이익           | 34   | 79   | 76   | 64   | 112  |\\n| 금융손익           | 3    | 3    | 2    | 3    | (2)  |\\n| 중속/관계기업손익  | 0    | 0    | 0    | 0    | 1    |\\n| 기타영업외손익     | 2    | (4)  | 8    | 2    | (11) |\\n| 세전이익           | 39   | 78   | 86   | 70   | 100  |\\n| 법인세             | 7    | 20   | 23   | 21   | 27   |\\n| 계속사업이익       | 32   | 58   | 63   | 49   | 73   |\\n| 중단사업이익       | 0    | 0    | 0    | 0    | 0    |\\n| 당기순이익         | 32   | 58   | 63   | 49   | 73   |\\n| 비지배주주지분 순이익 | (0) | (0)  | (0)  | (0)  | (0)  |\\n| 지배주주순이익     | 32   | 58   | 63   | 49   | 73   |\\n| 지배주주지분포괄이익 | 27   | 64   | 85   | 35   | 69   |\\n| NOPAT             | 27   | 59   | 56   | 45   | 81   |\\n| EBITDA            | 87   | 133  | 133  | 128  | 178  |\\n| 성장성(%)         |      |      |      |      |      |\\n| 매출액증가율       | 3.5  | 3.9  | 20.0 | 21.4 | 11.0 |\\n| NOPAT증가율        | (25.0)| 118.5| (5.1)| (19.6)| 80.0 |\\n| EBITDA증가율       | (12.1)| 52.9 | 0.0  | (3.8)| 39.1 |\\n| 영업이익증가율     | (26.1)| 132.4| (3.8)| (15.8)| 75.0 |\\n| (지배주주)순이익증가율 | (20.0)| 81.3 | 8.6  | (22.2)| 49.0 |\\n| EPS증가율          | (19.5)| 81.3 | 8.8  | (22.6)| 49.7 |\\n| 수익성(%)         |      |      |      |      |      |\\n| 매출총이익률       | 12.0 | 17.1 | 15.6 | 12.5 | 15.8 |\\n| EBITDA이익률       | 11.3 | 16.6 | 13.8 | 11.0 | 13.7 |\\n| 영업이익률         | 4.4  | 9.9  | 7.9  | 5.5  | 8.6  |\\n| 계속사업이익률     | 4.1  | 7.2  | 6.5  | 4.2  | 5.6  |',\n",
       " 46: '| 항목         | 2019 | 2020 | 2021 | 2022 | 2023 |\\n|--------------|------|------|------|------|------|\\n| 유동자산     | 399  | 486  | 551  | 666  | 748  |\\n| 금융자산     | 104  | 170  | 148  | 130  | 146  |\\n| 현금성자산   | 33   | 87   | 57   | 83   | 98   |\\n| 매출채권     | 176  | 202  | 204  | 247  | 247  |\\n| 재고자산     | 106  | 102  | 170  | 247  | 256  |\\n| 기타유동자산 | 13   | 12   | 29   | 42   | 99   |\\n| 비유동자산   | 486  | 500  | 574  | 624  | 677  |\\n| 투자자산     | 45   | 56   | 81   | 53   | 57   |\\n| 금융자산     | 40   | 51   | 76   | 48   | 52   |\\n| 유형자산     | 403  | 411  | 465  | 534  | 562  |\\n| 무형자산     | 17   | 9    | 9    | 9    | 9    |\\n| 기타비유동자산| 21   | 24   | 19   | 28   | 49   |\\n| 자산총계     | 886  | 985  | 1,125| 1,290| 1,425|\\n| 유동부채     | 122  | 163  | 195  | 347  | 394  |\\n| 금융부채     | 2    | 5    | 11   | 61   | 129  |\\n| 매입채무     | 70   | 90   | 123  | 177  | 164  |\\n| 기타유동부채 | 50   | 68   | 61   | 109  | 101  |\\n| 비유동부채   | 53   | 58   | 88   | 72   | 99   |\\n| 금융부채     | 8    | 8    | 34   | 24   | 35   |\\n| 기타비유동부채| 45   | 50   | 54   | 48   | 64   |\\n| 부채총계     | 175  | 221  | 283  | 419  | 493  |\\n| 지배주주지분 | 710  | 764  | 842  | 870  | 932  |\\n| 자본금       | 5    | 5    | 5    | 5    | 5    |\\n| 자본잉여금   | 26   | 26   | 26   | 26   | 26   |\\n| 자본조정     | 0    | 0    | (3)  | (3)  | (3)  |\\n| 기타포괄이익누계액 | (2) | 4    | 26   | 6    | 12   |\\n| 이익잉여금   | 682  | 733  | 788  | 836  | 892  |\\n| 비지배주주지분| 0    | 0    | (0)  | (0)  | (0)  |\\n| 자본총계     | 710  | 764  | 842  | 870  | 932  |\\n| 순금융부채   | (95) | (156)| (103)| (45) | 18   |',\n",
       " 50: '| 주당지표(원) | 2019  | 2020  | 2021  | 2022  | 2023  |\\n|--------------|-------|-------|-------|-------|-------|\\n| EPS          | 3,062 | 5,550 | 6,041 | 4,677 | 7,000 |\\n| BPS          | 68,181| 73,675| 81,164| 83,872| 89,779|\\n| CFPS         | 10,218| 14,223| 15,152| 15,015| 18,691|\\n| EBITDAPS     | 8,312 | 12,812| 12,779| 12,266| 17,114|\\n| SPS          | 74,137| 77,052| 92,389| 112,159| 124,526|\\n| DPS          | 700   | 700   | 700   | 700   | 700   |\\n\\n| 주가지표(배) | 2019 | 2020 | 2021 | 2022 | 2023 |\\n|---------------|------|------|------|------|------|\\n| PER           | 14.0 | 11.2 | 12.6 | 11.1 | 10.7 |\\n| PBR           | 0.6  | 0.8  | 0.9  | 0.6  | 0.8  |\\n| PCFR          | 4.2  | 4.4  | 5.0  | 3.4  | 4.0  |\\n| EV/EBITDA     | 4.1  | 3.7  | 5.2  | 3.9  | 4.5  |\\n| PSR           | 0.6  | 0.8  | 0.8  | 0.5  | 0.6  |\\n\\n| 재무비율(%)  | 2019 | 2020 | 2021 | 2022 | 2023 |\\n|--------------|------|------|------|------|------|\\n| ROE          | 4.5  | 7.6  | 7.5  | 5.6  | 7.8  |\\n| ROA          | 3.6  | 5.9  | 5.6  | 3.8  | 5.1  |\\n| ROIC         | 5.4  | 11.9 | 8.7  | 6.0  | 9.3  |\\n| 부채비율     | 24.7 | 28.9 | 33.6 | 48.2 | 52.9 |\\n| 순부채비율   | (13.3)| (20.4)| (12.2)| (5.2)| 2.0  |\\n| 이자보상배율(배)| 116.7| 355.9| 441.1| 43.6 | 16.1 |',\n",
       " 52: '| 항목               | 2019 | 2020 | 2021 | 2022 | 2023 |\\n|-------------------|------|------|------|------|------|\\n| 영업활동 현금흐름  | 62   | 108  | 30   | 52   | 136  |\\n| 당기순이익         | 32   | 58   | 63   | 49   | 73   |\\n| 조정               | 68   | 80   | 72   | 88   | 103  |\\n| 감가상각비         | 53   | 54   | 57   | 63   | 66   |\\n| 외환가래손익       | 3    | 11   | 9    | 21   | 26   |\\n| 지분법손익         | (0)  | (0)  | (0)  | (0)  | (1)  |\\n| 기타               | 12   | 15   | 6    | 4    | 12   |\\n| 영업활동자본변동   | (38) | (30) | (105)| (85) | (40) |\\n| 투자활동 현금흐름  | (59) | (54) | (92) | (68) | (125)|\\n| 투자자산감소(증가)| 8    | (10) | (25) | 28   | 3    |\\n| 자본증가(감소)     | (86) | (41) | (82) | (113)| (84) |\\n| 기타투자활동      | 19   | (3)  | 15   | 17   | (38) |\\n| 재무활동 현금흐름  | (1)  | 1    | 30   | 43   | 4    |\\n| 금융부채증가(감소) | 6    | 4    | 32   | 39   | 80   |\\n| 자본증가(감소)     | 0    | 0    | 0    | 0    | 0    |\\n| 기타재무활동      | 0    | 4    | 5    | 11   | (69) |\\n| 배당지급           | (7)  | (7)  | (7)  | (7)  | (7)  |\\n| 현금의 증감        | 1    | 54   | (31) | 27   | 15   |\\n| Unlevered CFO      | 106  | 148  | 158  | 156  | 195  |\\n| Free Cash Flow     | (27) | 59   | (60) | (72) | 35   |',\n",
       " 70: '| 투자등급         | BUY(매수) | Neutral(중립) | Reduce(매도) | 합계   |\\n|------------------|-----------|----------------|---------------|--------|\\n| 금융투자상품의 비율 | 93.75%    | 5.80%          | 0.45%         | 100%   |'}"
      ]
     },
     "execution_count": 55,
     "metadata": {},
     "output_type": "execute_result"
    }
   ],
   "source": [
    "state[\"table_markdown\"]"
   ]
  },
  {
   "cell_type": "code",
   "execution_count": 56,
   "metadata": {},
   "outputs": [
    {
     "data": {
      "text/plain": [
       "{16: '<image>\\n<title>한국단자 실적 추이</title>\\n<summary>이 차트는 2022년부터 2024년까지 한국단자의 매출액과 순이익 추이를 보여줍니다. 매출액은 지속적으로 증가하고 있으며, 순이익도 함께 상승하는 추세입니다. 2024년에는 매출액이 89.3억원, 순이익이 7.2억원에 달할 것으로 예상됩니다.</summary>\\n<entities>\\n- 한국단자\\n- 매출액\\n- 순이익\\n- 2022년\\n- 2023년\\n- 2024년\\n</entities>\\n</image>',\n",
       " 19: '<image>\\n<title>한국단자 실적 추이</title>\\n<summary>2022년부터 2024년까지의 한국단자의 매출액과 순이익 추이를 나타낸 차트. 2022년에는 매출액이 1.0십억원, 순이익은 -0.8십억원이었으며, 2024년에는 매출액이 26.4십억원, 순이익이 23.7십억원으로 증가함.</summary>\\n<entities>한국단자, 매출액, 순이익, 2022, 2023, 2024</entities>\\n</image>',\n",
       " 23: '<image>\\n<title>한국단자의 매출총이익률 추이</title>\\n<summary>한국단자의 매출총이익률은 2020년 1.7%에서 2022년 7.0%로 증가하였으며, 2023년에는 4.0%로 소폭 감소하였으나 2024년 3분기에는 5.0%로 회복세를 보일 것으로 예상됨.</summary>\\n<entities>\\n- 한국단자\\n- 매출총이익률\\n- 2020년\\n- 2021년\\n- 2022년\\n- 2023년\\n- 2024년 3분기\\n</entities>\\n</image>',\n",
       " 28: '<image>\\n<title>한국단자의 매출총이익률 추이</title>\\n<summary>한국단자의 매출총이익률은 2020년 3.9%에서 2021년 19.9%, 2022년 21.4%로 증가하였으며, 2023년에는 11.0%로 감소하였으나 2024년 3분기에는 15.9%로 회복세를 보이고 있다.</summary>\\n<entities>한국단자, 매출총이익률, 2020, 2021, 2022, 2023, 2024</entities>\\n</image>',\n",
       " 30: '<image>\\n<title>LME Copper Price Trend</title>\\n<summary>This chart illustrates the fluctuations in the LME Copper price over time, showing significant volatility with peaks and troughs. The price is measured in USD per tonne, indicating a general trend of rising and falling values throughout the observed period.</summary>\\n<entities>\\n- LME Copper Price\\n- USD per tonne\\n- Fluctuations\\n- Volatility\\n</entities>\\n</image>',\n",
       " 33: '<image>\\n<title>한국단자와 LME 구리 가격 추이</title>\\n<summary>이 차트는 LME 구리 가격과 한국단자의 원재료비/매출액 비율의 변화를 보여줍니다. LME 구리 가격은 2018년부터 2024년까지의 변동성을 나타내며, 원재료비/매출액 비율은 구리 가격의 영향을 받으며 상승과 하락을 반복하고 있습니다.</summary>\\n<entities>\\n- LME 구리 가격\\n- 원재료비/매출액 비율\\n- 한국단자\\n</entities>\\n</image>',\n",
       " 36: '<image>\\n<title>한국단자의 매출총이익률 추이</title>\\n<summary>한국단자의 매출총이익률은 2018년부터 2024년까지의 기간 동안 변동성을 보이며, 전반적으로 긍정적인 추세를 나타내고 있습니다. 최근 몇 년간의 데이터에 따르면, 매출총이익률은 10%에서 25% 사이에서 변화하고 있습니다.</summary>\\n<entities>\\n- 한국단자\\n- 매출총이익률\\n- 2018-2024\\n</entities>\\n</image>',\n",
       " 57: '<image>\\n<title>한국단자 주가 및 목표주가 변동 차트</title>\\n<summary>현재 한국단자의 투자의견은 \"Not Rated\"이며, 목표주가는 현재 주가 대비 15% 이상 상승 여력이 있는 경우 \"BUY\", -15%~15% 등락 시 \"Neutral\", 15% 이상 하락 가능 시 \"Reduce\"로 분류됩니다. 투자등급의 유효기간은 추천일 이후 12개월입니다. 업종지수는 \"Overweight\", \"Neutral\", \"Underweight\"로 나뉘며, 자료 작성자는 2024년 11월 21일 기준으로 한국단자의 지분을 1% 이상 보유하고 있지 않습니다.</summary>\\n<entities>\\n  <entity>한국단자 (025540)</entity>\\n  <entity>투자의견: Not Rated</entity>\\n  <entity>목표주가 괴리율: BUY, Neutral, Reduce</entity>\\n  <entity>투자등급 유효기간: 12개월</entity>\\n  <entity>산업 분류: Overweight, Neutral, Underweight</entity>\\n  <entity>자료 작성자 지분: 1% 미만</entity>\\n</entities>\\n</image>'}"
      ]
     },
     "execution_count": 56,
     "metadata": {},
     "output_type": "execute_result"
    }
   ],
   "source": [
    "state[\"image_summary\"]"
   ]
  },
  {
   "cell_type": "code",
   "execution_count": 57,
   "metadata": {},
   "outputs": [
    {
     "data": {
      "text/plain": [
       "{0: '2024년 11월 21일 I 기업분석한국단자 (025540)또 다시 예상보다 좋았어요3Q24 Review: 영업이익률 12.8% 기록한국단자의 3분기 매출액/영업이익은 19%/48% (YoY) 증가한 3,780억원/485억원(영업이\\n익률 12.8%, +2.5%p (YoY))으로 2분기에 이어 또 한번 서프라이즈를 기록했다(영업이익\\n기준 컨센서스 대비 +30%). 한국(본사/케이이티솔루션/케이티네트워크) 매출액이 6%\\n(YoY) 증가했고, 폴란드 매출액은 17% (YoY) 감소했지만 미국 매출액이 317% (YoY) 급\\n증했다. 미국/멕시코 법인의 합산 매출액 비중은 21%로 15%p (YoY) 상승했다. 믹스 효\\n과로 차량용 커넥터의 평균가격은 3분기 누적 5% (YoY) 상승했다. 구리 등 비철원재료와\\n수지원재료(PBT 등)의 투입원가는 누적 기준 각각 +2.3%/-4.4% (YoY) 변동했다. 주요 공\\n장의 가동률이 5%p (YoY) 상승하면서 고정비 레버리지 효과가 발생하여 매출원가율이 -\\n2.6%p (YoY), +1.2%p (QoQ) 변동했다. 결과로 매출총이익률이 20.8%를 기록했고, 영업\\n이익률은 +2.5%p (YoY), -1.7%p (QoQ) 변동한 12.8%로 2분기 14.5%에 이어 2020년\\n이후 두 번째로 높은 분기 수익성을 보였다. 3분기가 계절적 비수기임을 고려할 때 3분기\\n기준으로는 최고치이다. 영업외 외환손실로 세전이익/지배주주순이익은 영업이익 증가율\\n보다 낮은 16%/26% (YoY) 증가한 393억원/338억원을 기록했다.미국 법인의 3분기 누적 매출액이 전년 연간 매출액의 3.3배까지 증가북미 판매/생산을 각각 담당하는 미국/멕시코 법인은 전기차용 ICB(Inter-Connect Board)\\n위주로 급성장을 이어가고 있다. 미국/멕시코는 2022년 첫 매출액이 발생한 후 2023년\\n689억원/195원을 기록했고, 2024년에는 분기 매출액이 전년 연간 수준을 기록 중이다. 1\\n분기 538억원/158억원, 2분기 893억원/264억원, 그리고 이번 3분기에도 853억원/237억원\\n을 기록했다. 3분기 누적 매출액만 벌써 2023년 연간 매출액의 3.3배 수준인 2,283억원\\n/660억원으로 목표치를 크게 넘어섰다. ICB 제품이 기존 커넥터 대비 단가가 현저히 높은\\n가운데, 주 고객사인 북미 완성차의 전기차 모델향 납품이 늘고, 환율도 우호적으로 작용\\n했기 때문이다. 순이익 역시 2023년 각각 46억원/8억원이었는데, 2024년에는 외형 성장에\\n따른 수익성 개선 효과로 1분기 25억원/29억원, 2분기 71억원/16억원, 3분기에는 72억원\\n/8억원으로 누적 168억원/53억원을 기록했다. 기수주 물량과 신규 고객의 발굴, 멕시코 2\\n공장의 증설 등으로 높은 성장이 이어질 것으로 기대된다.주가는 P/E 5배대로 높은 성장성 대비 저평가 상태매출액 대비 원재료 비율이 50% 전후로 구리 등 비철원재료의 가격 변동에 수익성이 영\\n향을 받지만, 주요 고정성 비용도 20%대인 바 외형 고성장에 따른 수익성 개선이 더 크\\n게 나오고 있다. 자동차의 전장화/전동화로 커넥터의 사용량과 단가가 상승하고, 영업 지\\n역이 미국/유럽으로 확대되며, 고객군도 글로벌OE 및 2차전지 업체로 다변화되기 때문이\\n다. 3분기 누적 지배주주순이익이 1,147억원이고, 연간 1,400억원 이상이 예상된다. 현재\\n주가는 P/E 5배대 수준으로 한국단자의 높은 성장성 및 수익성 대비 저평가된 상태이다.',\n",
       " 1: '한국단자 (025540)도표 1. 한국단자의 실적 추이(단위: 십억원, %)자료: 한국단자, 하나증권도표 2. 한국단자의 미국 법인 매출액/순이익 추이자료: 한국단자, 하나증권도표 3. 한국단자의 멕시코 법인 매출액/순이익 추이자료: 한국단자, 하나증권하나증권·3',\n",
       " 2: '도표 4. 한국단자의 자동차용 ASP 상승률 추이자료: 한국단자, 하나증권도표 6. 국제 구리 가격 추이 (LME Copper)한국단자 (025540)도표 5. 한국단자의 매출액 증가율 추이자료: 한국단자, 하나증권자료: LME도표 7. LME 구리 가격과 한국단자의 원재료비 /매출액 비율 추이자료: 한국단자, LME, 하나증권도표 8. 한국단자의 매출총이익률 추이자료: 한국단자, 하나증권하나증권·4',\n",
       " 3: '한국단자 (025540)추정 재무제표손익계산서(단위:십억원)대차대조표(단위:십억원)투자지표현금흐름표(단위:십억원)자료: 하나증권하나증권·5',\n",
       " 4: '한국단자 (025540)투자의견 변동 내역 및 목표주가 괴리율한국단자괴리율날짜 투자의견 목표주가Compliance Notice평균 최고/최저23.12.26 Not Rated· 본 자료를 작성한 애널리스트(송선재)는 자료의 작성과 관련하여 외부의 압력이나 부당\\n한 간섭을 받지 않았으며, 본인의 의견을 정확하게 반영하여 신의성실 하게 작성하였\\n습니다.\\n· 본 자료는 기관투자가 등 제 3자에게 사전 제공한 사실이 없습니다\\n· 당사는 2024년 11월 21일 현재 해당회사의 지분을 1%이상 보유 하고 있지 않습니다\\n· 본자료를 작성한 애널리스트(송선재)는 2024년 11월 21일 현재 해당회사의 유가증권을\\n보유하고 있지 않습니다본 조사자료는 고객의 투자에 정보를 제공할 목적으로 작성되었으며, 어떠한 경우에도\\n무 단 복제 및 배포 될 수 없습니다. 또한 본 자료에 수록된 내용은 당사가 신뢰할 만한\\n자료 및 정보로 얻어진 것이나, 그 정확성이나 완전성을 보장할 수 없으므로 투자자 자\\n신의 판단과 책임하에 최종결정을 하시기 바랍니다. 따라서 어떠한 경우에도 본 자료는\\n고객의 주식투자의 결과에 대한 법적 책임소재의 증빙자료로 사용될 수 없습니다.투자등급 관련사항 및 투자의견 비율공시· 투자의견의 유효기간은 추천일 이후 12개월을 기준으로 적용· 기업의 분류\\nBUY(매수)_ 목표주가가 현주가 대비 15% 이상 상승 여력\\nNeutral(중립)_ 목표주가가 현주가 대비 -15%~15% 등락\\nReduce(비중축소)_ 목표주가가 현주가 대비 15% 이상 하락 가능· 산업의 분류Overweight(비중확대)_ 업종지수가 현재지수 대비 15% 이상 상승 여력\\nNeutral(중립)_ 업종지수가 현재지수 대비 -15%~15% 등락\\nUnderweight(비중축소)_ 업종지수가 현재지수 대비 -15%~15% 등락* 기준일: 2024년 11월 17일하나증권6'}"
      ]
     },
     "execution_count": 57,
     "metadata": {},
     "output_type": "execute_result"
    }
   ],
   "source": [
    "state[\"texts\"]"
   ]
  },
  {
   "cell_type": "code",
   "execution_count": 58,
   "metadata": {},
   "outputs": [
    {
     "data": {
      "text/plain": [
       "{0: '1. **3분기 실적**: 한국단자는 3Q24에서 매출액 3,780억원, 영업이익 485억원을 기록함. 영업이익률은 12.8%로, 전년 대비 +2.5%p 증가.\\n\\n2. **매출 증가율**: 매출액은 전년 대비 19% 증가, 영업이익은 48% 증가. 영업이익 기준 컨센서스 대비 +30% 서프라이즈.\\n\\n3. **지역별 매출**:\\n   - 한국: 매출액 6% 증가 (YoY)\\n   - 폴란드: 매출액 17% 감소 (YoY)\\n   - 미국: 매출액 317% 급증 (YoY)\\n\\n4. **미국/멕시코 법인**: 합산 매출액 비중 21%로, 전년 대비 15%p 상승. 3분기 누적 매출액은 2,283억원으로, 2023년 연간 매출액의 3.3배.\\n\\n5. **원가 및 수익성**: \\n   - 차량용 커넥터 평균가격 5% 상승 (YoY)\\n   - 구리 등 비철원재료 원가는 +2.3% 변동, 수지원재료는 -4.4% 변동.\\n   - 매출원가율은 -2.6%p (YoY) 감소, 매출총이익률 20.8% 기록.\\n\\n6. **순이익**: 3분기 세전이익 393억원, 지배주주순이익 338억원으로 각각 16% 및 26% 증가 (YoY).\\n\\n7. **기대 성장**: 기수주 물량, 신규 고객 발굴, 멕시코 2공장 증설로 높은 성장 기대.\\n\\n8. **주가 평가**: 현재 P/E 5배대로 저평가 상태, 연간 지배주주순이익 1,400억원 이상 예상.',\n",
       " 1: '1. **한국단자 실적 추이**  \\n   - 단위: 십억원, %  \\n   - 주요 실적: 매출, 영업이익, 순이익 등\\n\\n2. **미국 법인 매출액/순이익 추이**  \\n   - 매출액: [구체적인 수치]  \\n   - 순이익: [구체적인 수치]  \\n   - 연도별 변화: [구체적인 변화]\\n\\n3. **멕시코 법인 매출액/순이익 추이**  \\n   - 매출액: [구체적인 수치]  \\n   - 순이익: [구체적인 수치]  \\n   - 연도별 변화: [구체적인 변화]  \\n\\n*각 항목의 구체적인 수치는 원문에서 확인 필요.*',\n",
       " 2: '1. **한국단자의 자동차용 ASP 상승률**: 한국단자의 자동차용 ASP는 지속적으로 상승하고 있으며, 최근 몇 년간의 상승률이 두드러짐.\\n\\n2. **국제 구리 가격 추이 (LME Copper)**: LME Copper 가격은 변동성이 있으며, 특정 시점에서 급격한 상승과 하락을 보임.\\n\\n3. **한국단자의 매출액 증가율**: 한국단자의 매출액은 지속적으로 증가하고 있으며, 최근 몇 년간의 증가율이 긍정적인 추세를 보임.\\n\\n4. **LME 구리 가격과 한국단자의 원재료비/매출액 비율**: LME 구리 가격의 변동에 따라 한국단자의 원재료비/매출액 비율도 변화하며, 이 비율은 원자재 가격 상승에 영향을 받음.\\n\\n5. **한국단자의 매출총이익률 추이**: 한국단자의 매출총이익률은 안정적인 수준을 유지하고 있으며, 원자재 가격 상승에도 불구하고 긍정적인 실적을 보임.',\n",
       " 3: '1. **손익계산서 (단위: 십억원)**\\n   - 매출: [값 입력 필요]\\n   - 영업이익: [값 입력 필요]\\n   - 순이익: [값 입력 필요]\\n\\n2. **대차대조표 (단위: 십억원)**\\n   - 자산: [값 입력 필요]\\n   - 부채: [값 입력 필요]\\n   - 자본: [값 입력 필요]\\n\\n3. **투자지표**\\n   - PER: [값 입력 필요]\\n   - PBR: [값 입력 필요]\\n   - ROE: [값 입력 필요]\\n\\n4. **현금흐름표 (단위: 십억원)**\\n   - 영업활동현금흐름: [값 입력 필요]\\n   - 투자활동현금흐름: [값 입력 필요]\\n   - 재무활동현금흐름: [값 입력 필요]\\n\\n자료 출처: 하나증권',\n",
       " 4: '1. **투자의견 변동 내역**: 한국단자 (025540) 관련 투자의견은 현재 \"Not Rated\" 상태입니다.\\n   \\n2. **목표주가 괴리율**: 목표주가는 현재 주가 대비 15% 이상 상승 여력이 있는 경우 \"BUY\", -15%~15% 등락 시 \"Neutral\", 15% 이상 하락 가능 시 \"Reduce\"로 분류됩니다.\\n\\n3. **투자등급 유효기간**: 투자의견의 유효기간은 추천일 이후 12개월입니다.\\n\\n4. **산업 분류**: 업종지수에 대한 분류는 \"Overweight\", \"Neutral\", \"Underweight\"로 나뉘며, 각각의 기준은 현재지수 대비 15% 이상 상승 여력, -15%~15% 등락, -15% 이상 하락 가능성입니다.\\n\\n5. **기타 정보**: 자료 작성자는 2024년 11월 21일 현재 한국단자의 지분을 1% 이상 보유하고 있지 않으며, 유가증권도 보유하고 있지 않습니다.'}"
      ]
     },
     "execution_count": 58,
     "metadata": {},
     "output_type": "execute_result"
    }
   ],
   "source": [
    "state[\"text_summary\"]"
   ]
  },
  {
   "cell_type": "markdown",
   "metadata": {},
   "source": [
    "# Multi_modal_RAG-GTP-4o"
   ]
  },
  {
   "cell_type": "code",
   "execution_count": 68,
   "metadata": {},
   "outputs": [
    {
     "name": "stdout",
     "output_type": "stream",
     "text": [
      "Requirement already satisfied: openai in c:\\users\\user\\appdata\\roaming\\python\\python311\\site-packages (1.47.1)\n",
      "Requirement already satisfied: anyio<5,>=3.5.0 in c:\\users\\user\\.conda\\envs\\langchain-env\\lib\\site-packages (from openai) (4.6.2.post1)\n",
      "Requirement already satisfied: distro<2,>=1.7.0 in c:\\users\\user\\.conda\\envs\\langchain-env\\lib\\site-packages (from openai) (1.9.0)\n",
      "Requirement already satisfied: httpx<1,>=0.23.0 in c:\\users\\user\\appdata\\roaming\\python\\python311\\site-packages (from openai) (0.27.2)\n",
      "Requirement already satisfied: jiter<1,>=0.4.0 in c:\\users\\user\\appdata\\roaming\\python\\python311\\site-packages (from openai) (0.5.0)\n",
      "Requirement already satisfied: pydantic<3,>=1.9.0 in c:\\users\\user\\appdata\\roaming\\python\\python311\\site-packages (from openai) (2.9.2)\n",
      "Requirement already satisfied: sniffio in c:\\users\\user\\.conda\\envs\\langchain-env\\lib\\site-packages (from openai) (1.3.1)\n",
      "Requirement already satisfied: tqdm>4 in c:\\users\\user\\.conda\\envs\\langchain-env\\lib\\site-packages (from openai) (4.67.0)\n",
      "Requirement already satisfied: typing-extensions<5,>=4.11 in c:\\users\\user\\appdata\\roaming\\python\\python311\\site-packages (from openai) (4.12.2)\n",
      "Requirement already satisfied: idna>=2.8 in c:\\users\\user\\.conda\\envs\\langchain-env\\lib\\site-packages (from anyio<5,>=3.5.0->openai) (3.10)\n",
      "Requirement already satisfied: certifi in c:\\users\\user\\.conda\\envs\\langchain-env\\lib\\site-packages (from httpx<1,>=0.23.0->openai) (2024.8.30)\n",
      "Requirement already satisfied: httpcore==1.* in c:\\users\\user\\appdata\\roaming\\python\\python311\\site-packages (from httpx<1,>=0.23.0->openai) (1.0.5)\n",
      "Requirement already satisfied: h11<0.15,>=0.13 in c:\\users\\user\\appdata\\roaming\\python\\python311\\site-packages (from httpcore==1.*->httpx<1,>=0.23.0->openai) (0.14.0)\n",
      "Requirement already satisfied: annotated-types>=0.6.0 in c:\\users\\user\\appdata\\roaming\\python\\python311\\site-packages (from pydantic<3,>=1.9.0->openai) (0.7.0)\n",
      "Requirement already satisfied: pydantic-core==2.23.4 in c:\\users\\user\\appdata\\roaming\\python\\python311\\site-packages (from pydantic<3,>=1.9.0->openai) (2.23.4)\n",
      "Requirement already satisfied: colorama in c:\\users\\user\\.conda\\envs\\langchain-env\\lib\\site-packages (from tqdm>4->openai) (0.4.6)\n"
     ]
    },
    {
     "name": "stderr",
     "output_type": "stream",
     "text": [
      "WARNING: Ignoring invalid distribution ~ransformers (C:\\Users\\user\\AppData\\Roaming\\Python\\Python311\\site-packages)\n",
      "WARNING: Ignoring invalid distribution ~ransformers (C:\\Users\\user\\AppData\\Roaming\\Python\\Python311\\site-packages)\n",
      "WARNING: Ignoring invalid distribution ~ransformers (C:\\Users\\user\\AppData\\Roaming\\Python\\Python311\\site-packages)\n",
      "WARNING: Ignoring invalid distribution ~ransformers (C:\\Users\\user\\AppData\\Roaming\\Python\\Python311\\site-packages)\n",
      "WARNING: Ignoring invalid distribution ~ransformers (C:\\Users\\user\\AppData\\Roaming\\Python\\Python311\\site-packages)\n"
     ]
    },
    {
     "name": "stdout",
     "output_type": "stream",
     "text": [
      "Requirement already satisfied: langchain in c:\\users\\user\\appdata\\roaming\\python\\python311\\site-packages (0.3.1)\n",
      "Requirement already satisfied: PyYAML>=5.3 in c:\\users\\user\\.conda\\envs\\langchain-env\\lib\\site-packages (from langchain) (6.0.2)\n",
      "Requirement already satisfied: SQLAlchemy<3,>=1.4 in c:\\users\\user\\.conda\\envs\\langchain-env\\lib\\site-packages (from langchain) (2.0.36)\n",
      "Requirement already satisfied: aiohttp<4.0.0,>=3.8.3 in c:\\users\\user\\.conda\\envs\\langchain-env\\lib\\site-packages (from langchain) (3.11.6)\n",
      "Requirement already satisfied: langchain-core<0.4.0,>=0.3.6 in c:\\users\\user\\.conda\\envs\\langchain-env\\lib\\site-packages (from langchain) (0.3.19)\n",
      "Requirement already satisfied: langchain-text-splitters<0.4.0,>=0.3.0 in c:\\users\\user\\appdata\\roaming\\python\\python311\\site-packages (from langchain) (0.3.0)\n",
      "Requirement already satisfied: langsmith<0.2.0,>=0.1.17 in c:\\users\\user\\appdata\\roaming\\python\\python311\\site-packages (from langchain) (0.1.128)\n",
      "Requirement already satisfied: numpy<2,>=1 in c:\\users\\user\\.conda\\envs\\langchain-env\\lib\\site-packages (from langchain) (1.26.4)\n",
      "Requirement already satisfied: pydantic<3.0.0,>=2.7.4 in c:\\users\\user\\appdata\\roaming\\python\\python311\\site-packages (from langchain) (2.9.2)\n",
      "Requirement already satisfied: requests<3,>=2 in c:\\users\\user\\.conda\\envs\\langchain-env\\lib\\site-packages (from langchain) (2.32.3)\n",
      "Requirement already satisfied: tenacity!=8.4.0,<9.0.0,>=8.1.0 in c:\\users\\user\\.conda\\envs\\langchain-env\\lib\\site-packages (from langchain) (8.5.0)\n",
      "Requirement already satisfied: aiohappyeyeballs>=2.3.0 in c:\\users\\user\\.conda\\envs\\langchain-env\\lib\\site-packages (from aiohttp<4.0.0,>=3.8.3->langchain) (2.4.3)\n",
      "Requirement already satisfied: aiosignal>=1.1.2 in c:\\users\\user\\.conda\\envs\\langchain-env\\lib\\site-packages (from aiohttp<4.0.0,>=3.8.3->langchain) (1.3.1)\n",
      "Requirement already satisfied: attrs>=17.3.0 in c:\\users\\user\\.conda\\envs\\langchain-env\\lib\\site-packages (from aiohttp<4.0.0,>=3.8.3->langchain) (24.2.0)\n",
      "Requirement already satisfied: frozenlist>=1.1.1 in c:\\users\\user\\.conda\\envs\\langchain-env\\lib\\site-packages (from aiohttp<4.0.0,>=3.8.3->langchain) (1.5.0)\n",
      "Requirement already satisfied: multidict<7.0,>=4.5 in c:\\users\\user\\.conda\\envs\\langchain-env\\lib\\site-packages (from aiohttp<4.0.0,>=3.8.3->langchain) (6.1.0)\n",
      "Requirement already satisfied: propcache>=0.2.0 in c:\\users\\user\\.conda\\envs\\langchain-env\\lib\\site-packages (from aiohttp<4.0.0,>=3.8.3->langchain) (0.2.0)\n",
      "Requirement already satisfied: yarl<2.0,>=1.17.0 in c:\\users\\user\\.conda\\envs\\langchain-env\\lib\\site-packages (from aiohttp<4.0.0,>=3.8.3->langchain) (1.17.2)\n",
      "Requirement already satisfied: jsonpatch<2.0,>=1.33 in c:\\users\\user\\appdata\\roaming\\python\\python311\\site-packages (from langchain-core<0.4.0,>=0.3.6->langchain) (1.33)\n",
      "Requirement already satisfied: packaging<25,>=23.2 in c:\\users\\user\\appdata\\roaming\\python\\python311\\site-packages (from langchain-core<0.4.0,>=0.3.6->langchain) (23.2)\n",
      "Requirement already satisfied: typing-extensions>=4.7 in c:\\users\\user\\appdata\\roaming\\python\\python311\\site-packages (from langchain-core<0.4.0,>=0.3.6->langchain) (4.12.2)\n",
      "Requirement already satisfied: httpx<1,>=0.23.0 in c:\\users\\user\\appdata\\roaming\\python\\python311\\site-packages (from langsmith<0.2.0,>=0.1.17->langchain) (0.27.2)\n",
      "Requirement already satisfied: orjson<4.0.0,>=3.9.14 in c:\\users\\user\\appdata\\roaming\\python\\python311\\site-packages (from langsmith<0.2.0,>=0.1.17->langchain) (3.10.7)\n",
      "Requirement already satisfied: annotated-types>=0.6.0 in c:\\users\\user\\appdata\\roaming\\python\\python311\\site-packages (from pydantic<3.0.0,>=2.7.4->langchain) (0.7.0)\n",
      "Requirement already satisfied: pydantic-core==2.23.4 in c:\\users\\user\\appdata\\roaming\\python\\python311\\site-packages (from pydantic<3.0.0,>=2.7.4->langchain) (2.23.4)\n",
      "Requirement already satisfied: charset-normalizer<4,>=2 in c:\\users\\user\\.conda\\envs\\langchain-env\\lib\\site-packages (from requests<3,>=2->langchain) (3.4.0)\n",
      "Requirement already satisfied: idna<4,>=2.5 in c:\\users\\user\\.conda\\envs\\langchain-env\\lib\\site-packages (from requests<3,>=2->langchain) (3.10)\n",
      "Requirement already satisfied: urllib3<3,>=1.21.1 in c:\\users\\user\\.conda\\envs\\langchain-env\\lib\\site-packages (from requests<3,>=2->langchain) (2.2.3)\n",
      "Requirement already satisfied: certifi>=2017.4.17 in c:\\users\\user\\.conda\\envs\\langchain-env\\lib\\site-packages (from requests<3,>=2->langchain) (2024.8.30)\n",
      "Requirement already satisfied: greenlet!=0.4.17 in c:\\users\\user\\appdata\\roaming\\python\\python311\\site-packages (from SQLAlchemy<3,>=1.4->langchain) (3.0.3)\n",
      "Requirement already satisfied: anyio in c:\\users\\user\\.conda\\envs\\langchain-env\\lib\\site-packages (from httpx<1,>=0.23.0->langsmith<0.2.0,>=0.1.17->langchain) (4.6.2.post1)\n",
      "Requirement already satisfied: httpcore==1.* in c:\\users\\user\\appdata\\roaming\\python\\python311\\site-packages (from httpx<1,>=0.23.0->langsmith<0.2.0,>=0.1.17->langchain) (1.0.5)\n",
      "Requirement already satisfied: sniffio in c:\\users\\user\\.conda\\envs\\langchain-env\\lib\\site-packages (from httpx<1,>=0.23.0->langsmith<0.2.0,>=0.1.17->langchain) (1.3.1)\n",
      "Requirement already satisfied: h11<0.15,>=0.13 in c:\\users\\user\\appdata\\roaming\\python\\python311\\site-packages (from httpcore==1.*->httpx<1,>=0.23.0->langsmith<0.2.0,>=0.1.17->langchain) (0.14.0)\n",
      "Requirement already satisfied: jsonpointer>=1.9 in c:\\users\\user\\.conda\\envs\\langchain-env\\lib\\site-packages (from jsonpatch<2.0,>=1.33->langchain-core<0.4.0,>=0.3.6->langchain) (3.0.0)\n"
     ]
    },
    {
     "name": "stderr",
     "output_type": "stream",
     "text": [
      "WARNING: Ignoring invalid distribution ~ransformers (C:\\Users\\user\\AppData\\Roaming\\Python\\Python311\\site-packages)\n",
      "WARNING: Ignoring invalid distribution ~ransformers (C:\\Users\\user\\AppData\\Roaming\\Python\\Python311\\site-packages)\n",
      "WARNING: Ignoring invalid distribution ~ransformers (C:\\Users\\user\\AppData\\Roaming\\Python\\Python311\\site-packages)\n",
      "WARNING: Ignoring invalid distribution ~ransformers (C:\\Users\\user\\AppData\\Roaming\\Python\\Python311\\site-packages)\n",
      "WARNING: Ignoring invalid distribution ~ransformers (C:\\Users\\user\\AppData\\Roaming\\Python\\Python311\\site-packages)\n"
     ]
    }
   ],
   "source": [
    "!pip install openai\n",
    "!pip install langchain"
   ]
  },
  {
   "cell_type": "code",
   "execution_count": 73,
   "metadata": {},
   "outputs": [
    {
     "name": "stdout",
     "output_type": "stream",
     "text": [
      "Collecting chromadb\n",
      "  Downloading chromadb-0.5.20-py3-none-any.whl.metadata (6.8 kB)\n",
      "Requirement already satisfied: build>=1.0.3 in c:\\users\\user\\appdata\\roaming\\python\\python311\\site-packages (from chromadb) (1.2.2)\n",
      "Requirement already satisfied: pydantic>=1.9 in c:\\users\\user\\appdata\\roaming\\python\\python311\\site-packages (from chromadb) (2.9.2)\n",
      "Collecting chroma-hnswlib==0.7.6 (from chromadb)\n",
      "  Downloading chroma_hnswlib-0.7.6-cp311-cp311-win_amd64.whl.metadata (262 bytes)\n",
      "Collecting fastapi>=0.95.2 (from chromadb)\n",
      "  Downloading fastapi-0.115.5-py3-none-any.whl.metadata (27 kB)\n",
      "Collecting uvicorn>=0.18.3 (from uvicorn[standard]>=0.18.3->chromadb)\n",
      "  Downloading uvicorn-0.32.1-py3-none-any.whl.metadata (6.6 kB)\n",
      "Requirement already satisfied: numpy>=1.22.5 in c:\\users\\user\\.conda\\envs\\langchain-env\\lib\\site-packages (from chromadb) (1.26.4)\n",
      "Collecting posthog>=2.4.0 (from chromadb)\n",
      "  Downloading posthog-3.7.2-py2.py3-none-any.whl.metadata (2.0 kB)\n",
      "Requirement already satisfied: typing-extensions>=4.5.0 in c:\\users\\user\\appdata\\roaming\\python\\python311\\site-packages (from chromadb) (4.12.2)\n",
      "Collecting onnxruntime>=1.14.1 (from chromadb)\n",
      "  Downloading onnxruntime-1.20.1-cp311-cp311-win_amd64.whl.metadata (4.7 kB)\n",
      "Collecting opentelemetry-api>=1.2.0 (from chromadb)\n",
      "  Downloading opentelemetry_api-1.28.2-py3-none-any.whl.metadata (1.4 kB)\n",
      "Collecting opentelemetry-exporter-otlp-proto-grpc>=1.2.0 (from chromadb)\n",
      "  Downloading opentelemetry_exporter_otlp_proto_grpc-1.28.2-py3-none-any.whl.metadata (2.2 kB)\n",
      "Collecting opentelemetry-instrumentation-fastapi>=0.41b0 (from chromadb)\n",
      "  Downloading opentelemetry_instrumentation_fastapi-0.49b2-py3-none-any.whl.metadata (2.1 kB)\n",
      "Collecting opentelemetry-sdk>=1.2.0 (from chromadb)\n",
      "  Downloading opentelemetry_sdk-1.28.2-py3-none-any.whl.metadata (1.5 kB)\n",
      "Requirement already satisfied: tokenizers>=0.13.2 in c:\\users\\user\\appdata\\roaming\\python\\python311\\site-packages (from chromadb) (0.20.1)\n",
      "Collecting pypika>=0.48.9 (from chromadb)\n",
      "  Downloading PyPika-0.48.9.tar.gz (67 kB)\n",
      "  Installing build dependencies: started\n",
      "  Installing build dependencies: finished with status 'done'\n",
      "  Getting requirements to build wheel: started\n",
      "  Getting requirements to build wheel: finished with status 'done'\n",
      "  Preparing metadata (pyproject.toml): started\n",
      "  Preparing metadata (pyproject.toml): finished with status 'done'\n",
      "Requirement already satisfied: tqdm>=4.65.0 in c:\\users\\user\\.conda\\envs\\langchain-env\\lib\\site-packages (from chromadb) (4.67.0)\n",
      "Collecting overrides>=7.3.1 (from chromadb)\n",
      "  Using cached overrides-7.7.0-py3-none-any.whl.metadata (5.8 kB)\n",
      "Requirement already satisfied: importlib-resources in c:\\users\\user\\appdata\\roaming\\python\\python311\\site-packages (from chromadb) (6.4.5)\n",
      "Requirement already satisfied: grpcio>=1.58.0 in c:\\users\\user\\appdata\\roaming\\python\\python311\\site-packages (from chromadb) (1.66.1)\n",
      "Collecting bcrypt>=4.0.1 (from chromadb)\n",
      "  Downloading bcrypt-4.2.1-cp39-abi3-win_amd64.whl.metadata (10 kB)\n",
      "Collecting typer>=0.9.0 (from chromadb)\n",
      "  Downloading typer-0.13.1-py3-none-any.whl.metadata (15 kB)\n",
      "Collecting kubernetes>=28.1.0 (from chromadb)\n",
      "  Downloading kubernetes-31.0.0-py2.py3-none-any.whl.metadata (1.5 kB)\n",
      "Requirement already satisfied: tenacity>=8.2.3 in c:\\users\\user\\.conda\\envs\\langchain-env\\lib\\site-packages (from chromadb) (8.5.0)\n",
      "Requirement already satisfied: PyYAML>=6.0.0 in c:\\users\\user\\.conda\\envs\\langchain-env\\lib\\site-packages (from chromadb) (6.0.2)\n",
      "Requirement already satisfied: mmh3>=4.0.1 in c:\\users\\user\\appdata\\roaming\\python\\python311\\site-packages (from chromadb) (4.1.0)\n",
      "Requirement already satisfied: orjson>=3.9.12 in c:\\users\\user\\appdata\\roaming\\python\\python311\\site-packages (from chromadb) (3.10.7)\n",
      "Requirement already satisfied: httpx>=0.27.0 in c:\\users\\user\\appdata\\roaming\\python\\python311\\site-packages (from chromadb) (0.27.2)\n",
      "Collecting rich>=10.11.0 (from chromadb)\n",
      "  Using cached rich-13.9.4-py3-none-any.whl.metadata (18 kB)\n",
      "Requirement already satisfied: packaging>=19.1 in c:\\users\\user\\appdata\\roaming\\python\\python311\\site-packages (from build>=1.0.3->chromadb) (23.2)\n",
      "Requirement already satisfied: pyproject_hooks in c:\\users\\user\\appdata\\roaming\\python\\python311\\site-packages (from build>=1.0.3->chromadb) (1.1.0)\n",
      "Requirement already satisfied: colorama in c:\\users\\user\\.conda\\envs\\langchain-env\\lib\\site-packages (from build>=1.0.3->chromadb) (0.4.6)\n",
      "Collecting starlette<0.42.0,>=0.40.0 (from fastapi>=0.95.2->chromadb)\n",
      "  Downloading starlette-0.41.3-py3-none-any.whl.metadata (6.0 kB)\n",
      "Requirement already satisfied: anyio in c:\\users\\user\\.conda\\envs\\langchain-env\\lib\\site-packages (from httpx>=0.27.0->chromadb) (4.6.2.post1)\n",
      "Requirement already satisfied: certifi in c:\\users\\user\\.conda\\envs\\langchain-env\\lib\\site-packages (from httpx>=0.27.0->chromadb) (2024.8.30)\n",
      "Requirement already satisfied: httpcore==1.* in c:\\users\\user\\appdata\\roaming\\python\\python311\\site-packages (from httpx>=0.27.0->chromadb) (1.0.5)\n",
      "Requirement already satisfied: idna in c:\\users\\user\\.conda\\envs\\langchain-env\\lib\\site-packages (from httpx>=0.27.0->chromadb) (3.10)\n",
      "Requirement already satisfied: sniffio in c:\\users\\user\\.conda\\envs\\langchain-env\\lib\\site-packages (from httpx>=0.27.0->chromadb) (1.3.1)\n",
      "Requirement already satisfied: h11<0.15,>=0.13 in c:\\users\\user\\appdata\\roaming\\python\\python311\\site-packages (from httpcore==1.*->httpx>=0.27.0->chromadb) (0.14.0)\n",
      "Requirement already satisfied: six>=1.9.0 in c:\\users\\user\\.conda\\envs\\langchain-env\\lib\\site-packages (from kubernetes>=28.1.0->chromadb) (1.16.0)\n",
      "Requirement already satisfied: python-dateutil>=2.5.3 in c:\\users\\user\\.conda\\envs\\langchain-env\\lib\\site-packages (from kubernetes>=28.1.0->chromadb) (2.9.0.post0)\n",
      "Requirement already satisfied: google-auth>=1.0.1 in c:\\users\\user\\appdata\\roaming\\python\\python311\\site-packages (from kubernetes>=28.1.0->chromadb) (2.35.0)\n",
      "Collecting websocket-client!=0.40.0,!=0.41.*,!=0.42.*,>=0.32.0 (from kubernetes>=28.1.0->chromadb)\n",
      "  Using cached websocket_client-1.8.0-py3-none-any.whl.metadata (8.0 kB)\n",
      "Requirement already satisfied: requests in c:\\users\\user\\.conda\\envs\\langchain-env\\lib\\site-packages (from kubernetes>=28.1.0->chromadb) (2.32.3)\n",
      "Collecting requests-oauthlib (from kubernetes>=28.1.0->chromadb)\n",
      "  Using cached requests_oauthlib-2.0.0-py2.py3-none-any.whl.metadata (11 kB)\n",
      "Collecting oauthlib>=3.2.2 (from kubernetes>=28.1.0->chromadb)\n",
      "  Using cached oauthlib-3.2.2-py3-none-any.whl.metadata (7.5 kB)\n",
      "Requirement already satisfied: urllib3>=1.24.2 in c:\\users\\user\\.conda\\envs\\langchain-env\\lib\\site-packages (from kubernetes>=28.1.0->chromadb) (2.2.3)\n",
      "Collecting durationpy>=0.7 (from kubernetes>=28.1.0->chromadb)\n",
      "  Downloading durationpy-0.9-py3-none-any.whl.metadata (338 bytes)\n",
      "Collecting coloredlogs (from onnxruntime>=1.14.1->chromadb)\n",
      "  Downloading coloredlogs-15.0.1-py2.py3-none-any.whl.metadata (12 kB)\n",
      "Requirement already satisfied: flatbuffers in c:\\users\\user\\appdata\\roaming\\python\\python311\\site-packages (from onnxruntime>=1.14.1->chromadb) (24.3.25)\n",
      "Requirement already satisfied: protobuf in c:\\users\\user\\appdata\\roaming\\python\\python311\\site-packages (from onnxruntime>=1.14.1->chromadb) (4.25.5)\n",
      "Requirement already satisfied: sympy in c:\\users\\user\\appdata\\roaming\\python\\python311\\site-packages (from onnxruntime>=1.14.1->chromadb) (1.13.1)\n",
      "Requirement already satisfied: deprecated>=1.2.6 in c:\\users\\user\\.conda\\envs\\langchain-env\\lib\\site-packages (from opentelemetry-api>=1.2.0->chromadb) (1.2.15)\n",
      "Requirement already satisfied: importlib-metadata<=8.5.0,>=6.0 in c:\\users\\user\\.conda\\envs\\langchain-env\\lib\\site-packages (from opentelemetry-api>=1.2.0->chromadb) (8.5.0)\n",
      "Requirement already satisfied: googleapis-common-protos~=1.52 in c:\\users\\user\\appdata\\roaming\\python\\python311\\site-packages (from opentelemetry-exporter-otlp-proto-grpc>=1.2.0->chromadb) (1.65.0)\n",
      "Collecting opentelemetry-exporter-otlp-proto-common==1.28.2 (from opentelemetry-exporter-otlp-proto-grpc>=1.2.0->chromadb)\n",
      "  Downloading opentelemetry_exporter_otlp_proto_common-1.28.2-py3-none-any.whl.metadata (1.8 kB)\n",
      "Collecting opentelemetry-proto==1.28.2 (from opentelemetry-exporter-otlp-proto-grpc>=1.2.0->chromadb)\n",
      "  Downloading opentelemetry_proto-1.28.2-py3-none-any.whl.metadata (2.3 kB)\n",
      "Collecting protobuf (from onnxruntime>=1.14.1->chromadb)\n",
      "  Using cached protobuf-5.28.3-cp310-abi3-win_amd64.whl.metadata (592 bytes)\n",
      "Collecting opentelemetry-instrumentation-asgi==0.49b2 (from opentelemetry-instrumentation-fastapi>=0.41b0->chromadb)\n",
      "  Downloading opentelemetry_instrumentation_asgi-0.49b2-py3-none-any.whl.metadata (1.9 kB)\n",
      "Collecting opentelemetry-instrumentation==0.49b2 (from opentelemetry-instrumentation-fastapi>=0.41b0->chromadb)\n",
      "  Downloading opentelemetry_instrumentation-0.49b2-py3-none-any.whl.metadata (6.1 kB)\n",
      "Collecting opentelemetry-semantic-conventions==0.49b2 (from opentelemetry-instrumentation-fastapi>=0.41b0->chromadb)\n",
      "  Downloading opentelemetry_semantic_conventions-0.49b2-py3-none-any.whl.metadata (2.3 kB)\n",
      "Collecting opentelemetry-util-http==0.49b2 (from opentelemetry-instrumentation-fastapi>=0.41b0->chromadb)\n",
      "  Downloading opentelemetry_util_http-0.49b2-py3-none-any.whl.metadata (2.5 kB)\n",
      "Requirement already satisfied: wrapt<2.0.0,>=1.0.0 in c:\\users\\user\\.conda\\envs\\langchain-env\\lib\\site-packages (from opentelemetry-instrumentation==0.49b2->opentelemetry-instrumentation-fastapi>=0.41b0->chromadb) (1.16.0)\n",
      "Collecting asgiref~=3.0 (from opentelemetry-instrumentation-asgi==0.49b2->opentelemetry-instrumentation-fastapi>=0.41b0->chromadb)\n",
      "  Downloading asgiref-3.8.1-py3-none-any.whl.metadata (9.3 kB)\n",
      "Collecting monotonic>=1.5 (from posthog>=2.4.0->chromadb)\n",
      "  Downloading monotonic-1.6-py2.py3-none-any.whl.metadata (1.5 kB)\n",
      "Collecting backoff>=1.10.0 (from posthog>=2.4.0->chromadb)\n",
      "  Downloading backoff-2.2.1-py3-none-any.whl.metadata (14 kB)\n",
      "Requirement already satisfied: annotated-types>=0.6.0 in c:\\users\\user\\appdata\\roaming\\python\\python311\\site-packages (from pydantic>=1.9->chromadb) (0.7.0)\n",
      "Requirement already satisfied: pydantic-core==2.23.4 in c:\\users\\user\\appdata\\roaming\\python\\python311\\site-packages (from pydantic>=1.9->chromadb) (2.23.4)\n",
      "Collecting markdown-it-py>=2.2.0 (from rich>=10.11.0->chromadb)\n",
      "  Using cached markdown_it_py-3.0.0-py3-none-any.whl.metadata (6.9 kB)\n",
      "Requirement already satisfied: pygments<3.0.0,>=2.13.0 in c:\\users\\user\\.conda\\envs\\langchain-env\\lib\\site-packages (from rich>=10.11.0->chromadb) (2.18.0)\n",
      "Requirement already satisfied: huggingface-hub<1.0,>=0.16.4 in c:\\users\\user\\appdata\\roaming\\python\\python311\\site-packages (from tokenizers>=0.13.2->chromadb) (0.26.1)\n",
      "Requirement already satisfied: click>=8.0.0 in c:\\users\\user\\.conda\\envs\\langchain-env\\lib\\site-packages (from typer>=0.9.0->chromadb) (8.1.7)\n",
      "Requirement already satisfied: shellingham>=1.3.0 in c:\\users\\user\\appdata\\roaming\\python\\python311\\site-packages (from typer>=0.9.0->chromadb) (1.5.4)\n",
      "Collecting httptools>=0.6.3 (from uvicorn[standard]>=0.18.3->chromadb)\n",
      "  Downloading httptools-0.6.4-cp311-cp311-win_amd64.whl.metadata (3.7 kB)\n",
      "Requirement already satisfied: python-dotenv>=0.13 in c:\\users\\user\\.conda\\envs\\langchain-env\\lib\\site-packages (from uvicorn[standard]>=0.18.3->chromadb) (1.0.1)\n",
      "Collecting watchfiles>=0.13 (from uvicorn[standard]>=0.18.3->chromadb)\n",
      "  Downloading watchfiles-0.24.0-cp311-none-win_amd64.whl.metadata (5.0 kB)\n",
      "Collecting websockets>=10.4 (from uvicorn[standard]>=0.18.3->chromadb)\n",
      "  Downloading websockets-14.1-cp311-cp311-win_amd64.whl.metadata (6.9 kB)\n",
      "Collecting cachetools<6.0,>=2.0.0 (from google-auth>=1.0.1->kubernetes>=28.1.0->chromadb)\n",
      "  Using cached cachetools-5.5.0-py3-none-any.whl.metadata (5.3 kB)\n",
      "Collecting pyasn1-modules>=0.2.1 (from google-auth>=1.0.1->kubernetes>=28.1.0->chromadb)\n",
      "  Using cached pyasn1_modules-0.4.1-py3-none-any.whl.metadata (3.5 kB)\n",
      "Requirement already satisfied: rsa<5,>=3.1.4 in c:\\users\\user\\appdata\\roaming\\python\\python311\\site-packages (from google-auth>=1.0.1->kubernetes>=28.1.0->chromadb) (4.9)\n",
      "Collecting filelock (from huggingface-hub<1.0,>=0.16.4->tokenizers>=0.13.2->chromadb)\n",
      "  Using cached filelock-3.16.1-py3-none-any.whl.metadata (2.9 kB)\n",
      "Requirement already satisfied: fsspec>=2023.5.0 in c:\\users\\user\\.conda\\envs\\langchain-env\\lib\\site-packages (from huggingface-hub<1.0,>=0.16.4->tokenizers>=0.13.2->chromadb) (2024.10.0)\n",
      "Requirement already satisfied: zipp>=3.20 in c:\\users\\user\\.conda\\envs\\langchain-env\\lib\\site-packages (from importlib-metadata<=8.5.0,>=6.0->opentelemetry-api>=1.2.0->chromadb) (3.21.0)\n",
      "Collecting mdurl~=0.1 (from markdown-it-py>=2.2.0->rich>=10.11.0->chromadb)\n",
      "  Using cached mdurl-0.1.2-py3-none-any.whl.metadata (1.6 kB)\n",
      "Requirement already satisfied: charset-normalizer<4,>=2 in c:\\users\\user\\.conda\\envs\\langchain-env\\lib\\site-packages (from requests->kubernetes>=28.1.0->chromadb) (3.4.0)\n",
      "Collecting humanfriendly>=9.1 (from coloredlogs->onnxruntime>=1.14.1->chromadb)\n",
      "  Downloading humanfriendly-10.0-py2.py3-none-any.whl.metadata (9.2 kB)\n",
      "Collecting mpmath<1.4,>=1.1.0 (from sympy->onnxruntime>=1.14.1->chromadb)\n",
      "  Using cached mpmath-1.3.0-py3-none-any.whl.metadata (8.6 kB)\n",
      "Collecting pyreadline3 (from humanfriendly>=9.1->coloredlogs->onnxruntime>=1.14.1->chromadb)\n",
      "  Downloading pyreadline3-3.5.4-py3-none-any.whl.metadata (4.7 kB)\n",
      "Collecting pyasn1<0.7.0,>=0.4.6 (from pyasn1-modules>=0.2.1->google-auth>=1.0.1->kubernetes>=28.1.0->chromadb)\n",
      "  Using cached pyasn1-0.6.1-py3-none-any.whl.metadata (8.4 kB)\n",
      "Downloading chromadb-0.5.20-py3-none-any.whl (617 kB)\n",
      "   ---------------------------------------- 0.0/617.9 kB ? eta -:--:--\n",
      "   --------------------------------------- 617.9/617.9 kB 11.5 MB/s eta 0:00:00\n",
      "Downloading chroma_hnswlib-0.7.6-cp311-cp311-win_amd64.whl (151 kB)\n",
      "Downloading bcrypt-4.2.1-cp39-abi3-win_amd64.whl (153 kB)\n",
      "Downloading fastapi-0.115.5-py3-none-any.whl (94 kB)\n",
      "Downloading kubernetes-31.0.0-py2.py3-none-any.whl (1.9 MB)\n",
      "   ---------------------------------------- 0.0/1.9 MB ? eta -:--:--\n",
      "   ---------------------------------------- 1.9/1.9 MB 25.3 MB/s eta 0:00:00\n",
      "Downloading onnxruntime-1.20.1-cp311-cp311-win_amd64.whl (11.3 MB)\n",
      "   ---------------------------------------- 0.0/11.3 MB ? eta -:--:--\n",
      "   --------- ------------------------------ 2.6/11.3 MB 13.7 MB/s eta 0:00:01\n",
      "   ------------------------ --------------- 6.8/11.3 MB 16.8 MB/s eta 0:00:01\n",
      "   ---------------------------------------- 11.3/11.3 MB 18.2 MB/s eta 0:00:00\n",
      "Downloading opentelemetry_api-1.28.2-py3-none-any.whl (64 kB)\n",
      "Downloading opentelemetry_exporter_otlp_proto_grpc-1.28.2-py3-none-any.whl (18 kB)\n",
      "Downloading opentelemetry_exporter_otlp_proto_common-1.28.2-py3-none-any.whl (18 kB)\n",
      "Downloading opentelemetry_proto-1.28.2-py3-none-any.whl (55 kB)\n",
      "Downloading opentelemetry_instrumentation_fastapi-0.49b2-py3-none-any.whl (12 kB)\n",
      "Downloading opentelemetry_instrumentation-0.49b2-py3-none-any.whl (30 kB)\n",
      "Downloading opentelemetry_instrumentation_asgi-0.49b2-py3-none-any.whl (16 kB)\n",
      "Downloading opentelemetry_semantic_conventions-0.49b2-py3-none-any.whl (159 kB)\n",
      "Downloading opentelemetry_util_http-0.49b2-py3-none-any.whl (6.9 kB)\n",
      "Downloading opentelemetry_sdk-1.28.2-py3-none-any.whl (118 kB)\n",
      "Using cached overrides-7.7.0-py3-none-any.whl (17 kB)\n",
      "Downloading posthog-3.7.2-py2.py3-none-any.whl (54 kB)\n",
      "Using cached rich-13.9.4-py3-none-any.whl (242 kB)\n",
      "Downloading typer-0.13.1-py3-none-any.whl (44 kB)\n",
      "Downloading uvicorn-0.32.1-py3-none-any.whl (63 kB)\n",
      "Downloading backoff-2.2.1-py3-none-any.whl (15 kB)\n",
      "Downloading durationpy-0.9-py3-none-any.whl (3.5 kB)\n",
      "Downloading httptools-0.6.4-cp311-cp311-win_amd64.whl (88 kB)\n",
      "Using cached markdown_it_py-3.0.0-py3-none-any.whl (87 kB)\n",
      "Downloading monotonic-1.6-py2.py3-none-any.whl (8.2 kB)\n",
      "Using cached oauthlib-3.2.2-py3-none-any.whl (151 kB)\n",
      "Using cached protobuf-5.28.3-cp310-abi3-win_amd64.whl (431 kB)\n",
      "Downloading starlette-0.41.3-py3-none-any.whl (73 kB)\n",
      "Downloading watchfiles-0.24.0-cp311-none-win_amd64.whl (277 kB)\n",
      "Using cached websocket_client-1.8.0-py3-none-any.whl (58 kB)\n",
      "Downloading websockets-14.1-cp311-cp311-win_amd64.whl (163 kB)\n",
      "Downloading coloredlogs-15.0.1-py2.py3-none-any.whl (46 kB)\n",
      "Using cached requests_oauthlib-2.0.0-py2.py3-none-any.whl (24 kB)\n",
      "Downloading asgiref-3.8.1-py3-none-any.whl (23 kB)\n",
      "Using cached cachetools-5.5.0-py3-none-any.whl (9.5 kB)\n",
      "Downloading humanfriendly-10.0-py2.py3-none-any.whl (86 kB)\n",
      "Using cached mdurl-0.1.2-py3-none-any.whl (10.0 kB)\n",
      "Using cached mpmath-1.3.0-py3-none-any.whl (536 kB)\n",
      "Using cached pyasn1_modules-0.4.1-py3-none-any.whl (181 kB)\n",
      "Using cached filelock-3.16.1-py3-none-any.whl (16 kB)\n",
      "Using cached pyasn1-0.6.1-py3-none-any.whl (83 kB)\n",
      "Downloading pyreadline3-3.5.4-py3-none-any.whl (83 kB)\n",
      "Building wheels for collected packages: pypika\n",
      "  Building wheel for pypika (pyproject.toml): started\n",
      "  Building wheel for pypika (pyproject.toml): finished with status 'done'\n",
      "  Created wheel for pypika: filename=PyPika-0.48.9-py2.py3-none-any.whl size=53834 sha256=e17c4dd65d1337df914fb2d15cae9f730fcc802cf8ea416fb1c8d992d945f9ec\n",
      "  Stored in directory: c:\\users\\user\\appdata\\local\\pip\\cache\\wheels\\a3\\01\\bd\\4c40ceb9d5354160cb186dcc153360f4ab7eb23e2b24daf96d\n",
      "Successfully built pypika\n",
      "Installing collected packages: pypika, mpmath, monotonic, durationpy, websockets, websocket-client, pyreadline3, pyasn1, protobuf, overrides, opentelemetry-util-http, oauthlib, mdurl, httptools, filelock, chroma-hnswlib, cachetools, bcrypt, backoff, asgiref, watchfiles, uvicorn, starlette, requests-oauthlib, pyasn1-modules, posthog, opentelemetry-proto, opentelemetry-api, markdown-it-py, humanfriendly, rich, opentelemetry-semantic-conventions, opentelemetry-exporter-otlp-proto-common, fastapi, coloredlogs, typer, opentelemetry-sdk, opentelemetry-instrumentation, onnxruntime, kubernetes, opentelemetry-instrumentation-asgi, opentelemetry-exporter-otlp-proto-grpc, opentelemetry-instrumentation-fastapi, chromadb\n",
      "  Attempting uninstall: protobuf\n",
      "    Found existing installation: protobuf 4.25.5\n",
      "    Uninstalling protobuf-4.25.5:\n",
      "      Successfully uninstalled protobuf-4.25.5\n",
      "Successfully installed asgiref-3.8.1 backoff-2.2.1 bcrypt-4.2.1 cachetools-5.5.0 chroma-hnswlib-0.7.6 chromadb-0.5.20 coloredlogs-15.0.1 durationpy-0.9 fastapi-0.115.5 filelock-3.16.1 httptools-0.6.4 humanfriendly-10.0 kubernetes-31.0.0 markdown-it-py-3.0.0 mdurl-0.1.2 monotonic-1.6 mpmath-1.3.0 oauthlib-3.2.2 onnxruntime-1.20.1 opentelemetry-api-1.28.2 opentelemetry-exporter-otlp-proto-common-1.28.2 opentelemetry-exporter-otlp-proto-grpc-1.28.2 opentelemetry-instrumentation-0.49b2 opentelemetry-instrumentation-asgi-0.49b2 opentelemetry-instrumentation-fastapi-0.49b2 opentelemetry-proto-1.28.2 opentelemetry-sdk-1.28.2 opentelemetry-semantic-conventions-0.49b2 opentelemetry-util-http-0.49b2 overrides-7.7.0 posthog-3.7.2 protobuf-5.28.3 pyasn1-0.6.1 pyasn1-modules-0.4.1 pypika-0.48.9 pyreadline3-3.5.4 requests-oauthlib-2.0.0 rich-13.9.4 starlette-0.41.3 typer-0.13.1 uvicorn-0.32.1 watchfiles-0.24.0 websocket-client-1.8.0 websockets-14.1\n"
     ]
    },
    {
     "name": "stderr",
     "output_type": "stream",
     "text": [
      "WARNING: Ignoring invalid distribution ~ransformers (C:\\Users\\user\\AppData\\Roaming\\Python\\Python311\\site-packages)\n",
      "WARNING: Ignoring invalid distribution ~ransformers (C:\\Users\\user\\AppData\\Roaming\\Python\\Python311\\site-packages)\n",
      "WARNING: Ignoring invalid distribution ~ransformers (C:\\Users\\user\\AppData\\Roaming\\Python\\Python311\\site-packages)\n",
      "ERROR: pip's dependency resolver does not currently take into account all the packages that are installed. This behaviour is the source of the following dependency conflicts.\n",
      "sentence-transformers 3.2.1 requires scikit-learn, which is not installed.\n",
      "sentence-transformers 3.2.1 requires transformers<5.0.0,>=4.41.0, which is not installed.\n",
      "tensorboard 2.18.0 requires markdown>=2.6.8, which is not installed.\n",
      "tensorboard 2.18.0 requires werkzeug>=1.0.1, which is not installed.\n",
      "torch 2.5.0 requires jinja2, which is not installed.\n",
      "google-ai-generativelanguage 0.6.6 requires protobuf!=3.20.0,!=3.20.1,!=4.21.0,!=4.21.1,!=4.21.2,!=4.21.3,!=4.21.4,!=4.21.5,<5.0.0dev,>=3.19.5, but you have protobuf 5.28.3 which is incompatible.\n",
      "WARNING: Ignoring invalid distribution ~ransformers (C:\\Users\\user\\AppData\\Roaming\\Python\\Python311\\site-packages)\n",
      "WARNING: Ignoring invalid distribution ~ransformers (C:\\Users\\user\\AppData\\Roaming\\Python\\Python311\\site-packages)\n"
     ]
    }
   ],
   "source": [
    "!pip install chromadb"
   ]
  },
  {
   "cell_type": "code",
   "execution_count": 78,
   "metadata": {},
   "outputs": [],
   "source": [
    "# 파일 경로\n",
    "fpath = \"multi-modal/\"\n",
    "fname = \"data/20241121_company_54055000.pdf\""
   ]
  },
  {
   "cell_type": "code",
   "execution_count": null,
   "metadata": {},
   "outputs": [],
   "source": [
    "from langchain_core.output_parsers import StrOutputParser\n",
    "from langchain_core.prompts import ChatPromptTemplate\n",
    "from langchain_openai import ChatOpenAI\n",
    "\n",
    "# 텍스트 요소의 요약 생성\n",
    "\n",
    "\n",
    "def generate_text_summaries(texts, tables, summarize_texts=False):\n",
    "    \"\"\"\n",
    "    텍스트 요소 요약\n",
    "    texts: 문자열 리스트\n",
    "    tables: 문자열 리스트\n",
    "    summarize_texts: 텍스트 요약 여부를 결정. True/False\n",
    "    \"\"\"\n",
    "\n",
    "    # 프롬프트 설정\n",
    "    prompt_text = \"\"\"당신은 테이블과 텍스트를 요약하여 검색을 위해 사용하는 작업을 맡은 어시스턴트입니다. 이 요약은 임베딩되어 원본 텍스트나 테이블 요소를 검색하는 데 사용됩니다. 검색 최적화가 잘 된 간결한 요약을 제공하십시오. Table or text: {element} \"\"\"\n",
    "    prompt = ChatPromptTemplate.from_template(prompt_text)\n",
    "\n",
    "    # 텍스트 요약 체인\n",
    "    model = ChatOpenAI(temperature=0, model=\"gpt-4\")\n",
    "    summarize_chain = {\"element\": lambda x: x} | prompt | model | StrOutputParser()\n",
    "\n",
    "    # 요약을 위한 빈 리스트 초기화\n",
    "    text_summaries = []\n",
    "    table_summaries = []\n",
    "\n",
    "    # 제공된 텍스트에 대해 요약이 요청되었을 경우 적용\n",
    "    if texts and summarize_texts:\n",
    "        text_summaries = summarize_chain.batch(texts, {\"max_concurrency\": 5})\n",
    "    elif texts:\n",
    "        text_summaries = texts\n",
    "\n",
    "    # 제공된 테이블에 적용\n",
    "    if tables:\n",
    "        table_summaries = summarize_chain.batch(tables, {\"max_concurrency\": 5})\n",
    "\n",
    "    return text_summaries, table_summaries\n",
    "\n",
    "\n",
    "# 텍스트, 테이블 요약 가져오기\n",
    "text_summaries, table_summaries = generate_text_summaries(\n",
    "    texts_4k_token, tables, summarize_texts=True\n",
    ")"
   ]
  }
 ],
 "metadata": {
  "kernelspec": {
   "display_name": "langchain-env",
   "language": "python",
   "name": "python3"
  },
  "language_info": {
   "codemirror_mode": {
    "name": "ipython",
    "version": 3
   },
   "file_extension": ".py",
   "mimetype": "text/x-python",
   "name": "python",
   "nbconvert_exporter": "python",
   "pygments_lexer": "ipython3",
   "version": "3.11.9"
  }
 },
 "nbformat": 4,
 "nbformat_minor": 2
}
